{
 "cells": [
  {
   "cell_type": "markdown",
   "metadata": {
    "toc": true
   },
   "source": [
    "<h1>Table of Contents<span class=\"tocSkip\"></span></h1>\n",
    "<div class=\"toc\"><ul class=\"toc-item\"><li><span><a href=\"#Исследование-данных\" data-toc-modified-id=\"Исследование-данных-1\"><span class=\"toc-item-num\">1&nbsp;&nbsp;</span>Исследование данных</a></span><ul class=\"toc-item\"><li><span><a href=\"#Загрузить-файлы-с-данными-и-изучить-общую-информацию\" data-toc-modified-id=\"Загрузить-файлы-с-данными-и-изучить-общую-информацию-1.1\"><span class=\"toc-item-num\">1.1&nbsp;&nbsp;</span>Загрузить файлы с данными и изучить общую информацию</a></span></li></ul></li><li><span><a href=\"#Исследовательский-анализ-данных\" data-toc-modified-id=\"Исследовательский-анализ-данных-2\"><span class=\"toc-item-num\">2&nbsp;&nbsp;</span>Исследовательский анализ данных</a></span><ul class=\"toc-item\"><li><span><a href=\"#Проверим-датасеты-на-предмет-пропусков-и-дубликататов,-откорректируем-при-необходимости\" data-toc-modified-id=\"Проверим-датасеты-на-предмет-пропусков-и-дубликататов,-откорректируем-при-необходимости-2.1\"><span class=\"toc-item-num\">2.1&nbsp;&nbsp;</span>Проверим датасеты на предмет пропусков и дубликататов, откорректируем при необходимости</a></span></li><li><span><a href=\"#Приведем-данные-столбцов-к-нужному-типу\" data-toc-modified-id=\"Приведем-данные-столбцов-к-нужному-типу-2.2\"><span class=\"toc-item-num\">2.2&nbsp;&nbsp;</span>Приведем данные столбцов к нужному типу</a></span></li><li><span><a href=\"#Проверим-все-столбцы-датасетов-по-отдельности\" data-toc-modified-id=\"Проверим-все-столбцы-датасетов-по-отдельности-2.3\"><span class=\"toc-item-num\">2.3&nbsp;&nbsp;</span>Проверим все столбцы датасетов по отдельности</a></span></li><li><span><a href=\"#Для-оценки-корректности-проведения-теста,-проверим:\" data-toc-modified-id=\"Для-оценки-корректности-проведения-теста,-проверим:-2.4\"><span class=\"toc-item-num\">2.4&nbsp;&nbsp;</span>Для оценки корректности проведения теста, проверим:</a></span><ul class=\"toc-item\"><li><span><a href=\"#Совпадение-теста-и-маркетинговых-событий\" data-toc-modified-id=\"Совпадение-теста-и-маркетинговых-событий-2.4.1\"><span class=\"toc-item-num\">2.4.1&nbsp;&nbsp;</span>Совпадение теста и маркетинговых событий</a></span></li></ul></li></ul></li><li><span><a href=\"#Исследовательский-анализ-данных\" data-toc-modified-id=\"Исследовательский-анализ-данных-3\"><span class=\"toc-item-num\">3&nbsp;&nbsp;</span>Исследовательский анализ данных</a></span><ul class=\"toc-item\"><li><span><a href=\"#Объединение-данных\" data-toc-modified-id=\"Объединение-данных-3.1\"><span class=\"toc-item-num\">3.1&nbsp;&nbsp;</span>Объединение данных</a></span></li><li><span><a href=\"#Количество-событий-на-пользователя-одинаково-распределены-в-выборках?\" data-toc-modified-id=\"Количество-событий-на-пользователя-одинаково-распределены-в-выборках?-3.2\"><span class=\"toc-item-num\">3.2&nbsp;&nbsp;</span>Количество событий на пользователя одинаково распределены в выборках?</a></span></li><li><span><a href=\"#Как-число-событий-в-выборках-распределено-по-дням\" data-toc-modified-id=\"Как-число-событий-в-выборках-распределено-по-дням-3.3\"><span class=\"toc-item-num\">3.3&nbsp;&nbsp;</span>Как число событий в выборках распределено по дням</a></span></li><li><span><a href=\"#Как-меняется-конверсия-в-воронке-в-выборках-на-разных-этапах?\" data-toc-modified-id=\"Как-меняется-конверсия-в-воронке-в-выборках-на-разных-этапах?-3.4\"><span class=\"toc-item-num\">3.4&nbsp;&nbsp;</span>Как меняется конверсия в воронке в выборках на разных этапах?</a></span><ul class=\"toc-item\"><li><span><a href=\"#Проверим-у-какого-кол-ва-пользователей-период-тестирования-будет-меньше-14-дней\" data-toc-modified-id=\"Проверим-у-какого-кол-ва-пользователей-период-тестирования-будет-меньше-14-дней-3.4.1\"><span class=\"toc-item-num\">3.4.1&nbsp;&nbsp;</span>Проверим у какого кол-ва пользователей период тестирования будет меньше 14 дней</a></span></li><li><span><a href=\"#Какие-особенности-данных-нужно-учесть,-прежде-чем-приступать-к-A/B-тестированию?\" data-toc-modified-id=\"Какие-особенности-данных-нужно-учесть,-прежде-чем-приступать-к-A/B-тестированию?-3.4.2\"><span class=\"toc-item-num\">3.4.2&nbsp;&nbsp;</span>Какие особенности данных нужно учесть, прежде чем приступать к A/B-тестированию?</a></span></li></ul></li></ul></li><li><span><a href=\"#Оценка-результатов-A/B-тестирования\" data-toc-modified-id=\"Оценка-результатов-A/B-тестирования-4\"><span class=\"toc-item-num\">4&nbsp;&nbsp;</span>Оценка результатов A/B-тестирования</a></span></li></ul></div>"
   ]
  },
  {
   "cell_type": "markdown",
   "metadata": {},
   "source": [
    "# Описание проекта"
   ]
  },
  {
   "cell_type": "markdown",
   "metadata": {},
   "source": [
    "    Задача — провести оценку результатов A/B-теста направленного на тестирование изменений, связанных с внедрением улучшенной рекомендательной системы. \n",
    "    В распоряжении:\n",
    "- датасет с действиями пользователей,\n",
    "- техническое задание, \n",
    "- несколько вспомогательных датасетов.\n",
    "\n",
    "- Оценить корректность проведения теста\n",
    "- Проанализировать результаты теста\n",
    "\n",
    "Для оценки корректности проведения теста, проверить:\n",
    "\n",
    "- пересечение тестовой аудитории с конкурирующим тестом,\n",
    "- совпадение теста и маркетинговых событий, другие проблемы временных границ теста.\n",
    "\n",
    "# Техническое задание\n",
    "\n",
    "- Название теста: `recommender_system_test`;\n",
    "- группы: А — контрольная, B — новая платёжная воронка;\n",
    "- дата запуска: 2020-12-07;\n",
    "- дата остановки набора новых пользователей: 2020-12-21;\n",
    "- дата остановки: 2021-01-04;\n",
    "- аудитория: 15% новых пользователей из региона EU;\n",
    "- назначение теста: тестирование изменений, связанных с внедрением улучшенной рекомендательной системы;\n",
    "- ожидаемое количество участников теста: 6000.\n",
    "- ожидаемый эффект: за 14 дней с момента регистрации пользователи покажут улучшение каждой метрики не менее, чем на 10%:\n",
    "    - конверсии в просмотр карточек товаров — событие `product_page`,\n",
    "    - просмотры корзины — `product_cart`,\n",
    "    - покупки — `purchase`."
   ]
  },
  {
   "cell_type": "markdown",
   "metadata": {},
   "source": [
    "##   Исследование данных"
   ]
  },
  {
   "cell_type": "markdown",
   "metadata": {},
   "source": [
    "### Загрузить файлы с данными и изучить общую информацию"
   ]
  },
  {
   "cell_type": "code",
   "execution_count": null,
   "metadata": {},
   "outputs": [],
   "source": [
    "# импорт библиотек\n",
    "import pandas as pd\n",
    "import numpy as np\n",
    "from scipy import stats as st\n",
    "import math as mth\n",
    "from datetime import datetime, timedelta\n",
    "import datetime as dt\n",
    "import plotly.express as px\n",
    "from plotly import graph_objects as go\n",
    "import plotly.figure_factory as ff\n",
    "from matplotlib import pyplot as plt\n",
    "import seaborn as sns"
   ]
  },
  {
   "cell_type": "code",
   "execution_count": null,
   "metadata": {},
   "outputs": [],
   "source": [
    "# чтение файлов с данными\n",
    "project, events, new_users, participants = (\n",
    "    pd.read_csv('https://code.s3.yandex.net/datasets/ab_project_marketing_events.csv'),\n",
    "    pd.read_csv('https://code.s3.yandex.net/datasets/final_ab_events.csv'),\n",
    "    pd.read_csv('https://code.s3.yandex.net/datasets/final_ab_new_users.csv'),\n",
    "    pd.read_csv('https://code.s3.yandex.net/datasets/final_ab_participants.csv')\n",
    ")"
   ]
  },
  {
   "cell_type": "code",
   "execution_count": null,
   "metadata": {},
   "outputs": [],
   "source": [
    "# выделим название датасетов и сами датасеты \n",
    "data = [('project', project), \n",
    "        ('events', events),\n",
    "        ('new_users', new_users),\n",
    "        ('participants', participants)]"
   ]
  },
  {
   "cell_type": "code",
   "execution_count": null,
   "metadata": {},
   "outputs": [],
   "source": [
    "# выведем первые 5 строк таблиц \n",
    "for i, j in data:\n",
    "    display('Таблица {}:'.format(i), j.head())"
   ]
  },
  {
   "cell_type": "code",
   "execution_count": null,
   "metadata": {},
   "outputs": [],
   "source": [
    "# количество строк и столбцов\n",
    "for i, j in data:\n",
    "    display('Количество строк и столбцов в {}:'.format(i), j.shape)"
   ]
  },
  {
   "cell_type": "code",
   "execution_count": null,
   "metadata": {},
   "outputs": [],
   "source": [
    "# уникальные значения таблиц\n",
    "for i, j in data:\n",
    "    for row in j: \n",
    "        display('Таблица {}'.format(i), '{}'.format(row), j[row].value_counts())"
   ]
  },
  {
   "cell_type": "code",
   "execution_count": null,
   "metadata": {},
   "outputs": [],
   "source": [
    "# общая информация о файлах данных таблиц\n",
    "for i, j in data:\n",
    "    display('Общая информация {}:'.format(i), j.info())   "
   ]
  },
  {
   "cell_type": "markdown",
   "metadata": {},
   "source": [
    "# Выводы"
   ]
  },
  {
   "cell_type": "markdown",
   "metadata": {},
   "source": [
    "В распоряжении датасеты содержащие данные о действиях пользователей, техническое задание и несколько вспомогательных датасетов\n",
    "- `ab_project_marketing_events.csv` - 4 столбца с типом данных object, в датасете 14 строк\n",
    "- `final_ab_new_users.csv`- 4 столбца с типом данных object, в датасете 61732 строк\n",
    "- `final_ab_events.csv`- 4 столбца с типом данных float64(1), object(3), в датасете 440317 строк\n",
    "- `final_ab_participants.csv` - 3 столбца с типом данных object, в датасете 18267 строк\n",
    "\n",
    "`ab_project_marketing_events.csv` — календарь маркетинговых событий на 2020 год.\n",
    "\n",
    "Структура файла:\n",
    "\n",
    "- `name` — название маркетингового события;\n",
    "- `regions` — регионы, в которых будет проводиться рекламная кампания;\n",
    "- `start_dt` — дата начала кампании;\n",
    "- `finish_dt` — дата завершения кампании.\n",
    "\n",
    "`final_ab_new_users.csv` — пользователи, зарегистрировавшиеся с 7 по 21 декабря 2020 года.\n",
    "\n",
    "Структура файла:\n",
    "\n",
    "- `user_id` — идентификатор пользователя;\n",
    "- `first_date` — дата регистрации;\n",
    "- `region` — регион пользователя;\n",
    "- `device` — устройство, с которого происходила регистрация.\n",
    "\n",
    "`final_ab_events.csv` — действия новых пользователей в период с 7 декабря 2020 по 4 января 2021 года.\n",
    "\n",
    "Структура файла:\n",
    "\n",
    "- `user_id` — идентификатор пользователя;\n",
    "- `event_dt` — дата и время покупки;\n",
    "- `event_name` — тип события;\n",
    "- `details` — дополнительные данные о событии. Например, для покупок, `purchase,` в этом поле хранится стоимость покупки в долларах.\n",
    "\n",
    "`final_ab_participants.csv` — таблица участников тестов.\n",
    "\n",
    "Структура файла:\n",
    "\n",
    "- `user_id` — идентификатор пользователя;\n",
    "- `ab_test` — название теста;\n",
    "- `group` — группа пользователя.\n",
    "\n",
    "Необходимо:\n",
    "- привести данные датасетов к нужному типу данных\n",
    "- проверить данные на дубликаты и пропуски\n",
    "- проверить данные с датой на полноту и временной промежуток указанный в ТЗ\n",
    "- все ли пользователи датасетов:\n",
    "-- из одного региона,\n",
    "-- регестрировались с одного устройства,\n",
    "-- зарегестрированы на сайте,\n",
    "-- попали в тест группу один раз"
   ]
  },
  {
   "cell_type": "markdown",
   "metadata": {},
   "source": [
    "##  Исследовательский анализ данных"
   ]
  },
  {
   "cell_type": "markdown",
   "metadata": {},
   "source": [
    "### Проверим датасеты на предмет пропусков и дубликататов, откорректируем при необходимости "
   ]
  },
  {
   "cell_type": "code",
   "execution_count": null,
   "metadata": {},
   "outputs": [],
   "source": [
    "# проверка на дубликаты\n",
    "for i, j in data:\n",
    "    display('Наличие дубликатов в {}:'.format(i), j.duplicated().sum())"
   ]
  },
  {
   "cell_type": "code",
   "execution_count": null,
   "metadata": {},
   "outputs": [],
   "source": [
    "# проверка на пропущенные значения\n",
    "for i, j in data:\n",
    "    display('Пропущенные значения в {}:'.format(i), j.isna().sum())"
   ]
  },
  {
   "cell_type": "markdown",
   "metadata": {},
   "source": [
    "обнаружены пропуски в датасете events в столбце details с дополнительными данными о событии в количестве 377577 событий, далее при расмотрении датасета посмотрим на проспуски"
   ]
  },
  {
   "cell_type": "markdown",
   "metadata": {},
   "source": [
    "### Приведем данные столбцов к нужному типу"
   ]
  },
  {
   "cell_type": "code",
   "execution_count": null,
   "metadata": {},
   "outputs": [],
   "source": [
    "# тип данных таблиц\n",
    "for i, j in data:\n",
    "    display('Тип данных в {}:'.format(i), j.dtypes)"
   ]
  },
  {
   "cell_type": "markdown",
   "metadata": {},
   "source": [
    "преобразование требуют только столбцы с датой во всех фреймах с датой"
   ]
  },
  {
   "cell_type": "code",
   "execution_count": null,
   "metadata": {},
   "outputs": [],
   "source": [
    "# приведем тип данных времени с объект на временной\n",
    "events['event_dt']=events['event_dt'].astype('datetime64')\n",
    "events['event_dt']"
   ]
  },
  {
   "cell_type": "code",
   "execution_count": null,
   "metadata": {},
   "outputs": [],
   "source": [
    "# заменим тип данных, обозначающих дату, с object на временной\n",
    "for data in [new_users['first_date'], project['start_dt'], project['finish_dt']]:\n",
    "    data=data.map(lambda x: dt.datetime.strptime(x, '%Y-%m-%d'))\n",
    "    print(data.dtypes)    "
   ]
  },
  {
   "cell_type": "markdown",
   "metadata": {},
   "source": [
    "### Проверим все столбцы датасетов по отдельности "
   ]
  },
  {
   "cell_type": "markdown",
   "metadata": {},
   "source": [
    "# Датасет project - календарь маркетинговых событий на 2020 год"
   ]
  },
  {
   "cell_type": "code",
   "execution_count": null,
   "metadata": {},
   "outputs": [],
   "source": [
    "# название маркетингового события\n",
    "project['name'].nunique()"
   ]
  },
  {
   "cell_type": "markdown",
   "metadata": {},
   "source": [
    "всего 14 маркетинговых событий"
   ]
  },
  {
   "cell_type": "code",
   "execution_count": null,
   "metadata": {},
   "outputs": [],
   "source": [
    "# регионы, в которых будет проводиться рекламная кампания\n",
    "project['regions'].value_counts()"
   ]
  },
  {
   "cell_type": "markdown",
   "metadata": {},
   "source": [
    "больше всего проводиться рекламная кампания в Азиатско-Тихоокеанский регионе APAC 4 раза"
   ]
  },
  {
   "cell_type": "code",
   "execution_count": null,
   "metadata": {
    "scrolled": true
   },
   "outputs": [],
   "source": [
    "# календарь маркетинговых событий на 2020 год\n",
    "# определим доступный  интервал даты в данных таблиц дата начала кампании  & завершения кампании \n",
    "for data in [project['start_dt'], project['finish_dt']]:\n",
    "    print('с', min(data),'по', max(data))    "
   ]
  },
  {
   "cell_type": "markdown",
   "metadata": {},
   "source": [
    "видим не соответствие в периоде, календарь маркетинговых событий на 2020 год по периоду не соответствует, так как у нас данные до 2021-01-07"
   ]
  },
  {
   "cell_type": "code",
   "execution_count": null,
   "metadata": {},
   "outputs": [],
   "source": [
    "# создадим общую функцию для гистограмм\n",
    "def chart(fig, title,yaxis_title,xaxis_title):\n",
    "    fig = fig\n",
    "    fig.update_layout(\n",
    "    width=700,\n",
    "    height=400,\n",
    "    title=title,\n",
    "    yaxis_title=yaxis_title,\n",
    "    xaxis_title=xaxis_title\n",
    "    )\n",
    "    fig.show()"
   ]
  },
  {
   "cell_type": "code",
   "execution_count": null,
   "metadata": {},
   "outputs": [],
   "source": [
    "# гистограмма по дате и времени начала кампании\n",
    "chart(px.histogram(project, x=\"start_dt\"),\n",
    "      'Гистограмма по дате',\n",
    "      'Частота',\n",
    "      'Дата')"
   ]
  },
  {
   "cell_type": "markdown",
   "metadata": {},
   "source": [
    "данные начала кампании полные период не выход за рамки ТЗ"
   ]
  },
  {
   "cell_type": "code",
   "execution_count": null,
   "metadata": {
    "scrolled": true
   },
   "outputs": [],
   "source": [
    "# гистограмма по дате и времени завершения кампании\n",
    "chart(px.histogram(project, x=\"finish_dt\"),\n",
    "      'Гистограмма по дате',\n",
    "      'Частота',\n",
    "      'Дата')"
   ]
  },
  {
   "cell_type": "markdown",
   "metadata": {},
   "source": [
    "гисторграмма наглядно подтветждает несоответвие в периоде завершения кампании"
   ]
  },
  {
   "cell_type": "markdown",
   "metadata": {},
   "source": [
    "# Датасет events - действия новых пользователей в период с 7 декабря 2020 по 4 января "
   ]
  },
  {
   "cell_type": "code",
   "execution_count": null,
   "metadata": {},
   "outputs": [],
   "source": [
    "# количество пользователей\n",
    "events['user_id'].nunique()"
   ]
  },
  {
   "cell_type": "code",
   "execution_count": null,
   "metadata": {},
   "outputs": [],
   "source": [
    "# период данных дата и время покупки действия новых пользователей в период с 7 декабря 2020 по 4 января \n",
    "print(np.max(events['event_dt']) - np.min(events['event_dt']))"
   ]
  },
  {
   "cell_type": "code",
   "execution_count": null,
   "metadata": {
    "scrolled": true
   },
   "outputs": [],
   "source": [
    "# определим доступный интервал дата и время покупки\n",
    "print('с', np.min(events['event_dt']),'по', np.max(events['event_dt']))"
   ]
  },
  {
   "cell_type": "markdown",
   "metadata": {},
   "source": [
    "видим несоответсвие, в датасете время покупки действия новых пользователей в период с 7 декабря 2020 по 4 января 2021 , фактически у нас данные по 2020-12-30"
   ]
  },
  {
   "cell_type": "code",
   "execution_count": null,
   "metadata": {},
   "outputs": [],
   "source": [
    "# гистограмма по дате и времени\n",
    "chart(px.histogram(events, x=\"event_dt\"),\n",
    "      'Гистограмма по дате и времени',\n",
    "      'Частота',\n",
    "      'Дата')"
   ]
  },
  {
   "cell_type": "markdown",
   "metadata": {},
   "source": [
    "гистограмма наглядно подтверждает несоответствие в периоде данных, у нас данные только по 30 декабря 2020 года, также видим возрастающую активность пользователей с 12 декабря, подготовка к Рождественским праздникам, с пиком событий на 21 декабря и после снижение активности до конца имеющего периода"
   ]
  },
  {
   "cell_type": "code",
   "execution_count": null,
   "metadata": {},
   "outputs": [],
   "source": [
    "# посчитаем событий \n",
    "event_name=pd.concat([events['event_name'].value_counts(),\\\n",
    "                 events['event_name'].value_counts(normalize=True)], axis=1)\n",
    "event_name.columns=['count', 'ratio']\n",
    "event_name.style.format({'ratio':'{:.2%}'}).background_gradient(cmap='Blues', axis=0)"
   ]
  },
  {
   "cell_type": "markdown",
   "metadata": {},
   "source": [
    "больше всего событий с авторизацией более 43%"
   ]
  },
  {
   "cell_type": "code",
   "execution_count": null,
   "metadata": {},
   "outputs": [],
   "source": [
    "# посчитаем пользователей в событиях \n",
    "event_user=pd.concat([events.groupby('event_name')['user_id'].nunique(),\\\n",
    "                 events.groupby('event_name')['user_id'].nunique()/\n",
    "                     events['user_id'].nunique()], axis=1)\n",
    "event_user.columns=['count', 'ratio']\n",
    "event_user.reset_index().sort_values(by='ratio',  ascending=False)\\\n",
    "    .style.format({'ratio':'{:.2%}'}).background_gradient(cmap='Blues', axis=0)"
   ]
  },
  {
   "cell_type": "code",
   "execution_count": null,
   "metadata": {},
   "outputs": [],
   "source": [
    "# посчитаем пользователей без регистрации\n",
    "(events['user_id'].nunique()-\n",
    "                    events.query('event_name == \"login\"')['user_id'].nunique()\n",
    ")"
   ]
  },
  {
   "cell_type": "markdown",
   "metadata": {},
   "source": [
    "таких пользователей у нас 6 и составляет 0.01%, возможно это произошло из-за ошибки в логировании действий, пока оставим как есть"
   ]
  },
  {
   "cell_type": "code",
   "execution_count": null,
   "metadata": {
    "scrolled": false
   },
   "outputs": [],
   "source": [
    "# количество событий для каждого пользователя в статистической сводке\n",
    "events.groupby('user_id')['event_name'].count().describe().round(0)"
   ]
  },
  {
   "cell_type": "markdown",
   "metadata": {},
   "source": [
    "по статистической сводке видим, что медиана 6, среднее 8, различия не большое, выбросы есть в не большом количестве"
   ]
  },
  {
   "cell_type": "code",
   "execution_count": null,
   "metadata": {
    "scrolled": false
   },
   "outputs": [],
   "source": [
    "# визуализируем расчет выше\n",
    "user=events.groupby('user_id')['event_name'].count()\n",
    "chart(px.box(user, y=\"event_name\"),\n",
    "      'Среднее количество событий на одного пользователя',\n",
    "      'Количество пользователей',\n",
    "     '')"
   ]
  },
  {
   "cell_type": "markdown",
   "metadata": {},
   "source": [
    "По интерквартильному размаху видно, что медиана расположена низко, это из-за выбросов с большим количеством событий на одного пользователя. В среднем приходится 6 событий на одного пользователя. "
   ]
  },
  {
   "cell_type": "code",
   "execution_count": null,
   "metadata": {
    "scrolled": false
   },
   "outputs": [],
   "source": [
    "# посчитаем количество событий для каждого пользователя\n",
    "user_events=events.pivot_table(index='user_id', values='event_name', aggfunc='count')\n",
    "user_events.columns = ['event_count']\n",
    "user_events.sort_values(by='event_count', ascending=False).reset_index() #.style.background_gradient(cmap='Blues', axis=0)"
   ]
  },
  {
   "cell_type": "markdown",
   "metadata": {},
   "source": [
    "на каждого пользователя приходится от 1 до 36 событий"
   ]
  },
  {
   "cell_type": "code",
   "execution_count": null,
   "metadata": {
    "scrolled": false
   },
   "outputs": [],
   "source": [
    "# объеденим седения о количестве событий на пользователя с основным датасетом\n",
    "events = events.merge(user_events, on='user_id')\n",
    "events.head(2)"
   ]
  },
  {
   "cell_type": "code",
   "execution_count": null,
   "metadata": {},
   "outputs": [],
   "source": [
    "# посмотрим какие события у  пользователей\n",
    "(events.pivot_table(index='event_count', columns='event_name', values='user_id',aggfunc='count')\n",
    "     .reindex(columns=['login', 'product_page', 'product_cart', 'purchase'])\n",
    "     .style.format('{:.0f}').background_gradient(cmap='Blues', axis=1)\n",
    ")"
   ]
  },
  {
   "cell_type": "markdown",
   "metadata": {},
   "source": [
    "судя по полученным данным, произошла ошибка в выгрузке, так как видно много не состыковок в событиях, где количиство по всем событиям одинаковое или отсутствуют события по карточке товара и странице товара, зато есть покупки, также много событий где покупка наступает раньше карточки товара или просто гибкая воронка"
   ]
  },
  {
   "cell_type": "code",
   "execution_count": null,
   "metadata": {
    "scrolled": true
   },
   "outputs": [],
   "source": [
    "# уникальные значения в деталях событий\n",
    "events['details'].unique()"
   ]
  },
  {
   "cell_type": "markdown",
   "metadata": {},
   "source": [
    "рассмотрим найденные пропущенные значения nan"
   ]
  },
  {
   "cell_type": "code",
   "execution_count": null,
   "metadata": {},
   "outputs": [],
   "source": [
    "# посмотрим в каких событиях присутствует nan\n",
    "events.groupby('event_name')['details'].value_counts(dropna = False)"
   ]
  },
  {
   "cell_type": "markdown",
   "metadata": {},
   "source": [
    "NaN присутствует в событиях login, product_cart, product_page не относящихся к покупке, можно не менять"
   ]
  },
  {
   "cell_type": "markdown",
   "metadata": {},
   "source": [
    "# Датасет new_users - пользователи, зарегистрировавшиеся с 7 по 21 декабря 2020 года"
   ]
  },
  {
   "cell_type": "code",
   "execution_count": null,
   "metadata": {},
   "outputs": [],
   "source": [
    "# пользователи, зарегистрировавшиеся с 7 по 21 декабря 2020 года\n",
    "new_users['user_id'].nunique()"
   ]
  },
  {
   "cell_type": "code",
   "execution_count": null,
   "metadata": {
    "scrolled": false
   },
   "outputs": [],
   "source": [
    "# посчитаем регион пользователя\n",
    "users_region=pd.concat([new_users['region'].value_counts(),\\\n",
    "                 new_users['region'].value_counts(normalize=True)], axis=1)\n",
    "users_region.columns=['count', 'ratio']\n",
    "users_region.style.format({'ratio':'{:.2%}'}).background_gradient(cmap='Blues', axis=0)"
   ]
  },
  {
   "cell_type": "code",
   "execution_count": null,
   "metadata": {},
   "outputs": [],
   "source": [
    "# доля региона пользователя\n",
    "chart(go.Figure(data=[go.Pie(labels=new_users['region'].value_counts().index,\n",
    "                             values=new_users['region'].value_counts())]),      \n",
    "      'График доли регионов пользователя;', '','')"
   ]
  },
  {
   "cell_type": "markdown",
   "metadata": {},
   "source": [
    "больше всего рекламная кампания будет проводится в Европе 75%"
   ]
  },
  {
   "cell_type": "code",
   "execution_count": null,
   "metadata": {
    "scrolled": true
   },
   "outputs": [],
   "source": [
    "# посчитаем устройство, с которого происходила регистрация \n",
    "users_device=pd.concat([new_users['device'].value_counts(),\\\n",
    "                 new_users['device'].value_counts(normalize=True)], axis=1)\n",
    "users_device.columns=['count', 'ratio']\n",
    "users_device.style.format({'ratio':'{:.2%}'}).background_gradient(cmap='Blues', axis=0)"
   ]
  },
  {
   "cell_type": "code",
   "execution_count": null,
   "metadata": {},
   "outputs": [],
   "source": [
    "# доля устройств, с которых происходила регистрация \n",
    "chart(go.Figure(data=[go.Pie(labels=new_users['device'].value_counts().index,\n",
    "                             values=new_users['device'].value_counts())]),      \n",
    "      'График доли устройств, с которых происходила регистрация ', '','')"
   ]
  },
  {
   "cell_type": "markdown",
   "metadata": {},
   "source": [
    "больше всего пользователей регистрировались с устройства Android более 44%"
   ]
  },
  {
   "cell_type": "code",
   "execution_count": null,
   "metadata": {},
   "outputs": [],
   "source": [
    "# проверим, все ли пользователи регистрировались с одного устройства и из одного региона\n",
    "new_users.pivot_table( index='user_id', values=['device', 'region'],\n",
    "                                 aggfunc='nunique').value_counts()"
   ]
  },
  {
   "cell_type": "markdown",
   "metadata": {},
   "source": [
    "все пользователи регистрировались с одного устройства и из одного региона"
   ]
  },
  {
   "cell_type": "code",
   "execution_count": null,
   "metadata": {
    "scrolled": true
   },
   "outputs": [],
   "source": [
    "# посмотрим каким периодом располагаем\n",
    "print('с', min(new_users['first_date']),'по', max(new_users['first_date']))  "
   ]
  },
  {
   "cell_type": "markdown",
   "metadata": {},
   "source": [
    "в датасете должны быть пользователи, зарегистрировавшиеся с 7 по 21 декабря 2020 года, у нас данные по 23 декабря, на 2 дня больше, также можно отметить, что новые пользователи из events у нас по 30 декабря а не по 4 января"
   ]
  },
  {
   "cell_type": "code",
   "execution_count": null,
   "metadata": {},
   "outputs": [],
   "source": [
    "# для удобства переведем дату регистрации в дни\n",
    "new_users['first_day']=pd.to_datetime(new_users['first_date']).dt.day "
   ]
  },
  {
   "cell_type": "code",
   "execution_count": null,
   "metadata": {
    "scrolled": true
   },
   "outputs": [],
   "source": [
    "# гистограмма по дате и времени\n",
    "chart(px.histogram(new_users, x=\"first_date\", nbins=30),\n",
    "      'Гистограмма по дате',\n",
    "      'Частота',\n",
    "      'Дата')"
   ]
  },
  {
   "cell_type": "markdown",
   "metadata": {},
   "source": [
    "данные полные, но событий больше на 2 дня, чем указано в ТЗ"
   ]
  },
  {
   "cell_type": "markdown",
   "metadata": {},
   "source": [
    "# Датасет participants - таблица участников тестов"
   ]
  },
  {
   "cell_type": "code",
   "execution_count": null,
   "metadata": {},
   "outputs": [],
   "source": [
    "# таблица участников тестов\n",
    "participants['user_id'].nunique()"
   ]
  },
  {
   "cell_type": "code",
   "execution_count": null,
   "metadata": {},
   "outputs": [],
   "source": [
    "# посчитаем  пользователей в тестах \n",
    "participants_ab_test=pd.concat([participants['ab_test'].value_counts(),\\\n",
    "                 participants['ab_test'].value_counts(normalize=True)], axis=1)\n",
    "participants_ab_test.columns=['count', 'ratio']\n",
    "participants_ab_test.style.format({'ratio':'{:.2%}'}).background_gradient(cmap='Blues', axis=0)"
   ]
  },
  {
   "cell_type": "markdown",
   "metadata": {},
   "source": [
    "в групе interface_eu_test событий больше 63%, проверим сколько раз пользователи попали в тест группу"
   ]
  },
  {
   "cell_type": "code",
   "execution_count": null,
   "metadata": {
    "scrolled": true
   },
   "outputs": [],
   "source": [
    "# посчитаем участников тестов А — контрольная, B — новая платёжная воронка\n",
    "participants_group=pd.concat([participants['group'].value_counts(),\\\n",
    "                 participants['group'].value_counts(normalize=True)], axis=1)\n",
    "participants_group.columns=['count', 'ratio']\n",
    "participants_group.style.format({'ratio':'{:.2%}'}).background_gradient(cmap='Blues', axis=0)"
   ]
  },
  {
   "cell_type": "markdown",
   "metadata": {},
   "source": [
    "в группе А — контрольная более 52% пользователей, проверим сколько раз пользователи попали в контрольную группу"
   ]
  },
  {
   "cell_type": "code",
   "execution_count": null,
   "metadata": {},
   "outputs": [],
   "source": [
    "# посмотрим, сколько раз пользователь попал в тест и сколько раз он попал в группу\n",
    "participants_group = participants.pivot_table(index='user_id', values=['ab_test','group'],\n",
    "                                 aggfunc='nunique').value_counts().reset_index() \n",
    "participants_group['ratio']=participants_group[0]/participants['user_id'].nunique()\n",
    "participants_group=participants_group.rename(columns={0: 'user'})\n",
    "participants_group.sort_values(by='ratio',  ascending=False)\\\n",
    "                     .style.format({'ratio':'{:.1%}'})\\\n",
    "                    .background_gradient(cmap='Blues', axis=0) "
   ]
  },
  {
   "cell_type": "markdown",
   "metadata": {},
   "source": [
    "в обе контрольные группы попало 776 пользователей, в группы ab_test 826 пользователей, для дальнейшего корректного исследования удалим пользователей из ab_test попавших в обе группы"
   ]
  },
  {
   "cell_type": "code",
   "execution_count": null,
   "metadata": {},
   "outputs": [],
   "source": [
    "# выделим всех пользователей кто попал один раз в тест  группу ab_test\n",
    "ab_test_group=participants.pivot_table( index='user_id', values='ab_test',\n",
    "                                 aggfunc='nunique').query('ab_test == 1')\n",
    "ab_test_group.columns = ['ab_test_group']\n",
    "ab_test_group.reset_index()"
   ]
  },
  {
   "cell_type": "code",
   "execution_count": null,
   "metadata": {},
   "outputs": [],
   "source": [
    "# объеденим седения о количестве пользователей кто попал один раз в тест группу с основным датасетом\n",
    "participants = participants.merge(ab_test_group, on='user_id')\n",
    "events.head(2)"
   ]
  },
  {
   "cell_type": "code",
   "execution_count": null,
   "metadata": {
    "scrolled": true
   },
   "outputs": [],
   "source": [
    "# проверим участников тестов\n",
    "participants.pivot_table(index='user_id', values=['ab_test','group'],\n",
    "                                 aggfunc='nunique').value_counts()"
   ]
  },
  {
   "cell_type": "markdown",
   "metadata": {},
   "source": [
    "пользователи находятся в одном тесте и одной группе, данные не пересекаются"
   ]
  },
  {
   "cell_type": "code",
   "execution_count": null,
   "metadata": {
    "scrolled": true
   },
   "outputs": [],
   "source": [
    "# посчитаем участников групп А — контрольная, B — новая платёжная воронка;\n",
    "participants_group=pd.concat([participants['group'].value_counts(),\\\n",
    "                 participants['group'].value_counts(normalize=True)], axis=1)\n",
    "participants_group.columns=['count', 'ratio']\n",
    "participants_group.style.format({'ratio':'{:.2%}'}).background_gradient(cmap='Blues', axis=0)"
   ]
  },
  {
   "cell_type": "markdown",
   "metadata": {},
   "source": [
    "пользователей стало меньше "
   ]
  },
  {
   "cell_type": "code",
   "execution_count": null,
   "metadata": {},
   "outputs": [],
   "source": [
    "# посчитаем  пользователей в тестах \n",
    "participants_ab_test=pd.concat([participants['ab_test'].value_counts(),\\\n",
    "                 participants['ab_test'].value_counts(normalize=True)], axis=1)\n",
    "participants_ab_test.columns=['count', 'ratio']\n",
    "participants_ab_test.style.format({'ratio':'{:.2%}'}).background_gradient(cmap='Blues', axis=0)"
   ]
  },
  {
   "cell_type": "markdown",
   "metadata": {},
   "source": [
    "по ТЗ в рекомендованном тесте recommender_system_test ожидаемое количество участников теста: 6000 пользователей, полученный результат 5099 пользователей не соответствует ТЗ, но и оставлять пользователей в двух группах нельзя, поэтому будем проводить тест с таким количеством"
   ]
  },
  {
   "cell_type": "markdown",
   "metadata": {},
   "source": [
    "### Для оценки корректности проведения теста, проверим:"
   ]
  },
  {
   "cell_type": "markdown",
   "metadata": {},
   "source": [
    "####  Совпадение теста и маркетинговых событий"
   ]
  },
  {
   "cell_type": "code",
   "execution_count": null,
   "metadata": {
    "scrolled": false
   },
   "outputs": [],
   "source": [
    "#  проверим, влияют ли маркетинговые события по наименованиям на пользователей\n",
    "total = pd.DataFrame([\n",
    "    dict(Task=\"Start\", Start='2020-01-25', Finish='2020-12-30', Completion_pct=50),\n",
    "    dict(Task=\"Finish\", Start='2020-02-07', Finish='2021-01-04', Completion_pct=75),\n",
    "    dict(Task=\"Task\", Start='2020-12-07', Finish='2020-12-30', Completion_pct=25)\n",
    "])\n",
    "fig = px.timeline(total, x_start=\"Start\", x_end=\"Finish\", y=\"Task\", color=\"Completion_pct\")\n",
    "fig.update_yaxes(autorange=\"reversed\")\n",
    "fig.show()"
   ]
  },
  {
   "cell_type": "markdown",
   "metadata": {},
   "source": [
    "пересечение небольшое есть, посмотрим на них по наименованию маркетингового события"
   ]
  },
  {
   "cell_type": "code",
   "execution_count": null,
   "metadata": {},
   "outputs": [],
   "source": [
    "# проверим, влияют ли маркетинговые события по названиям на пользователей\n",
    "promo = project[['name',  'start_dt', 'finish_dt']] \n",
    "new_row = {'name':'test', 'start_dt':'2020-12-07', 'finish_dt': '2021-01-04'}\n",
    "#3o6a6uM HoGyto 3anucb test 6 promo\n",
    "promo = promo.append(new_row, ignore_index=True)\n",
    "promo.columns=['Task', 'Start', 'Finish']\n",
    "#nocmpoeHue duaepciMMbi ToHmmo\n",
    "fig = ff.create_gantt(promo)\n",
    "fig.show()\n"
   ]
  },
  {
   "cell_type": "markdown",
   "metadata": {},
   "source": [
    "видим, что в период проведения теста пересечение только по рождественская акция Christmas&New Year Promo, сложно сделать вывод о влиянии, у нас нет информации, возможно участники теста не участвовали в таких событиях. "
   ]
  },
  {
   "cell_type": "markdown",
   "metadata": {},
   "source": [
    "# Вывод"
   ]
  },
  {
   "cell_type": "markdown",
   "metadata": {},
   "source": [
    "- дубликаты не обнаружены\n",
    "- пропуски выявились в датасете events в с данными о событиях в количестве 377577\n",
    "- преобразование требуют только столбцы с датой во всех фреймах с датой\n",
    "- Датасет project - — календарь маркетинговых событий на 2020 год\n",
    "-- всего 14 маркетинговых событий\n",
    "-- больше всего проводиться рекламная кампания в Азиатско-Тихоокеанский регионе APAC 4 раза\n",
    "-- видим не соответствие в периоде, календарь маркетинговых событий на 2020 год по периоду не соответствует, так как период завершения кампании захватывает 2021 год, данные до 2021-01-07\n",
    "- Датасет events - действия новых пользователей в период с 7 декабря 2020 по 4 января \n",
    "-- всего пользователей 58703\n",
    "-- данные с 2020-12-07 00:00:33 по 2020-12-30 23:36:33 не полные, а должны быть по ТЗ по 4.01\n",
    "-- больше всего событий с авторизацией более 43%\n",
    "-- обнаружены 6 пользователей незарегестрированных на сайте, возможно из-за ошибки в логировании действий пользователей, оставим как есть\n",
    "-- NaN присутствует в событиях login, product_cart, product_page не относящихся к покупке, остаивм как есть\n",
    "- Датасет new_users - пользователи, зарегистрировавшиеся с 7 по 21 декабря 2020 года\n",
    "-- всего пользователи из 4 регионов, больше всего пользователей из Европы EU, почти 75%\n",
    "-- регестрировались пользователи с 4 видов устройств, больше всего пользователей с регестрировалось с устройства Android более 44%\n",
    "-- все пользователи регестрировались с одного устройства и из одного региона\n",
    "-- в датасете должны быть пользователи, зарегистрировавшиеся с 7 по 21 декабря 2020 года, у нас данные по 23 декабря, на 2 дня больше\n",
    "- Датасет participants - таблица участников тестов\n",
    "-- в групе interface_eu_test событий больше 63%\n",
    "-- в обе контрольные группы попало 776 пользователей, в тесты ab_test 826 пользователей, для дальнейшего корректного исследования удалим пользователей из ab_test попавших в обе группы\n",
    "-- после удаления пересекающихся пользователей в тестах, распределение в группе можно считать нормальным\n",
    "-- по ТЗ в рекомендованном тесте recommender_system_test ожидаемое количество участников теста: 6000 пользователей, полученный результат 5099 пользователей не соответствует ТЗ, но и оставлять пользователей в двух группах нельзя, поэтому будем проводить тест с таким количеством\n",
    "- видим, что в период проведения теста пересечение только по рождественская акция Christmas&New Year Promo, сложно сделать вывод о влиянии, у нас нет информации, возможно участники теста не участвовали в таких событиях. "
   ]
  },
  {
   "cell_type": "markdown",
   "metadata": {},
   "source": [
    "## Исследовательский анализ данных"
   ]
  },
  {
   "cell_type": "markdown",
   "metadata": {},
   "source": [
    "### Объединение данных"
   ]
  },
  {
   "cell_type": "markdown",
   "metadata": {},
   "source": [
    "напомним количество новых и старых пользователей"
   ]
  },
  {
   "cell_type": "code",
   "execution_count": null,
   "metadata": {},
   "outputs": [],
   "source": [
    "# новые пользователи\n",
    "new_users['user_id'].nunique()"
   ]
  },
  {
   "cell_type": "code",
   "execution_count": null,
   "metadata": {},
   "outputs": [],
   "source": [
    "# старые пользователи\n",
    "events['user_id'].nunique()"
   ]
  },
  {
   "cell_type": "code",
   "execution_count": null,
   "metadata": {},
   "outputs": [],
   "source": [
    "# проверим все ли пользователи из одинаковые из датасетов  events и new_users\n",
    "len(set(events['user_id'].unique()) & set(new_users['user_id'].unique()))"
   ]
  },
  {
   "cell_type": "code",
   "execution_count": null,
   "metadata": {
    "scrolled": false
   },
   "outputs": [],
   "source": [
    "# разница в количестве новых и старых пользователей\n",
    "new_users['user_id'].nunique()-events['user_id'].nunique()"
   ]
  },
  {
   "cell_type": "markdown",
   "metadata": {},
   "source": [
    "если объеденим датасеты по новым пользователям, то тогда у 3030 пользователей не  будет событий, они будут неинформативны, в дальнейшем их придется все-равно удалить, поэтому объеденим new_users с events"
   ]
  },
  {
   "cell_type": "code",
   "execution_count": null,
   "metadata": {
    "scrolled": true
   },
   "outputs": [],
   "source": [
    "# объеденим датасеты с старыми и новыми  пользователями \n",
    "total = pd.merge(events, new_users, on = 'user_id')\n",
    "total['user_id'].nunique()"
   ]
  },
  {
   "cell_type": "code",
   "execution_count": null,
   "metadata": {},
   "outputs": [],
   "source": [
    "# количество участников тестов после удаления пересекающихся пользователей в тестах\n",
    "participants['user_id'].nunique()"
   ]
  },
  {
   "cell_type": "code",
   "execution_count": null,
   "metadata": {},
   "outputs": [],
   "source": [
    "# проверим все ли пользователи одинаковые из датасетов  участников тестов и объедененного\n",
    "user_test=len(set(participants['user_id'].unique()) & set(total['user_id'].unique()))\n",
    "user_test"
   ]
  },
  {
   "cell_type": "code",
   "execution_count": null,
   "metadata": {},
   "outputs": [],
   "source": [
    "# разница в количестве объединенных данных и участников тестов по пользователям\n",
    "total['user_id'].nunique() - participants['user_id'].nunique()"
   ]
  },
  {
   "cell_type": "markdown",
   "metadata": {},
   "source": [
    "пользователи исчезают на глазах, объеденим датасеты, также если объеденим датасеты по объединенным данным пользователям, то тогда у 43639 пользователей не будут  событий в тесте, они будут неинформативны, в дальнейшем их придется все-равно удалить, поэтому объеденим total с participants"
   ]
  },
  {
   "cell_type": "code",
   "execution_count": null,
   "metadata": {
    "scrolled": true
   },
   "outputs": [],
   "source": [
    "# объеденим датасеты total с participants\n",
    "total_users=pd.merge(total, participants, on = 'user_id')\n",
    "total_users.nunique()"
   ]
  },
  {
   "cell_type": "markdown",
   "metadata": {},
   "source": [
    "после объединения данных по всем датасетам пользователей осталось 12751"
   ]
  },
  {
   "cell_type": "code",
   "execution_count": null,
   "metadata": {
    "scrolled": true
   },
   "outputs": [],
   "source": [
    "# посчитаем пользователей в событиях \n",
    "total_users_event=pd.concat([total_users.groupby('event_name')['user_id'].nunique(),\\\n",
    "                 total_users.groupby('event_name')['user_id'].nunique()/\n",
    "                     total_users['user_id'].nunique()], axis=1)\n",
    "total_users_event.columns=['count', 'ratio']\n",
    "total_users_event.reset_index().sort_values(by='ratio',  ascending=False)\\\n",
    "    .style.format({'ratio':'{:.2%}'}).background_gradient(cmap='Blues', axis=0)"
   ]
  },
  {
   "cell_type": "code",
   "execution_count": null,
   "metadata": {
    "scrolled": true
   },
   "outputs": [],
   "source": [
    "print('Количество пользователей без регистрации: {:.0f}'\\\n",
    "        .format(total_users['user_id'].nunique()-\n",
    "                total_users.query('event_name == \"login\"')['user_id'].nunique()))\n",
    "print('Доля пользователей без регистрации: {:.1%}'\\\n",
    "    .format(1-total_users.query('event_name == \"login\"')['user_id'].nunique()/\n",
    "              total_users['user_id'].nunique()))"
   ]
  },
  {
   "cell_type": "markdown",
   "metadata": {},
   "source": [
    "этот пользователь совершил покупку без регистрации"
   ]
  },
  {
   "cell_type": "code",
   "execution_count": null,
   "metadata": {
    "scrolled": false
   },
   "outputs": [],
   "source": [
    "# посчитаем  пользователей в тестах \n",
    "participants_ab_test=pd.concat([total_users.groupby('ab_test')['user_id'].nunique(),\\\n",
    "                 total_users.groupby('ab_test')['user_id'].nunique()/\n",
    "                 total_users['user_id'].nunique()], axis=1)\n",
    "participants_ab_test.columns=['count', 'ratio']\n",
    "participants_ab_test.style.format({'ratio':'{:.2%}'}).background_gradient(cmap='Blues', axis=0)"
   ]
  },
  {
   "cell_type": "markdown",
   "metadata": {},
   "source": [
    "получается, что из рекомендованного теста у нас только 2788 пользователей, никак не 6000 пользователей "
   ]
  },
  {
   "cell_type": "code",
   "execution_count": null,
   "metadata": {
    "scrolled": true
   },
   "outputs": [],
   "source": [
    "# выделим в отдельный столбец пользователей с recommender_system_test\n",
    "user_recommender=total_users.query('ab_test == \"recommender_system_test\"').pivot_table(index='user_id', values='event_name', aggfunc='count')\n",
    "user_recommender.columns = ['user_recommender']\n",
    "user_recommender.sort_values(by='user_recommender', ascending=False).reset_index() "
   ]
  },
  {
   "cell_type": "code",
   "execution_count": null,
   "metadata": {
    "scrolled": false
   },
   "outputs": [],
   "source": [
    "# объеденим сведения пользователей с recommender_system_test с основным датасетом\n",
    "total_users_recommender = total_users.merge(user_recommender, on='user_id')\n",
    "total_users_recommender.head(2)"
   ]
  },
  {
   "cell_type": "code",
   "execution_count": null,
   "metadata": {
    "scrolled": false
   },
   "outputs": [],
   "source": [
    "# посчитаем  пользователей в region \n",
    "region=pd.concat([total_users_recommender.groupby('region')['user_id'].nunique(),\\\n",
    "                 total_users_recommender.groupby('region')['user_id'].nunique()/\n",
    "                 total_users_recommender['user_id'].nunique()], axis=1)\n",
    "region.columns=['count', 'ratio']\n",
    "region.sort_values(by='ratio', ascending=False).reset_index()\\\n",
    "    .style.format({'ratio':'{:.2%}'}).background_gradient(cmap='Blues', axis=0)"
   ]
  },
  {
   "cell_type": "markdown",
   "metadata": {},
   "source": [
    "93% пользователей из  Европы,  по ТЗ аудитория должна быть  15% новых пользователей из региона EU, проверим какой какоу нас %"
   ]
  },
  {
   "cell_type": "code",
   "execution_count": null,
   "metadata": {
    "scrolled": true
   },
   "outputs": [],
   "source": [
    "# выделим в отдельный столбец пользователей с recommender_system_test\n",
    "region_EU=total_users_recommender.query('region == \"EU\"').pivot_table(index='user_id', values='region', aggfunc='count')\n",
    "region_EU.columns = ['region_EU']\n",
    "region_EU.sort_values(by='region_EU', ascending=False).reset_index() "
   ]
  },
  {
   "cell_type": "code",
   "execution_count": null,
   "metadata": {
    "scrolled": true
   },
   "outputs": [],
   "source": [
    "# объеденим сведения пользователей с recommender_system_test с основным датасетом\n",
    "df = total_users_recommender.merge(region_EU, on='user_id')\n",
    "df.head(2)"
   ]
  },
  {
   "cell_type": "code",
   "execution_count": null,
   "metadata": {},
   "outputs": [],
   "source": [
    "# доля пользователей из региона EU учавствующих в тесте\n",
    "user=df.groupby('region')['user_id'].nunique()/\\\n",
    "            new_users.query('first_day < 14 & region==\"EU\"')['user_id'].nunique()\n",
    "print(f'Доля пользователей из региона EU = {round(user*100,2)}%')"
   ]
  },
  {
   "cell_type": "markdown",
   "metadata": {},
   "source": [
    "доля пользователей учавствующих в тесте всего 13.74 %, никак не соостветствует ТЗ в 15%"
   ]
  },
  {
   "cell_type": "markdown",
   "metadata": {},
   "source": [
    "### Количество событий на пользователя одинаково распределены в выборках?"
   ]
  },
  {
   "cell_type": "code",
   "execution_count": null,
   "metadata": {
    "scrolled": true
   },
   "outputs": [],
   "source": [
    "# посчитаем  пользователей теста в группах \n",
    "total_group=pd.concat([df.groupby('group')['user_id'].nunique(),\\\n",
    "                 df.groupby('group')['user_id'].nunique()/\n",
    "                 df['user_id'].nunique()], axis=1)\n",
    "total_group.columns=['count', 'ratio']\n",
    "total_group.style.format({'ratio':'{:.2%}'}).background_gradient(cmap='Blues', axis=0)"
   ]
  },
  {
   "cell_type": "markdown",
   "metadata": {},
   "source": [
    "группа В сильно уступает по количеству пользователей, распределение не нормальное, в группе А почти 75%"
   ]
  },
  {
   "cell_type": "code",
   "execution_count": null,
   "metadata": {
    "scrolled": true
   },
   "outputs": [],
   "source": [
    "# посчитаем количество пользователей из рекомендованного теста по событиям \n",
    "(df.pivot_table(index='group',\n",
    "            columns='event_name', values='user_id', aggfunc='nunique')\n",
    " .reindex(columns=['login', 'product_page', 'product_cart', 'purchase'])\n",
    " .style.format('{:.0f}').background_gradient(cmap='Blues', axis=1)\n",
    ")"
   ]
  },
  {
   "cell_type": "markdown",
   "metadata": {},
   "source": [
    "так как пользователей в группе А намного больше, соответственно и по всем событиям "
   ]
  },
  {
   "cell_type": "code",
   "execution_count": null,
   "metadata": {
    "scrolled": false
   },
   "outputs": [],
   "source": [
    "# посмотрим на портрет пользователей в группах\n",
    "event_name=df.pivot_table(\n",
    "    index=['group', 'event_name'], values='user_id', aggfunc= 'nunique')\\\n",
    "    .reset_index().reindex([0,2,1,3,4,6,5,7])\n",
    "chart(px.bar(\n",
    "    event_name, y='user_id', x='group', \n",
    "    color='event_name', text='user_id',barmode='group'),\n",
    "     'График двух групп по событиям',\n",
    "      'Количество пользователей',\n",
    "     'Группы и события'\n",
    "    )"
   ]
  },
  {
   "cell_type": "markdown",
   "metadata": {},
   "source": [
    "пользователей по событиям в группе А больше"
   ]
  },
  {
   "cell_type": "code",
   "execution_count": null,
   "metadata": {
    "scrolled": true
   },
   "outputs": [],
   "source": [
    "# посмотрим какие события у оставшихся пользователей\n",
    "(df.pivot_table(index='event_count', columns='event_name', values='user_id',aggfunc='count')\n",
    "     .reindex(columns=['login', 'product_page', 'product_cart', 'purchase'])\n",
    "     .style.format('{:.0f}').background_gradient(cmap='Blues', axis=1)\n",
    ")"
   ]
  },
  {
   "cell_type": "markdown",
   "metadata": {},
   "source": [
    "множество несостыковок, есть количество событий по всем этапам событий их  одинаковое количество, пропуски в странице товара и карточке товара, зато есть покупка, скорее всего в этом проекте мы имеем простую воронку, где пользователи могут совершить покупку не совершая какие-то из предыдущих шагов"
   ]
  },
  {
   "cell_type": "markdown",
   "metadata": {},
   "source": [
    "### Как число событий в выборках распределено по дням"
   ]
  },
  {
   "cell_type": "code",
   "execution_count": null,
   "metadata": {
    "scrolled": true
   },
   "outputs": [],
   "source": [
    "# количество событий по дням\n",
    "(df.pivot_table(index='first_day', columns='group', values='event_name', \n",
    "                                      aggfunc='count').style.background_gradient(cmap='Blues', axis=0)\n",
    ")"
   ]
  },
  {
   "cell_type": "code",
   "execution_count": null,
   "metadata": {
    "scrolled": true
   },
   "outputs": [],
   "source": [
    "# гистограмма по дням пользователей в тестуруемых группах\n",
    "chart(px.histogram(df, x=\"first_day\", color='group', nbins=20),\n",
    "      'Гистограмма по дням распределения в группах',\n",
    "      'Частота',\n",
    "      'День')"
   ]
  },
  {
   "cell_type": "markdown",
   "metadata": {},
   "source": [
    "наблюдаем резкое снижение в обеих группах с 8 декабря на 14 декабря резкий рост, пользователи готовились к Рождеству"
   ]
  },
  {
   "cell_type": "code",
   "execution_count": null,
   "metadata": {},
   "outputs": [],
   "source": [
    "# посмотрим сколько в среднем совершали событий пользователи в групах по дням\n",
    "event_mean_group=df.pivot_table(\n",
    "    index=['first_day', 'group'], values='event_count', aggfunc= 'mean').round(0).reset_index()\n",
    "chart(px.bar(\n",
    "    event_mean_group, y='event_count', x='first_day', \n",
    "    color='group', text='event_count',barmode='group'),\n",
    "     'График двух групп по событиям',\n",
    "      'Количество пользователей',\n",
    "     'Группы и события'\n",
    "    )"
   ]
  },
  {
   "cell_type": "markdown",
   "metadata": {},
   "source": [
    "в основном, событий в среднем у группы А больше, хотя есть дни с одинаковым количеством событий"
   ]
  },
  {
   "cell_type": "code",
   "execution_count": null,
   "metadata": {
    "scrolled": false
   },
   "outputs": [],
   "source": [
    "# посмотрим на портрет пользователей в группах\n",
    "event_day=df.pivot_table(\n",
    "    index=['group', 'event_name'], values='event_count', aggfunc= 'median').round(0)\\\n",
    "                .sort_values(by='event_count', ascending=False).reset_index()\n",
    "chart(px.bar(\n",
    "    event_day, y='event_count', x='group', \n",
    "    color='event_name', text='event_count',barmode='group'),\n",
    "     'График двух групп по событиям',\n",
    "      'Количество пользователей',\n",
    "     'Группы и события'\n",
    "    )"
   ]
  },
  {
   "cell_type": "markdown",
   "metadata": {},
   "source": [
    "по группам события в среднем очень близки, кроме события регистрация, в группе В регистраций меньше"
   ]
  },
  {
   "cell_type": "markdown",
   "metadata": {},
   "source": [
    "### Как меняется конверсия в воронке в выборках на разных этапах?"
   ]
  },
  {
   "cell_type": "code",
   "execution_count": null,
   "metadata": {
    "scrolled": false
   },
   "outputs": [],
   "source": [
    "# посчитаем долю пользователей в группах проходящих на следующий шаг воронки\n",
    "groups = df['group'].unique()\n",
    "      \n",
    "fig = go.Figure()\n",
    "for i, group in enumerate(groups):\n",
    "    fig.add_trace(go.Funnel(\n",
    "        name = str(group),\n",
    "        y = (event_name[(event_name['group'] == group)]\n",
    "             ['event_name']),\n",
    "        x = (event_name[(event_name['group'] == group) ]\n",
    "             ['user_id']),\n",
    "        textposition = \"inside\",\n",
    "        textinfo = \"value+percent previous\",\n",
    "        marker = {\"color\": ['#fffebe', '#b3e0a2'][i]}\n",
    "        )\n",
    "    )\n",
    "    fig.update_layout(\n",
    "    width=620,\n",
    "    height=550,\n",
    "    title='Доля пользователей по шагам событий в группах',\n",
    "    legend=dict(\n",
    "    yanchor=\"bottom\",\n",
    "    xanchor=\"right\"\n",
    "  )   \n",
    "    )\n",
    "fig.show()"
   ]
  },
  {
   "cell_type": "markdown",
   "metadata": {},
   "source": [
    "- в просмотр карточек товаров в группе А остается больше 65% доля пользователей \n",
    "- по событию просмотры корзины в группе В остается больше 56% доля пользователей\n",
    "- по событию покупки доли в обеих группах одинаковые "
   ]
  },
  {
   "cell_type": "markdown",
   "metadata": {},
   "source": [
    "#### Проверим у какого кол-ва пользователей период тестирования будет меньше 14 дней"
   ]
  },
  {
   "cell_type": "code",
   "execution_count": null,
   "metadata": {},
   "outputs": [],
   "source": [
    "# период тестирования меньше 14 дней\n",
    "print('Количество пользователей  у которых  период тестирования < 14 дней ',\n",
    "      df.query('event_name== \"login\" & first_day < 14')['user_id'].nunique())\n",
    "user=df.query('event_name== \"login\" & first_day < 14')['user_id'].nunique()/df['user_id'].nunique()\n",
    "print(f'Доля пользователей у которых период тестирования < 14 дней = {round(user*100,2)}%')"
   ]
  },
  {
   "cell_type": "markdown",
   "metadata": {},
   "source": [
    "Учитывая, что мы не обладаем данными как описано в ТЗ, где дата остановки: 2021-01-04, а у нас по 2020-12-30. Получилось всего 728 пользователей, что составляет  более 28% из 2594 пользователей, после выполнения условий ТЗ"
   ]
  },
  {
   "cell_type": "code",
   "execution_count": null,
   "metadata": {},
   "outputs": [],
   "source": [
    "# посчитаем лайфтайм\n",
    "df['first_date']=df['first_date'].astype('datetime64[D]')\n",
    "# находим первую активность пользователя\n",
    "df['first_min']= df.groupby('user_id')['first_date'].transform('min').astype('datetime64[D]')\n",
    "# рассчитываем lifetime события относительно первой активности пользователя\n",
    "df['lifetime'] = (df.query('first_day < 14')['first_date'] - df.query('first_day < 14')['first_min']).dt.days\n",
    "df['lifetime'].value_counts()"
   ]
  },
  {
   "cell_type": "markdown",
   "metadata": {},
   "source": [
    "слишком маленький период чтобы проверить конверсию за 14 дней, lifetime= 0"
   ]
  },
  {
   "cell_type": "code",
   "execution_count": null,
   "metadata": {
    "scrolled": true
   },
   "outputs": [],
   "source": [
    "# распределение пользователей по событиям и периодом тестирования меньше 14 дней\n",
    "event_name_con=df.query('first_day < 14').pivot_table(\n",
    "    index= 'event_name', values= 'user_id', aggfunc= 'nunique')\\\n",
    ".sort_values(by='user_id', ascending=False).reset_index().reindex([0, 1, 3, 2])\n",
    "event_name_con['ratio']=event_name_con['user_id']/df.query('first_day < 14')['user_id'].nunique()\n",
    "event_name_con.style.format({'ratio': '{:.1%}'})\\\n",
    "          .background_gradient(cmap='Blues', axis=0)"
   ]
  },
  {
   "cell_type": "markdown",
   "metadata": {},
   "source": [
    "пользователей у которых лайфтайм меньше 14 дней, очень мало, до события покупка дошло только 191 пользователя"
   ]
  },
  {
   "cell_type": "code",
   "execution_count": null,
   "metadata": {
    "scrolled": false
   },
   "outputs": [],
   "source": [
    "# распределение пользователей по событиям и периодом тестирования больше 14 дней\n",
    "event_name_test=df.query('first_day >= 14').pivot_table(\n",
    "    index= 'event_name', values= 'user_id', aggfunc= 'nunique')\\\n",
    ".sort_values(by='user_id', ascending=False).reset_index().reindex([0, 1, 3, 2])\n",
    "event_name_test['ratio']=event_name_con['user_id']/df.query('first_day >= 14')['user_id'].nunique()\n",
    "event_name_test.style.format({'ratio': '{:.1%}'})\\\n",
    "          .background_gradient(cmap='Blues', axis=0)"
   ]
  },
  {
   "cell_type": "markdown",
   "metadata": {},
   "source": [
    "пользователей у которых лайфтайм больше 14 дней, до события покупка дошло 613 пользователей"
   ]
  },
  {
   "cell_type": "markdown",
   "metadata": {},
   "source": [
    "#### Какие особенности данных нужно учесть, прежде чем приступать к A/B-тестированию?"
   ]
  },
  {
   "cell_type": "markdown",
   "metadata": {},
   "source": [
    "Проверим по техническому заданию\n",
    "Техническое задание:\n",
    "\n",
    "- Название теста: recommender_system_test - выполнено;\n",
    "- группы: А — контрольная, B — новая платёжная воронка - выполнено;\n",
    "- дата запуска: 2020-12-07 - выполнено;\n",
    "- дата остановки набора новых пользователей: 2020-12-21- не соотвествует у нас до 2020-12-23;\n",
    "- дата остановки: 2021-01-04 - не соотвествует у нас до 2020-12-30;\n",
    "- аудитория: 15% новых пользователей из региона EU - не соответствует ТЗ, только 13.74%;\n",
    "- ожидаемое количество участников теста: 6000 - не соответствует 2594 пользователей;\n",
    "- пользователей у которых лайфтайм меньше 14 дней, очень мало, до события покупка дошло только 191 пользователя\n",
    "- пользователей у которых лайфтайм больше 14 дней, до события покупка дошло 613 пользователей\n",
    "- ожидаемый эффект: за 14 дней с момента регистрации пользователи покажут улучшение каждой метрики не менее, чем на 10% - не соответствует, слишком маленькиий период для тестирования."
   ]
  },
  {
   "cell_type": "markdown",
   "metadata": {},
   "source": [
    "# Выводы"
   ]
  },
  {
   "cell_type": "markdown",
   "metadata": {},
   "source": [
    "- после объединения данных по всем датасетам пользователей осталось 12751\n",
    "- найден 1 пользователь без регистрации\n",
    "- отобрав пользователей из рекомендованного теста получилось, что только 2788 пользователей, никак не 6000 пользователей \n",
    "- в итоге у нас 93% пользователей из  Европы,  по ТЗ аудитория должна быть  15% новых пользователей из региона EU, оказалось, что их только 5.61%\n",
    "- распределение в группах не нормальное, в группе А почти 75%\n",
    "- так как пользователей в группе А намного больше, соответственно и по всем событиям их больше\n",
    "- при расмотрении событий по количеству событий на пользователя видим множество несостыковок, есть количество событий по всем этапам событий их одинаковое количество, пропуски в странице товара и карточке товара, зато есть покупка, скорее всего в этом проекте мы имеем простую воронку, где пользователи могут совершить покупку не совершая какие-то из предыдущих шагов\n",
    "- события по дням распределены неравномерно, все-таки подготовка к праздникам, наблюдаем резкое снижение в обеих группах с 8 декабря на 14 декабря резкий рост, пользователи готовились к Рождеству\n",
    "- в основном, событий в среднем по дням у группы А больше, хотя есть дни с одинаковым количеством событий\n",
    "- в просмотр карточек товаров в группе А остается больше 65% доля пользователей, по событию просмотры корзины в группе В остается больше 56% доля пользователей, по событию покупки доли в обеих группах одинаковые 96%\n",
    "- в период проведения теста влияет только рождественская акция Christmas&New Year Promo \n",
    "- так как, мы не обладаем данными как описано в ТЗ, где дата остановки: 2021-01-04, а у нас по 2020-12-30. Получилось всего 728 пользователей, что составляет  более 28% из 2594 пользователей, после выполнения условий ТЗ\n",
    "- слишком маленький период чтобы проверить конверсию за 14 дней, lifetime= 0\n",
    "- пользователей у которых лайфтайм меньше 14 дней, очень мало, до события покупка дошло только 191 пользователя\n",
    "- пользователей у которых лайфтайм больше 14 дней, до события покупка дошло 613 пользователей\n",
    "- проверим соотвествие по техническому заданию:\n",
    "--- Название теста: recommender_system_test - выполнено;\n",
    "-- группы: А — контрольная, B — новая платёжная воронка - выполнено;\n",
    "-- дата запуска: 2020-12-07 - выполнено;\n",
    "-- дата остановки набора новых пользователей: 2020-12-21- не соотвествует у нас до 2020-12-23;\n",
    "-- дата остановки: 2021-01-04 - не соотвествует у нас до 2020-12-30;\n",
    "-- аудитория: 15% новых пользователей из региона EU - не соответствует ТЗ, только 13.74%;\n",
    "-- ожидаемое количество участников теста: 6000 - не соответствует 2594 пользователей;\n",
    "-- ожидаемый эффект: за 14 дней с момента регистрации пользователи покажут улучшение каждой метрики не менее, чем на 10% - не соответствует, слишком маленькиий период для тестирования."
   ]
  },
  {
   "cell_type": "markdown",
   "metadata": {},
   "source": [
    "## Оценка результатов A/B-тестирования"
   ]
  },
  {
   "cell_type": "code",
   "execution_count": null,
   "metadata": {
    "scrolled": true
   },
   "outputs": [],
   "source": [
    "# количество пользователей в группах по событиям\n",
    "funnel_groups = df.pivot_table(index='event_name', columns='group',\n",
    "              values='user_id',aggfunc='nunique').reset_index().reindex([0, 2, 1, 3])\n",
    "funnel_groups.style.background_gradient(cmap='Blues', axis=0)"
   ]
  },
  {
   "cell_type": "code",
   "execution_count": null,
   "metadata": {
    "scrolled": true
   },
   "outputs": [],
   "source": [
    "# количество пользователей в группах\n",
    "all_group=df.pivot_table( columns='group', values='user_id', aggfunc='nunique')\n",
    "all_group.reset_index().style.background_gradient(cmap='Blues', axis=1)"
   ]
  },
  {
   "cell_type": "code",
   "execution_count": null,
   "metadata": {
    "scrolled": false
   },
   "outputs": [],
   "source": [
    "# количество пользователей в группах по событиям\n",
    "group_event=df.pivot_table(index='event_name', columns='group',\n",
    "              values='user_id',aggfunc='nunique').reset_index()\n",
    "group_event['ratio_A']=group_event['A']/df.query('group==\"A\"')['user_id'].nunique()\n",
    "group_event['ratio_B']=group_event['B']/df.query('group==\"B\"')['user_id'].nunique()\n",
    "#\n",
    "group_event=group_event.reindex([0, 2, 1, 3])\\\n",
    "                       .reindex(columns=['event_name','A', 'ratio_A', 'B', 'ratio_B'])\n",
    "group_event.style.format({'ratio_A': '{:.1%}', 'ratio_B': '{:.1%}'})\\\n",
    "          .background_gradient(cmap='Blues', axis=0)"
   ]
  },
  {
   "cell_type": "markdown",
   "metadata": {},
   "source": [
    "# Проверим гипотезы\n",
    "$\\begin{equation*}\n",
    " \\begin{cases}\n",
    "\\text{H_0: Не получилось отвергнуть нулевую гипотезу, нет оснований считать} \\\\\n",
    "\\text{доли разными}\\\\\n",
    "\\text{H_1: Отвергаем нулевую гипотезу, между долями есть значимая разница}\\\\ \n",
    "\\end{cases}\n",
    "\\end{equation*}$\n",
    "\n",
    "Уровень статистической значимости: $\\alpha = 0.05$\n",
    "\n",
    "Посчитаем p-value, с помощью z-тест используя  гипотезу о равенстве долей.\n",
    "\n",
    "Если p-value будет меньше выбранного уровня значимости $\\alpha = 0.05$, то нулевую гипотезу о наличии различий между долями  групп А и В отвергнем. Иначе сделаем вывод, что данные не позволили нам отвергнуть нулевую гипотезу."
   ]
  },
  {
   "cell_type": "code",
   "execution_count": null,
   "metadata": {},
   "outputs": [],
   "source": [
    "# проверим гипотезу\n",
    "def z_test(first_group, second_group):\n",
    "    for i in funnel_groups.index:\n",
    "        \n",
    "        alpha = 0.05\n",
    "        p1 = funnel_groups[first_group][i] / all_group[first_group]\n",
    "        # пропорция успехов во второй группе:\n",
    "        p2 = funnel_groups[second_group][i] / all_group[second_group]\n",
    "        # пропорция успехов в комбинированном датасете:\n",
    "        p_combined = ((funnel_groups[first_group][i] + \n",
    "                       funnel_groups[second_group][i]) / \n",
    "                      (all_group[first_group] + all_group[second_group]))\n",
    "        # разница пропорций в датасетах\n",
    "        difference = p1 - p2\n",
    "    # считаем статистику в ст.отклонениях стандартного нормального распределения\n",
    "        z_value = difference / mth.sqrt(p_combined * (1 - p_combined) * \n",
    "                       (1/all_group[first_group] + 1/all_group[second_group]))\n",
    "    # задаем стандартное нормальное распределение (среднее 0, ст.отклонение 1)\n",
    "        distr = st.norm(0, 1) \n",
    "        \n",
    "        p_value = (1 - distr.cdf(abs(z_value))) * 2\n",
    "        print('{} p-значение: {}'.format(funnel_groups['event_name'][i],\n",
    "                                                     p_value))\n",
    "        if (p_value < alpha):\n",
    "            print('Отвергаем нулевую гипотезу:'\n",
    "                'между долями есть значимая разница в группах {} и {} \\n'\n",
    "                .format(first_group, second_group)\n",
    "            )\n",
    "        else:\n",
    "            print('Не получилось отвергнуть нулевую гипотезу:'\n",
    "                  'нет оснований считать доли разными в группах {} и {} \\n'\n",
    "                .format(first_group, second_group)\n",
    "                 )\n",
    "    # визуализируем воронку событий       \n",
    "    fig = go.Figure()\n",
    "    for i, group in enumerate([first_group, second_group]):\n",
    "        fig.add_trace(go.Funnel(\n",
    "            name = str(group),\n",
    "            y = funnel_groups['event_name'],\n",
    "            x = funnel_groups[group].sort_values(ascending=False),\n",
    "            textposition = \"inside\",\n",
    "            textinfo = \"value+percent initial\",\n",
    "            marker = {\"color\": [\"#be254a\",\"#feeb9d\"][i]})\n",
    "                     )\n",
    "        fig.update_layout(\n",
    "                width=620,\n",
    "                height=450,\n",
    "                title='Доля пользователей событий в группах {}'\\\n",
    "                                .format((first_group,second_group)),\n",
    "                yaxis_title='События',    \n",
    "                legend=dict(\n",
    "                yanchor=\"bottom\",\n",
    "                xanchor=\"right\"\n",
    "  )   \n",
    "    )\n",
    "    \n",
    "    fig.show() "
   ]
  },
  {
   "cell_type": "code",
   "execution_count": null,
   "metadata": {},
   "outputs": [],
   "source": [
    "z_test('A' , 'B')"
   ]
  },
  {
   "cell_type": "markdown",
   "metadata": {},
   "source": [
    "- по событию product_page отвергаем нулевую гипотезу, так как между долями есть значимая разница в группах A и B, с вероятностью 0.0000246 между долями есть разница\n",
    "- не получилось отвергнуть нулевую гипотезу - нет оснований считать доли разными.\n",
    "С вероятностью для событий:\n",
    "- product_cart  26.9%\n",
    "- purchase  24%\n",
    "подтвержаем, что между долями разницы нет"
   ]
  },
  {
   "cell_type": "markdown",
   "metadata": {},
   "source": [
    "# Общие выводы и рекомендации"
   ]
  },
  {
   "cell_type": "markdown",
   "metadata": {},
   "source": [
    "После проведенного исследования, подведем основные выводы:\n",
    "- В распоряжении датасеты содержащие данные о действиях пользователей, техническое задание и несколько вспомогательных датасетовс данными о проведенном тесте для тестирование изменений, связанных с внедрением улучшенной рекомендательной системы\n",
    "- в двух датасетах свденния  о новых и старых пользователях: новых пользователей 61733, старых пользователей 58703\n",
    "- Датасет events - действия новых пользователей в период с 7 декабря 2020 по 4 января \n",
    "- Датасет new_users - пользователи, зарегистрировавшиеся с 7 по 21 декабря 2020 года\n",
    "-- в датасете должны быть пользователи, зарегистрировавшиеся с 7 по 21 декабря 2020 года, у нас данные по 23 декабря, на 2 дня больше\n",
    "-- всего пользователи из 4 регионов, больше всего пользователей из Европы EU, почти 75%\n",
    "-- регестрировались пользователи с 4 видов устройств, больше всего пользователей с регестрировалось с устройства Android более 44%\n",
    "- Датасет project - — календарь маркетинговых событий на 2020 год\n",
    "-- всего 14 маркетинговых событий\n",
    "-- больше всего проводиться рекламная кампания в Азиатско-Тихоокеанский регионе APAC 4 раза\n",
    "-- видим не соответствие в периоде, календарь маркетинговых событий на 2020 год по периоду не соответствует, так как период завершения кампании захватывает 2021 год, данные до 2021-01-07\n",
    "- Датасет participants - таблица участников тестов\n",
    "- участников 16666\n",
    "- после объединения данных по всем датасетам пользователей осталось 12751\n",
    "- отобрав пользователей из рекомендованного теста получилось, что только 2788 пользователей, никак не 6000 пользователей \n",
    "- по ТЗ аудитория должна быть  15% новых пользователей из региона EU, оказалось, что их только 5.61%\n",
    "- распределение в группах не нормальное, в группе А почти 75%\n",
    "- так как пользователей в группе А намного больше, соответственно и по всем событиям их больше\n",
    "- при расмотрении событий по количеству событий на пользователя видим множество несостыковок, есть количество событий по всем этапам событий их одинаковое количество, пропуски в странице товара и карточке товара, зато есть покупка, скорее всего в этом проекте мы имеем простую воронку, где пользователи могут совершить покупку не совершая какие-то из предыдущих шагов\n",
    "- события по дням распределены неравномерно, все-таки подготовка к праздникам, наблюдаем резкое снижение в обеих группах с 8 декабря на 14 декабря резкий рост, пользователи готовились к Рождеству\n",
    "- в основном, событий в среднем по дням у группы А больше, хотя есть дни с одинаковым количеством событий\n",
    "- в период проведения теста влияет только рождественская акция Christmas&New Year Promo \n",
    "- всего 728 пользователя у которых дата регистарции меньше 14 дней\n",
    "- слишком маленький период чтобы проверить конверсию за 14 дней, lifetime= 0\n",
    "- пользователей у которых лайфтайм меньше 14 дней, очень мало, до события покупка дошло только 191 пользователя\n",
    "- пользователей у которых лайфтайм больше 14 дней, до события покупка дошло 613 пользователей\n",
    "- проверим соотвествие по техническому заданию:\n",
    "--- Название теста: recommender_system_test - выполнено;\n",
    "-- группы: А — контрольная, B — новая платёжная воронка - выполнено;\n",
    "-- дата запуска: 2020-12-07 - выполнено;\n",
    "-- дата остановки набора новых пользователей: 2020-12-21- не соотвествует у нас до 2020-12-23;\n",
    "-- дата остановки: 2021-01-04 - не соотвествует у нас до 2020-12-30;\n",
    "-- аудитория: 15% новых пользователей из региона EU - не соответствует ТЗ, только 5.61%;\n",
    "-- ожидаемое количество участников теста: 6000 - не соответствует 2594 пользователей;\n",
    "-- ожидаемый эффект: за 14 дней с момента регистрации пользователи покажут улучшение каждой метрики не менее, чем на 10% - не соответствует, слишком маленькиий период для тестирования.\n",
    "- по событию product_page отвергаем нулевую гипотезу, так как между долями есть значимая разница в группах A и B, с вероятностью 0.0000246 между долями есть разница\n",
    "- не получилось отвергнуть нулевую гипотезу - нет оснований считать доли разными.\n",
    "С вероятностью для событий:\n",
    "- product_cart  26.9%\n",
    "- purchase  24%\n",
    "подтвержаем, что между долями разницы нет\n",
    "\n",
    "Итог и рекомендации:\n",
    "- перед запуском теста были плохо проведены подготовительные мероприятия:\n",
    "-- несоответствия в датах,\n",
    "-- ожидаемое количество пользователей в рекомендованной тест группе 6000 пользователей, а у нас получилось около 2500 пользователей,\n",
    "-- пересечения в группах и тестах,\n",
    "-- распределение в группах не равномерное 75% и 25%, что делает этот тест совершенно не показательным,\n",
    "-- аудитория, вместо 15% новых пользователей из региона EU, только 5.61%\n",
    "-- тест был запущен в период подготовки к Рождественским праздникам и Новому году, тест можно считать не показательным и проведение теста в другой период времени дал бы совершенно другие результаты \n",
    "- допущу, что у нас данные с ошибкой выгрузки, ведь тест был проведен, возможно из-за смешивания данных по двум тестам произошли технические ошибки и нам достались такие данные\n",
    "- учитывая все проблемы с данными, тест необходимо перезапустить с поправкой на период проведения без праздников и более длительный период."
   ]
  }
 ],
 "metadata": {
  "ExecuteTimeLog": [
   {
    "duration": 1427,
    "start_time": "2022-06-12T18:37:50.403Z"
   },
   {
    "duration": 1126,
    "start_time": "2022-06-12T18:37:51.832Z"
   },
   {
    "duration": 4,
    "start_time": "2022-06-12T18:37:52.960Z"
   },
   {
    "duration": 60,
    "start_time": "2022-06-12T18:37:52.966Z"
   },
   {
    "duration": 12,
    "start_time": "2022-06-12T18:37:53.254Z"
   },
   {
    "duration": 759,
    "start_time": "2022-06-12T18:37:53.765Z"
   },
   {
    "duration": 130,
    "start_time": "2022-06-12T18:37:54.526Z"
   },
   {
    "duration": 9,
    "start_time": "2022-06-12T18:37:56.426Z"
   },
   {
    "duration": 319,
    "start_time": "2022-06-12T18:38:04.636Z"
   },
   {
    "duration": 93,
    "start_time": "2022-06-12T18:38:05.221Z"
   },
   {
    "duration": 24,
    "start_time": "2022-06-12T18:38:08.494Z"
   },
   {
    "duration": 101,
    "start_time": "2022-06-12T18:38:09.527Z"
   },
   {
    "duration": 393,
    "start_time": "2022-06-12T18:38:10.021Z"
   },
   {
    "duration": 6,
    "start_time": "2022-06-12T18:38:11.697Z"
   },
   {
    "duration": 6,
    "start_time": "2022-06-12T18:38:42.006Z"
   },
   {
    "duration": 6,
    "start_time": "2022-06-12T18:38:44.555Z"
   },
   {
    "duration": 4,
    "start_time": "2022-06-12T18:38:45.487Z"
   },
   {
    "duration": 3,
    "start_time": "2022-06-12T18:38:46.555Z"
   },
   {
    "duration": 368,
    "start_time": "2022-06-12T18:38:47.049Z"
   },
   {
    "duration": 52,
    "start_time": "2022-06-12T18:38:56.887Z"
   },
   {
    "duration": 89,
    "start_time": "2022-06-12T18:38:59.290Z"
   },
   {
    "duration": 7,
    "start_time": "2022-06-12T18:38:59.845Z"
   },
   {
    "duration": 10,
    "start_time": "2022-06-12T18:39:01.395Z"
   },
   {
    "duration": 12580,
    "start_time": "2022-06-12T18:39:03.631Z"
   },
   {
    "duration": 382,
    "start_time": "2022-06-12T18:39:16.213Z"
   },
   {
    "duration": 918,
    "start_time": "2022-06-12T18:39:16.597Z"
   },
   {
    "duration": 165,
    "start_time": "2022-06-12T18:39:17.517Z"
   },
   {
    "duration": 25,
    "start_time": "2022-06-12T18:39:17.684Z"
   },
   {
    "duration": 57,
    "start_time": "2022-06-12T18:39:17.711Z"
   },
   {
    "duration": 21,
    "start_time": "2022-06-12T18:39:17.770Z"
   },
   {
    "duration": 25,
    "start_time": "2022-06-12T18:39:22.682Z"
   },
   {
    "duration": 23,
    "start_time": "2022-06-12T18:39:23.238Z"
   },
   {
    "duration": 30,
    "start_time": "2022-06-12T18:39:24.292Z"
   },
   {
    "duration": 143,
    "start_time": "2022-06-12T18:39:25.367Z"
   },
   {
    "duration": 12,
    "start_time": "2022-06-12T18:39:26.422Z"
   },
   {
    "duration": 455,
    "start_time": "2022-06-12T18:39:27.595Z"
   },
   {
    "duration": 15,
    "start_time": "2022-06-12T18:39:42.196Z"
   },
   {
    "duration": 26,
    "start_time": "2022-06-12T18:39:42.681Z"
   },
   {
    "duration": 9,
    "start_time": "2022-06-12T18:40:01.388Z"
   },
   {
    "duration": 22,
    "start_time": "2022-06-12T18:40:01.865Z"
   },
   {
    "duration": 21,
    "start_time": "2022-06-12T18:40:07.551Z"
   },
   {
    "duration": 70,
    "start_time": "2022-06-12T18:40:30.671Z"
   },
   {
    "duration": 12,
    "start_time": "2022-06-12T18:40:50.796Z"
   },
   {
    "duration": 46,
    "start_time": "2022-06-12T18:40:51.693Z"
   },
   {
    "duration": 16,
    "start_time": "2022-06-12T18:40:54.547Z"
   },
   {
    "duration": 25,
    "start_time": "2022-06-12T18:41:08.692Z"
   },
   {
    "duration": 94,
    "start_time": "2022-06-12T18:41:16.735Z"
   },
   {
    "duration": 116,
    "start_time": "2022-06-12T18:41:19.957Z"
   },
   {
    "duration": 159,
    "start_time": "2022-06-12T18:41:27.646Z"
   },
   {
    "duration": 183,
    "start_time": "2022-06-12T18:41:50.595Z"
   },
   {
    "duration": 117,
    "start_time": "2022-06-12T18:42:03.714Z"
   },
   {
    "duration": 11,
    "start_time": "2022-06-12T18:42:16.808Z"
   },
   {
    "duration": 21,
    "start_time": "2022-06-12T18:42:57.594Z"
   },
   {
    "duration": 4,
    "start_time": "2022-06-12T19:03:30.986Z"
   },
   {
    "duration": 95,
    "start_time": "2022-06-12T19:09:40.871Z"
   },
   {
    "duration": 101,
    "start_time": "2022-06-12T19:10:12.170Z"
   },
   {
    "duration": 77,
    "start_time": "2022-06-12T19:11:26.416Z"
   },
   {
    "duration": 100,
    "start_time": "2022-06-12T19:11:44.378Z"
   },
   {
    "duration": 120,
    "start_time": "2022-06-12T19:11:55.409Z"
   },
   {
    "duration": 110,
    "start_time": "2022-06-12T19:12:41.627Z"
   },
   {
    "duration": 123,
    "start_time": "2022-06-12T19:12:46.649Z"
   },
   {
    "duration": 116,
    "start_time": "2022-06-12T19:14:23.657Z"
   },
   {
    "duration": 17,
    "start_time": "2022-06-12T19:15:57.569Z"
   },
   {
    "duration": 22,
    "start_time": "2022-06-12T19:16:01.742Z"
   },
   {
    "duration": 98,
    "start_time": "2022-06-12T19:16:27.543Z"
   },
   {
    "duration": 200,
    "start_time": "2022-06-12T19:19:26.879Z"
   },
   {
    "duration": 24,
    "start_time": "2022-06-12T19:22:20.320Z"
   },
   {
    "duration": 200,
    "start_time": "2022-06-12T19:22:56.752Z"
   },
   {
    "duration": 136,
    "start_time": "2022-06-12T19:23:38.916Z"
   },
   {
    "duration": 155,
    "start_time": "2022-06-12T19:24:05.616Z"
   },
   {
    "duration": 11,
    "start_time": "2022-06-12T19:24:11.322Z"
   },
   {
    "duration": 100,
    "start_time": "2022-06-12T19:25:07.274Z"
   },
   {
    "duration": 163,
    "start_time": "2022-06-12T19:28:06.588Z"
   },
   {
    "duration": 32,
    "start_time": "2022-06-12T19:28:21.529Z"
   },
   {
    "duration": 56,
    "start_time": "2022-06-12T19:31:21.128Z"
   },
   {
    "duration": 19,
    "start_time": "2022-06-12T19:31:24.512Z"
   },
   {
    "duration": 43,
    "start_time": "2022-06-12T19:31:41.786Z"
   },
   {
    "duration": 27,
    "start_time": "2022-06-12T19:37:24.747Z"
   },
   {
    "duration": 123,
    "start_time": "2022-06-12T19:38:11.122Z"
   },
   {
    "duration": 155,
    "start_time": "2022-06-12T19:39:02.070Z"
   },
   {
    "duration": 119,
    "start_time": "2022-06-12T19:40:23.423Z"
   },
   {
    "duration": 28,
    "start_time": "2022-06-12T19:40:24.314Z"
   },
   {
    "duration": 98,
    "start_time": "2022-06-12T19:41:41.737Z"
   },
   {
    "duration": 14,
    "start_time": "2022-06-12T19:42:11.043Z"
   },
   {
    "duration": 17,
    "start_time": "2022-06-12T19:42:44.534Z"
   },
   {
    "duration": 97,
    "start_time": "2022-06-12T19:44:27.318Z"
   },
   {
    "duration": 176,
    "start_time": "2022-06-12T19:48:43.372Z"
   },
   {
    "duration": 224,
    "start_time": "2022-06-12T19:49:50.173Z"
   },
   {
    "duration": 221,
    "start_time": "2022-06-12T19:51:33.285Z"
   },
   {
    "duration": 107,
    "start_time": "2022-06-12T19:52:51.154Z"
   },
   {
    "duration": 16,
    "start_time": "2022-06-12T19:53:19.736Z"
   },
   {
    "duration": 468,
    "start_time": "2022-06-12T20:07:34.010Z"
   },
   {
    "duration": 1206,
    "start_time": "2022-06-12T20:08:30.120Z"
   },
   {
    "duration": 1060,
    "start_time": "2022-06-12T20:08:31.855Z"
   },
   {
    "duration": 3,
    "start_time": "2022-06-12T20:08:32.917Z"
   },
   {
    "duration": 38,
    "start_time": "2022-06-12T20:08:32.922Z"
   },
   {
    "duration": 9,
    "start_time": "2022-06-12T20:08:32.962Z"
   },
   {
    "duration": 732,
    "start_time": "2022-06-12T20:08:32.994Z"
   },
   {
    "duration": 129,
    "start_time": "2022-06-12T20:08:33.728Z"
   },
   {
    "duration": 346,
    "start_time": "2022-06-12T20:08:33.859Z"
   },
   {
    "duration": 98,
    "start_time": "2022-06-12T20:08:34.210Z"
   },
   {
    "duration": 16,
    "start_time": "2022-06-12T20:08:34.391Z"
   },
   {
    "duration": 88,
    "start_time": "2022-06-12T20:08:34.754Z"
   },
   {
    "duration": 381,
    "start_time": "2022-06-12T20:08:34.932Z"
   },
   {
    "duration": 4,
    "start_time": "2022-06-12T20:08:35.483Z"
   },
   {
    "duration": 5,
    "start_time": "2022-06-12T20:08:35.856Z"
   },
   {
    "duration": 5,
    "start_time": "2022-06-12T20:08:36.234Z"
   },
   {
    "duration": 3,
    "start_time": "2022-06-12T20:08:36.611Z"
   },
   {
    "duration": 328,
    "start_time": "2022-06-12T20:08:36.795Z"
   },
   {
    "duration": 47,
    "start_time": "2022-06-12T20:08:49.853Z"
   },
   {
    "duration": 4,
    "start_time": "2022-06-12T20:09:07.574Z"
   },
   {
    "duration": 44,
    "start_time": "2022-06-12T20:09:08.418Z"
   },
   {
    "duration": 42,
    "start_time": "2022-06-12T20:09:15.338Z"
   },
   {
    "duration": 92,
    "start_time": "2022-06-12T20:09:17.971Z"
   },
   {
    "duration": 6,
    "start_time": "2022-06-12T20:09:18.384Z"
   },
   {
    "duration": 6,
    "start_time": "2022-06-12T20:09:19.378Z"
   },
   {
    "duration": 11303,
    "start_time": "2022-06-12T20:09:20.329Z"
   },
   {
    "duration": 285,
    "start_time": "2022-06-12T20:09:31.634Z"
   },
   {
    "duration": 914,
    "start_time": "2022-06-12T20:09:31.922Z"
   },
   {
    "duration": 245,
    "start_time": "2022-06-12T20:09:32.838Z"
   },
   {
    "duration": 174,
    "start_time": "2022-06-12T20:09:48.281Z"
   },
   {
    "duration": 490,
    "start_time": "2022-06-12T20:10:06.328Z"
   },
   {
    "duration": 232,
    "start_time": "2022-06-12T20:10:06.820Z"
   },
   {
    "duration": 481,
    "start_time": "2022-06-12T20:11:37.757Z"
   },
   {
    "duration": 25,
    "start_time": "2022-06-12T20:14:07.840Z"
   },
   {
    "duration": 546,
    "start_time": "2022-06-12T20:14:18.165Z"
   },
   {
    "duration": 369,
    "start_time": "2022-06-12T20:14:58.094Z"
   },
   {
    "duration": 228,
    "start_time": "2022-06-12T20:15:12.687Z"
   },
   {
    "duration": 249,
    "start_time": "2022-06-12T20:15:20.324Z"
   },
   {
    "duration": 6,
    "start_time": "2022-06-12T20:15:24.114Z"
   },
   {
    "duration": 11,
    "start_time": "2022-06-12T20:15:35.406Z"
   },
   {
    "duration": 9,
    "start_time": "2022-06-12T20:15:55.678Z"
   },
   {
    "duration": 1323,
    "start_time": "2022-06-13T05:14:28.677Z"
   },
   {
    "duration": 1245,
    "start_time": "2022-06-13T05:14:31.818Z"
   },
   {
    "duration": 4,
    "start_time": "2022-06-13T05:14:33.065Z"
   },
   {
    "duration": 46,
    "start_time": "2022-06-13T05:14:33.071Z"
   },
   {
    "duration": 10,
    "start_time": "2022-06-13T05:14:33.329Z"
   },
   {
    "duration": 856,
    "start_time": "2022-06-13T05:14:38.924Z"
   },
   {
    "duration": 97,
    "start_time": "2022-06-13T05:14:40.794Z"
   },
   {
    "duration": 313,
    "start_time": "2022-06-13T05:14:43.479Z"
   },
   {
    "duration": 118,
    "start_time": "2022-06-13T05:14:43.949Z"
   },
   {
    "duration": 20,
    "start_time": "2022-06-13T05:14:45.230Z"
   },
   {
    "duration": 114,
    "start_time": "2022-06-13T05:14:46.081Z"
   },
   {
    "duration": 382,
    "start_time": "2022-06-13T05:14:46.534Z"
   },
   {
    "duration": 5,
    "start_time": "2022-06-13T05:14:48.006Z"
   },
   {
    "duration": 9,
    "start_time": "2022-06-13T05:14:49.337Z"
   },
   {
    "duration": 4,
    "start_time": "2022-06-13T05:14:52.938Z"
   },
   {
    "duration": 6,
    "start_time": "2022-06-13T05:14:56.665Z"
   },
   {
    "duration": 396,
    "start_time": "2022-06-13T05:14:57.737Z"
   },
   {
    "duration": 50,
    "start_time": "2022-06-13T05:15:01.591Z"
   },
   {
    "duration": 72,
    "start_time": "2022-06-13T05:15:10.876Z"
   },
   {
    "duration": 6,
    "start_time": "2022-06-13T05:15:11.432Z"
   },
   {
    "duration": 7,
    "start_time": "2022-06-13T05:15:11.962Z"
   },
   {
    "duration": 10842,
    "start_time": "2022-06-13T05:15:14.197Z"
   },
   {
    "duration": 346,
    "start_time": "2022-06-13T05:15:25.042Z"
   },
   {
    "duration": 4,
    "start_time": "2022-06-13T05:17:44.599Z"
   },
   {
    "duration": 17,
    "start_time": "2022-06-13T05:20:17.464Z"
   },
   {
    "duration": 8,
    "start_time": "2022-06-13T05:20:44.389Z"
   },
   {
    "duration": 13,
    "start_time": "2022-06-13T05:23:21.102Z"
   },
   {
    "duration": 178,
    "start_time": "2022-06-13T05:26:39.097Z"
   },
   {
    "duration": 8,
    "start_time": "2022-06-13T05:27:10.141Z"
   },
   {
    "duration": 8,
    "start_time": "2022-06-13T05:27:28.810Z"
   },
   {
    "duration": 17,
    "start_time": "2022-06-13T05:28:07.213Z"
   },
   {
    "duration": 18,
    "start_time": "2022-06-13T05:28:46.616Z"
   },
   {
    "duration": 13,
    "start_time": "2022-06-13T05:29:03.876Z"
   },
   {
    "duration": 11,
    "start_time": "2022-06-13T05:29:21.790Z"
   },
   {
    "duration": 12,
    "start_time": "2022-06-13T05:29:35.239Z"
   },
   {
    "duration": 8,
    "start_time": "2022-06-13T05:29:44.974Z"
   },
   {
    "duration": 9,
    "start_time": "2022-06-13T05:30:50.260Z"
   },
   {
    "duration": 74,
    "start_time": "2022-06-13T05:32:53.119Z"
   },
   {
    "duration": 6,
    "start_time": "2022-06-13T05:32:54.628Z"
   },
   {
    "duration": 7,
    "start_time": "2022-06-13T05:32:55.292Z"
   },
   {
    "duration": 9927,
    "start_time": "2022-06-13T05:33:15.287Z"
   },
   {
    "duration": 75,
    "start_time": "2022-06-13T05:34:31.518Z"
   },
   {
    "duration": 314,
    "start_time": "2022-06-13T05:34:42.043Z"
   },
   {
    "duration": 122,
    "start_time": "2022-06-13T05:35:22.271Z"
   },
   {
    "duration": 120,
    "start_time": "2022-06-13T05:35:50.202Z"
   },
   {
    "duration": 145,
    "start_time": "2022-06-13T05:36:10.014Z"
   },
   {
    "duration": 486,
    "start_time": "2022-06-13T05:36:28.701Z"
   },
   {
    "duration": 185,
    "start_time": "2022-06-13T05:36:31.680Z"
   },
   {
    "duration": 414,
    "start_time": "2022-06-13T05:36:43.756Z"
   },
   {
    "duration": 190,
    "start_time": "2022-06-13T05:37:14.251Z"
   },
   {
    "duration": 165,
    "start_time": "2022-06-13T05:38:17.577Z"
   },
   {
    "duration": 8,
    "start_time": "2022-06-13T05:38:18.071Z"
   },
   {
    "duration": 26,
    "start_time": "2022-06-13T05:38:42.420Z"
   },
   {
    "duration": 25,
    "start_time": "2022-06-13T05:38:56.146Z"
   },
   {
    "duration": 26,
    "start_time": "2022-06-13T05:40:51.982Z"
   },
   {
    "duration": 71,
    "start_time": "2022-06-13T05:41:58.135Z"
   },
   {
    "duration": 22,
    "start_time": "2022-06-13T05:43:17.387Z"
   },
   {
    "duration": 35,
    "start_time": "2022-06-13T05:43:25.825Z"
   },
   {
    "duration": 14,
    "start_time": "2022-06-13T05:43:49.131Z"
   },
   {
    "duration": 116,
    "start_time": "2022-06-13T05:44:16.343Z"
   },
   {
    "duration": 28,
    "start_time": "2022-06-13T05:45:41.284Z"
   },
   {
    "duration": 25,
    "start_time": "2022-06-13T05:46:02.093Z"
   },
   {
    "duration": 107,
    "start_time": "2022-06-13T05:46:15.286Z"
   },
   {
    "duration": 93,
    "start_time": "2022-06-13T05:51:10.898Z"
   },
   {
    "duration": 92,
    "start_time": "2022-06-13T05:52:29.820Z"
   },
   {
    "duration": 90,
    "start_time": "2022-06-13T05:52:39.314Z"
   },
   {
    "duration": 94,
    "start_time": "2022-06-13T05:52:55.559Z"
   },
   {
    "duration": 110,
    "start_time": "2022-06-13T05:57:52.855Z"
   },
   {
    "duration": 6,
    "start_time": "2022-06-13T05:59:39.859Z"
   },
   {
    "duration": 105,
    "start_time": "2022-06-13T06:01:53.776Z"
   },
   {
    "duration": 7,
    "start_time": "2022-06-13T06:02:31.188Z"
   },
   {
    "duration": 71,
    "start_time": "2022-06-13T06:02:31.863Z"
   },
   {
    "duration": 11,
    "start_time": "2022-06-13T06:02:37.925Z"
   },
   {
    "duration": 19,
    "start_time": "2022-06-13T06:03:15.464Z"
   },
   {
    "duration": 22,
    "start_time": "2022-06-13T06:03:15.886Z"
   },
   {
    "duration": 22,
    "start_time": "2022-06-13T06:03:23.978Z"
   },
   {
    "duration": 118,
    "start_time": "2022-06-13T06:03:51.411Z"
   },
   {
    "duration": 11,
    "start_time": "2022-06-13T06:04:00.404Z"
   },
   {
    "duration": 423,
    "start_time": "2022-06-13T06:08:20.729Z"
   },
   {
    "duration": 26,
    "start_time": "2022-06-13T06:09:36.568Z"
   },
   {
    "duration": 43,
    "start_time": "2022-06-13T06:09:59.950Z"
   },
   {
    "duration": 41,
    "start_time": "2022-06-13T06:10:26.453Z"
   },
   {
    "duration": 37,
    "start_time": "2022-06-13T06:10:59.372Z"
   },
   {
    "duration": 24,
    "start_time": "2022-06-13T06:12:43.885Z"
   },
   {
    "duration": 34,
    "start_time": "2022-06-13T06:13:05.703Z"
   },
   {
    "duration": 8,
    "start_time": "2022-06-13T06:50:24.843Z"
   },
   {
    "duration": 27,
    "start_time": "2022-06-13T06:50:25.676Z"
   },
   {
    "duration": 22,
    "start_time": "2022-06-13T06:50:36.621Z"
   },
   {
    "duration": 57,
    "start_time": "2022-06-13T06:50:43.190Z"
   },
   {
    "duration": 42,
    "start_time": "2022-06-13T06:51:22.991Z"
   },
   {
    "duration": 20,
    "start_time": "2022-06-13T06:51:48.637Z"
   },
   {
    "duration": 19,
    "start_time": "2022-06-13T06:52:27.290Z"
   },
   {
    "duration": 8,
    "start_time": "2022-06-13T06:52:28.115Z"
   },
   {
    "duration": 35,
    "start_time": "2022-06-13T06:54:52.254Z"
   },
   {
    "duration": 34,
    "start_time": "2022-06-13T06:55:29.654Z"
   },
   {
    "duration": 18,
    "start_time": "2022-06-13T06:55:30.151Z"
   },
   {
    "duration": 23,
    "start_time": "2022-06-13T06:55:47.654Z"
   },
   {
    "duration": 95,
    "start_time": "2022-06-13T06:57:14.491Z"
   },
   {
    "duration": 75,
    "start_time": "2022-06-13T06:57:35.791Z"
   },
   {
    "duration": 18,
    "start_time": "2022-06-13T06:57:36.495Z"
   },
   {
    "duration": 70,
    "start_time": "2022-06-13T07:12:46.285Z"
   },
   {
    "duration": 19,
    "start_time": "2022-06-13T07:12:46.812Z"
   },
   {
    "duration": 231,
    "start_time": "2022-06-13T07:13:14.148Z"
   },
   {
    "duration": 124,
    "start_time": "2022-06-13T07:13:52.603Z"
   },
   {
    "duration": 45,
    "start_time": "2022-06-13T07:14:08.254Z"
   },
   {
    "duration": 120,
    "start_time": "2022-06-13T07:14:29.425Z"
   },
   {
    "duration": 39,
    "start_time": "2022-06-13T07:16:02.861Z"
   },
   {
    "duration": 27,
    "start_time": "2022-06-13T07:16:32.320Z"
   },
   {
    "duration": 66,
    "start_time": "2022-06-13T07:18:15.845Z"
   },
   {
    "duration": 23,
    "start_time": "2022-06-13T07:19:28.671Z"
   },
   {
    "duration": 24,
    "start_time": "2022-06-13T07:19:49.485Z"
   },
   {
    "duration": 52,
    "start_time": "2022-06-13T07:20:19.750Z"
   },
   {
    "duration": 30,
    "start_time": "2022-06-13T07:20:40.001Z"
   },
   {
    "duration": 33,
    "start_time": "2022-06-13T07:21:04.160Z"
   },
   {
    "duration": 47,
    "start_time": "2022-06-13T07:21:23.454Z"
   },
   {
    "duration": 36,
    "start_time": "2022-06-13T07:21:37.060Z"
   },
   {
    "duration": 68,
    "start_time": "2022-06-13T07:23:14.569Z"
   },
   {
    "duration": 72,
    "start_time": "2022-06-13T07:23:26.801Z"
   },
   {
    "duration": 74,
    "start_time": "2022-06-13T07:24:12.820Z"
   },
   {
    "duration": 32,
    "start_time": "2022-06-13T07:25:26.570Z"
   },
   {
    "duration": 5,
    "start_time": "2022-06-13T07:26:31.912Z"
   },
   {
    "duration": 79,
    "start_time": "2022-06-13T07:26:39.484Z"
   },
   {
    "duration": 89,
    "start_time": "2022-06-13T07:26:46.999Z"
   },
   {
    "duration": 24,
    "start_time": "2022-06-13T07:26:59.708Z"
   },
   {
    "duration": 21,
    "start_time": "2022-06-13T07:28:05.209Z"
   },
   {
    "duration": 23,
    "start_time": "2022-06-13T07:29:03.879Z"
   },
   {
    "duration": 25,
    "start_time": "2022-06-13T07:29:33.165Z"
   },
   {
    "duration": 25,
    "start_time": "2022-06-13T07:29:41.356Z"
   },
   {
    "duration": 8,
    "start_time": "2022-06-13T07:29:52.989Z"
   },
   {
    "duration": 51,
    "start_time": "2022-06-13T07:30:24.744Z"
   },
   {
    "duration": 25,
    "start_time": "2022-06-13T07:30:42.508Z"
   },
   {
    "duration": 26,
    "start_time": "2022-06-13T07:30:53.483Z"
   },
   {
    "duration": 11,
    "start_time": "2022-06-13T07:30:54.269Z"
   },
   {
    "duration": 10,
    "start_time": "2022-06-13T07:31:17.649Z"
   },
   {
    "duration": 27,
    "start_time": "2022-06-13T07:31:45.479Z"
   },
   {
    "duration": 38,
    "start_time": "2022-06-13T07:33:42.893Z"
   },
   {
    "duration": 34,
    "start_time": "2022-06-13T07:34:06.683Z"
   },
   {
    "duration": 46,
    "start_time": "2022-06-13T07:34:18.745Z"
   },
   {
    "duration": 33,
    "start_time": "2022-06-13T07:35:08.189Z"
   },
   {
    "duration": 30,
    "start_time": "2022-06-13T07:35:19.632Z"
   },
   {
    "duration": 501,
    "start_time": "2022-06-13T07:36:32.986Z"
   },
   {
    "duration": 28,
    "start_time": "2022-06-13T07:36:51.360Z"
   },
   {
    "duration": 9,
    "start_time": "2022-06-13T07:38:46.648Z"
   },
   {
    "duration": 26,
    "start_time": "2022-06-13T07:39:45.341Z"
   },
   {
    "duration": 135,
    "start_time": "2022-06-13T07:39:52.507Z"
   },
   {
    "duration": 114,
    "start_time": "2022-06-13T07:40:07.522Z"
   },
   {
    "duration": 45,
    "start_time": "2022-06-13T07:40:33.083Z"
   },
   {
    "duration": 83,
    "start_time": "2022-06-13T07:42:58.314Z"
   },
   {
    "duration": 48,
    "start_time": "2022-06-13T07:48:39.878Z"
   },
   {
    "duration": 71,
    "start_time": "2022-06-13T07:50:03.916Z"
   },
   {
    "duration": 48,
    "start_time": "2022-06-13T07:50:30.079Z"
   },
   {
    "duration": 43,
    "start_time": "2022-06-13T07:51:24.503Z"
   },
   {
    "duration": 102,
    "start_time": "2022-06-13T07:51:59.982Z"
   },
   {
    "duration": 51,
    "start_time": "2022-06-13T07:52:19.258Z"
   },
   {
    "duration": 72,
    "start_time": "2022-06-13T07:52:23.479Z"
   },
   {
    "duration": 96,
    "start_time": "2022-06-13T07:52:58.371Z"
   },
   {
    "duration": 15,
    "start_time": "2022-06-13T07:54:21.695Z"
   },
   {
    "duration": 17,
    "start_time": "2022-06-13T07:55:06.613Z"
   },
   {
    "duration": 64,
    "start_time": "2022-06-13T07:55:36.683Z"
   },
   {
    "duration": 60,
    "start_time": "2022-06-13T07:55:44.920Z"
   },
   {
    "duration": 1216,
    "start_time": "2022-06-13T07:56:36.341Z"
   },
   {
    "duration": 1043,
    "start_time": "2022-06-13T07:56:37.975Z"
   },
   {
    "duration": 4,
    "start_time": "2022-06-13T07:56:39.045Z"
   },
   {
    "duration": 1012,
    "start_time": "2022-06-13T07:56:39.471Z"
   },
   {
    "duration": 3,
    "start_time": "2022-06-13T07:56:40.485Z"
   },
   {
    "duration": 40,
    "start_time": "2022-06-13T07:56:40.490Z"
   },
   {
    "duration": 14,
    "start_time": "2022-06-13T07:56:40.926Z"
   },
   {
    "duration": 701,
    "start_time": "2022-06-13T07:56:41.323Z"
   },
   {
    "duration": 156,
    "start_time": "2022-06-13T07:56:42.026Z"
   },
   {
    "duration": 300,
    "start_time": "2022-06-13T07:56:42.512Z"
   },
   {
    "duration": 104,
    "start_time": "2022-06-13T07:56:42.815Z"
   },
   {
    "duration": 18,
    "start_time": "2022-06-13T07:56:43.381Z"
   },
   {
    "duration": 101,
    "start_time": "2022-06-13T07:56:43.832Z"
   },
   {
    "duration": 356,
    "start_time": "2022-06-13T07:56:44.121Z"
   },
   {
    "duration": 4,
    "start_time": "2022-06-13T07:56:58.541Z"
   },
   {
    "duration": 5,
    "start_time": "2022-06-13T07:56:59.322Z"
   },
   {
    "duration": 5,
    "start_time": "2022-06-13T07:57:00.087Z"
   },
   {
    "duration": 3,
    "start_time": "2022-06-13T07:57:01.501Z"
   },
   {
    "duration": 354,
    "start_time": "2022-06-13T07:57:02.181Z"
   },
   {
    "duration": 45,
    "start_time": "2022-06-13T07:57:02.642Z"
   },
   {
    "duration": 11,
    "start_time": "2022-06-13T07:57:03.051Z"
   },
   {
    "duration": 93,
    "start_time": "2022-06-13T07:57:03.608Z"
   },
   {
    "duration": 6,
    "start_time": "2022-06-13T07:57:04.215Z"
   },
   {
    "duration": 7,
    "start_time": "2022-06-13T07:57:04.644Z"
   },
   {
    "duration": 10470,
    "start_time": "2022-06-13T07:57:05.471Z"
   },
   {
    "duration": 260,
    "start_time": "2022-06-13T07:57:15.945Z"
   },
   {
    "duration": 777,
    "start_time": "2022-06-13T07:57:16.207Z"
   },
   {
    "duration": 279,
    "start_time": "2022-06-13T07:57:16.986Z"
   },
   {
    "duration": 162,
    "start_time": "2022-06-13T07:57:17.267Z"
   },
   {
    "duration": 451,
    "start_time": "2022-06-13T07:57:17.431Z"
   },
   {
    "duration": 241,
    "start_time": "2022-06-13T07:57:17.884Z"
   },
   {
    "duration": 193,
    "start_time": "2022-06-13T07:57:18.127Z"
   },
   {
    "duration": 169,
    "start_time": "2022-06-13T07:57:18.322Z"
   },
   {
    "duration": 7,
    "start_time": "2022-06-13T07:57:29.804Z"
   },
   {
    "duration": 57,
    "start_time": "2022-06-13T07:57:30.223Z"
   },
   {
    "duration": 11,
    "start_time": "2022-06-13T07:57:31.047Z"
   },
   {
    "duration": 31,
    "start_time": "2022-06-13T07:57:31.883Z"
   },
   {
    "duration": 36,
    "start_time": "2022-06-13T07:57:32.309Z"
   },
   {
    "duration": 24,
    "start_time": "2022-06-13T07:57:33.141Z"
   },
   {
    "duration": 159,
    "start_time": "2022-06-13T07:57:33.998Z"
   },
   {
    "duration": 15,
    "start_time": "2022-06-13T07:57:34.686Z"
   },
   {
    "duration": 416,
    "start_time": "2022-06-13T07:57:35.426Z"
   },
   {
    "duration": 8,
    "start_time": "2022-06-13T07:57:36.659Z"
   },
   {
    "duration": 18,
    "start_time": "2022-06-13T07:57:37.014Z"
   },
   {
    "duration": 18,
    "start_time": "2022-06-13T07:57:37.822Z"
   },
   {
    "duration": 50,
    "start_time": "2022-06-13T07:57:38.653Z"
   },
   {
    "duration": 39,
    "start_time": "2022-06-13T07:57:39.446Z"
   },
   {
    "duration": 17,
    "start_time": "2022-06-13T07:57:39.921Z"
   },
   {
    "duration": 34,
    "start_time": "2022-06-13T07:57:40.341Z"
   },
   {
    "duration": 17,
    "start_time": "2022-06-13T07:57:40.762Z"
   },
   {
    "duration": 20,
    "start_time": "2022-06-13T07:57:41.681Z"
   },
   {
    "duration": 71,
    "start_time": "2022-06-13T07:57:44.619Z"
   },
   {
    "duration": 87,
    "start_time": "2022-06-13T07:57:47.323Z"
   },
   {
    "duration": 30,
    "start_time": "2022-06-13T07:57:50.881Z"
   },
   {
    "duration": 24,
    "start_time": "2022-06-13T07:57:59.241Z"
   },
   {
    "duration": 221,
    "start_time": "2022-06-13T07:58:00.541Z"
   },
   {
    "duration": 132,
    "start_time": "2022-06-13T07:58:08.474Z"
   },
   {
    "duration": 74,
    "start_time": "2022-06-13T07:58:09.297Z"
   },
   {
    "duration": 111,
    "start_time": "2022-06-13T07:58:30.616Z"
   },
   {
    "duration": 53,
    "start_time": "2022-06-13T07:58:36.333Z"
   },
   {
    "duration": 89,
    "start_time": "2022-06-13T07:59:27.815Z"
   },
   {
    "duration": 41,
    "start_time": "2022-06-13T07:59:48.042Z"
   },
   {
    "duration": 50,
    "start_time": "2022-06-13T08:00:30.190Z"
   },
   {
    "duration": 196,
    "start_time": "2022-06-13T08:01:30.139Z"
   },
   {
    "duration": 52,
    "start_time": "2022-06-13T08:02:15.476Z"
   },
   {
    "duration": 18,
    "start_time": "2022-06-13T08:02:36.572Z"
   },
   {
    "duration": 49,
    "start_time": "2022-06-13T08:02:44.242Z"
   },
   {
    "duration": 46,
    "start_time": "2022-06-13T08:02:50.375Z"
   },
   {
    "duration": 64,
    "start_time": "2022-06-13T08:03:15.671Z"
   },
   {
    "duration": 49,
    "start_time": "2022-06-13T08:03:33.116Z"
   },
   {
    "duration": 77,
    "start_time": "2022-06-13T08:03:47.771Z"
   },
   {
    "duration": 45,
    "start_time": "2022-06-13T08:03:56.318Z"
   },
   {
    "duration": 42,
    "start_time": "2022-06-13T08:04:06.325Z"
   },
   {
    "duration": 39,
    "start_time": "2022-06-13T08:04:36.624Z"
   },
   {
    "duration": 18,
    "start_time": "2022-06-13T08:04:57.096Z"
   },
   {
    "duration": 46,
    "start_time": "2022-06-13T08:05:39.506Z"
   },
   {
    "duration": 39,
    "start_time": "2022-06-13T08:06:53.946Z"
   },
   {
    "duration": 82,
    "start_time": "2022-06-13T08:07:48.775Z"
   },
   {
    "duration": 91,
    "start_time": "2022-06-13T08:08:23.767Z"
   },
   {
    "duration": 44,
    "start_time": "2022-06-13T08:10:19.979Z"
   },
   {
    "duration": 62,
    "start_time": "2022-06-13T08:10:38.098Z"
   },
   {
    "duration": 92,
    "start_time": "2022-06-13T08:10:50.166Z"
   },
   {
    "duration": 89,
    "start_time": "2022-06-13T08:11:30.731Z"
   },
   {
    "duration": 34,
    "start_time": "2022-06-13T08:15:05.704Z"
   },
   {
    "duration": 11,
    "start_time": "2022-06-13T08:15:35.898Z"
   },
   {
    "duration": 4,
    "start_time": "2022-06-13T08:15:41.207Z"
   },
   {
    "duration": 4,
    "start_time": "2022-06-13T08:15:51.846Z"
   },
   {
    "duration": 70,
    "start_time": "2022-06-13T08:16:22.385Z"
   },
   {
    "duration": 105,
    "start_time": "2022-06-13T08:17:14.485Z"
   },
   {
    "duration": 78,
    "start_time": "2022-06-13T08:17:27.886Z"
   },
   {
    "duration": 68,
    "start_time": "2022-06-13T08:17:53.702Z"
   },
   {
    "duration": 59,
    "start_time": "2022-06-13T08:52:47.713Z"
   },
   {
    "duration": 102,
    "start_time": "2022-06-13T08:54:57.778Z"
   },
   {
    "duration": 20,
    "start_time": "2022-06-13T08:55:43.450Z"
   },
   {
    "duration": 22,
    "start_time": "2022-06-13T09:17:19.269Z"
   },
   {
    "duration": 66,
    "start_time": "2022-06-13T09:18:13.267Z"
   },
   {
    "duration": 48,
    "start_time": "2022-06-13T09:22:33.785Z"
   },
   {
    "duration": 27,
    "start_time": "2022-06-13T09:27:47.171Z"
   },
   {
    "duration": 17,
    "start_time": "2022-06-13T09:27:53.273Z"
   },
   {
    "duration": 11,
    "start_time": "2022-06-13T09:30:20.569Z"
   },
   {
    "duration": 10,
    "start_time": "2022-06-13T09:30:49.279Z"
   },
   {
    "duration": 171,
    "start_time": "2022-06-13T09:31:09.785Z"
   },
   {
    "duration": 68,
    "start_time": "2022-06-13T09:31:10.278Z"
   },
   {
    "duration": 18,
    "start_time": "2022-06-13T09:32:13.449Z"
   },
   {
    "duration": 3,
    "start_time": "2022-06-13T09:32:40.415Z"
   },
   {
    "duration": 12,
    "start_time": "2022-06-13T09:32:42.384Z"
   },
   {
    "duration": 10,
    "start_time": "2022-06-13T09:32:48.194Z"
   },
   {
    "duration": 13,
    "start_time": "2022-06-13T09:33:16.777Z"
   },
   {
    "duration": 4,
    "start_time": "2022-06-13T09:33:26.378Z"
   },
   {
    "duration": 11,
    "start_time": "2022-06-13T09:34:06.587Z"
   },
   {
    "duration": 3,
    "start_time": "2022-06-13T09:34:25.522Z"
   },
   {
    "duration": 12,
    "start_time": "2022-06-13T09:35:05.967Z"
   },
   {
    "duration": 13,
    "start_time": "2022-06-13T09:35:54.025Z"
   },
   {
    "duration": 14,
    "start_time": "2022-06-13T09:36:11.966Z"
   },
   {
    "duration": 9,
    "start_time": "2022-06-13T09:36:41.025Z"
   },
   {
    "duration": 24,
    "start_time": "2022-06-13T09:37:10.438Z"
   },
   {
    "duration": 9,
    "start_time": "2022-06-13T09:38:42.088Z"
   },
   {
    "duration": 5,
    "start_time": "2022-06-13T09:38:57.040Z"
   },
   {
    "duration": 21,
    "start_time": "2022-06-13T09:39:14.004Z"
   },
   {
    "duration": 35,
    "start_time": "2022-06-13T09:39:47.109Z"
   },
   {
    "duration": 39,
    "start_time": "2022-06-13T09:40:05.929Z"
   },
   {
    "duration": 20,
    "start_time": "2022-06-13T09:40:22.748Z"
   },
   {
    "duration": 14,
    "start_time": "2022-06-13T09:50:04.918Z"
   },
   {
    "duration": 30,
    "start_time": "2022-06-13T09:50:24.945Z"
   },
   {
    "duration": 24,
    "start_time": "2022-06-13T09:50:41.511Z"
   },
   {
    "duration": 27,
    "start_time": "2022-06-13T09:51:01.780Z"
   },
   {
    "duration": 27,
    "start_time": "2022-06-13T09:51:51.278Z"
   },
   {
    "duration": 5,
    "start_time": "2022-06-13T09:56:07.228Z"
   },
   {
    "duration": 3,
    "start_time": "2022-06-13T10:34:55.692Z"
   },
   {
    "duration": 43,
    "start_time": "2022-06-13T10:35:50.979Z"
   },
   {
    "duration": 619,
    "start_time": "2022-06-13T10:36:15.227Z"
   },
   {
    "duration": 787,
    "start_time": "2022-06-13T10:36:57.743Z"
   },
   {
    "duration": 21359,
    "start_time": "2022-06-13T10:37:31.849Z"
   },
   {
    "duration": 27,
    "start_time": "2022-06-13T10:42:18.014Z"
   },
   {
    "duration": 77,
    "start_time": "2022-06-13T10:43:38.642Z"
   },
   {
    "duration": 79,
    "start_time": "2022-06-13T10:43:49.420Z"
   },
   {
    "duration": 44,
    "start_time": "2022-06-13T10:44:23.580Z"
   },
   {
    "duration": 44,
    "start_time": "2022-06-13T10:44:30.696Z"
   },
   {
    "duration": 43,
    "start_time": "2022-06-13T10:44:56.980Z"
   },
   {
    "duration": 67,
    "start_time": "2022-06-13T10:45:07.928Z"
   },
   {
    "duration": 56,
    "start_time": "2022-06-13T10:45:23.601Z"
   },
   {
    "duration": 57,
    "start_time": "2022-06-13T10:45:41.277Z"
   },
   {
    "duration": 49,
    "start_time": "2022-06-13T10:45:48.547Z"
   },
   {
    "duration": 44,
    "start_time": "2022-06-13T10:45:53.406Z"
   },
   {
    "duration": 75,
    "start_time": "2022-06-13T10:46:09.014Z"
   },
   {
    "duration": 47,
    "start_time": "2022-06-13T10:46:23.685Z"
   },
   {
    "duration": 32,
    "start_time": "2022-06-13T10:48:16.276Z"
   },
   {
    "duration": 28,
    "start_time": "2022-06-13T10:48:32.791Z"
   },
   {
    "duration": 27,
    "start_time": "2022-06-13T10:48:41.994Z"
   },
   {
    "duration": 36,
    "start_time": "2022-06-13T10:50:18.527Z"
   },
   {
    "duration": 30,
    "start_time": "2022-06-13T10:52:54.198Z"
   },
   {
    "duration": 7,
    "start_time": "2022-06-13T11:00:10.812Z"
   },
   {
    "duration": 7,
    "start_time": "2022-06-13T11:00:29.500Z"
   },
   {
    "duration": 14,
    "start_time": "2022-06-13T11:00:46.381Z"
   },
   {
    "duration": 13,
    "start_time": "2022-06-13T11:01:00.488Z"
   },
   {
    "duration": 3,
    "start_time": "2022-06-13T11:01:22.665Z"
   },
   {
    "duration": 16,
    "start_time": "2022-06-13T11:01:29.068Z"
   },
   {
    "duration": 4,
    "start_time": "2022-06-13T11:08:33.711Z"
   },
   {
    "duration": 76,
    "start_time": "2022-06-13T11:08:43.729Z"
   },
   {
    "duration": 19,
    "start_time": "2022-06-13T11:09:04.388Z"
   },
   {
    "duration": 14,
    "start_time": "2022-06-13T11:09:32.476Z"
   },
   {
    "duration": 19,
    "start_time": "2022-06-13T11:09:38.176Z"
   },
   {
    "duration": 66,
    "start_time": "2022-06-13T11:09:38.774Z"
   },
   {
    "duration": 154,
    "start_time": "2022-06-13T11:13:05.297Z"
   },
   {
    "duration": 361,
    "start_time": "2022-06-13T11:13:22.140Z"
   },
   {
    "duration": 406,
    "start_time": "2022-06-13T11:13:47.578Z"
   },
   {
    "duration": 13,
    "start_time": "2022-06-13T11:15:49.149Z"
   },
   {
    "duration": 15,
    "start_time": "2022-06-13T11:20:57.695Z"
   },
   {
    "duration": 186,
    "start_time": "2022-06-13T11:21:02.975Z"
   },
   {
    "duration": 52,
    "start_time": "2022-06-13T11:21:04.948Z"
   },
   {
    "duration": 78,
    "start_time": "2022-06-13T11:21:25.280Z"
   },
   {
    "duration": 7,
    "start_time": "2022-06-13T11:22:56.911Z"
   },
   {
    "duration": 8,
    "start_time": "2022-06-13T11:23:12.331Z"
   },
   {
    "duration": 1561,
    "start_time": "2022-06-13T11:25:38.179Z"
   },
   {
    "duration": 914,
    "start_time": "2022-06-13T11:25:41.649Z"
   },
   {
    "duration": 3,
    "start_time": "2022-06-13T11:25:42.565Z"
   },
   {
    "duration": 31,
    "start_time": "2022-06-13T11:25:42.587Z"
   },
   {
    "duration": 12,
    "start_time": "2022-06-13T11:25:42.922Z"
   },
   {
    "duration": 727,
    "start_time": "2022-06-13T11:25:43.163Z"
   },
   {
    "duration": 142,
    "start_time": "2022-06-13T11:25:43.892Z"
   },
   {
    "duration": 330,
    "start_time": "2022-06-13T11:25:44.908Z"
   },
   {
    "duration": 94,
    "start_time": "2022-06-13T11:25:45.239Z"
   },
   {
    "duration": 17,
    "start_time": "2022-06-13T11:25:46.039Z"
   },
   {
    "duration": 96,
    "start_time": "2022-06-13T11:25:46.536Z"
   },
   {
    "duration": 345,
    "start_time": "2022-06-13T11:25:46.802Z"
   },
   {
    "duration": 5,
    "start_time": "2022-06-13T11:25:47.778Z"
   },
   {
    "duration": 6,
    "start_time": "2022-06-13T11:25:48.712Z"
   },
   {
    "duration": 5,
    "start_time": "2022-06-13T11:25:49.411Z"
   },
   {
    "duration": 3,
    "start_time": "2022-06-13T11:25:51.094Z"
   },
   {
    "duration": 1766,
    "start_time": "2022-06-13T11:25:51.595Z"
   },
   {
    "duration": 42,
    "start_time": "2022-06-13T11:25:53.363Z"
   },
   {
    "duration": 68,
    "start_time": "2022-06-13T11:25:53.407Z"
   },
   {
    "duration": 98,
    "start_time": "2022-06-13T11:25:54.309Z"
   },
   {
    "duration": 6,
    "start_time": "2022-06-13T11:25:54.608Z"
   },
   {
    "duration": 7,
    "start_time": "2022-06-13T11:25:55.014Z"
   },
   {
    "duration": 11571,
    "start_time": "2022-06-13T11:25:55.831Z"
   },
   {
    "duration": 370,
    "start_time": "2022-06-13T11:26:07.405Z"
   },
   {
    "duration": 753,
    "start_time": "2022-06-13T11:26:07.777Z"
   },
   {
    "duration": 159,
    "start_time": "2022-06-13T11:26:08.533Z"
   },
   {
    "duration": 140,
    "start_time": "2022-06-13T11:26:22.599Z"
   },
   {
    "duration": 159,
    "start_time": "2022-06-13T11:26:23.518Z"
   },
   {
    "duration": 484,
    "start_time": "2022-06-13T11:26:26.455Z"
   },
   {
    "duration": 220,
    "start_time": "2022-06-13T11:26:27.243Z"
   },
   {
    "duration": 189,
    "start_time": "2022-06-13T11:26:28.482Z"
   },
   {
    "duration": 128,
    "start_time": "2022-06-13T11:26:34.235Z"
   },
   {
    "duration": 6,
    "start_time": "2022-06-13T11:26:56.938Z"
   },
   {
    "duration": 57,
    "start_time": "2022-06-13T11:26:57.391Z"
   },
   {
    "duration": 11,
    "start_time": "2022-06-13T11:26:58.486Z"
   },
   {
    "duration": 21,
    "start_time": "2022-06-13T11:26:59.971Z"
   },
   {
    "duration": 24,
    "start_time": "2022-06-13T11:27:01.303Z"
   },
   {
    "duration": 10,
    "start_time": "2022-06-13T11:27:29.201Z"
   },
   {
    "duration": 24,
    "start_time": "2022-06-13T11:27:57.275Z"
   },
   {
    "duration": 60,
    "start_time": "2022-06-13T11:28:50.739Z"
   },
   {
    "duration": 65,
    "start_time": "2022-06-13T11:29:14.261Z"
   },
   {
    "duration": 25,
    "start_time": "2022-06-13T11:29:40.295Z"
   },
   {
    "duration": 28,
    "start_time": "2022-06-13T11:30:00.071Z"
   },
   {
    "duration": 153,
    "start_time": "2022-06-13T11:30:01.188Z"
   },
   {
    "duration": 15,
    "start_time": "2022-06-13T11:30:01.876Z"
   },
   {
    "duration": 957,
    "start_time": "2022-06-13T11:30:02.416Z"
   },
   {
    "duration": 20,
    "start_time": "2022-06-13T11:30:06.049Z"
   },
   {
    "duration": 20,
    "start_time": "2022-06-13T11:30:06.071Z"
   },
   {
    "duration": 29,
    "start_time": "2022-06-13T11:30:06.092Z"
   },
   {
    "duration": 56,
    "start_time": "2022-06-13T11:30:06.604Z"
   },
   {
    "duration": 42,
    "start_time": "2022-06-13T11:30:07.683Z"
   },
   {
    "duration": 18,
    "start_time": "2022-06-13T11:30:08.170Z"
   },
   {
    "duration": 37,
    "start_time": "2022-06-13T11:30:08.614Z"
   },
   {
    "duration": 24,
    "start_time": "2022-06-13T11:30:09.094Z"
   },
   {
    "duration": 19,
    "start_time": "2022-06-13T11:30:10.512Z"
   },
   {
    "duration": 22,
    "start_time": "2022-06-13T11:30:30.990Z"
   },
   {
    "duration": 88,
    "start_time": "2022-06-13T11:30:32.124Z"
   },
   {
    "duration": 101,
    "start_time": "2022-06-13T11:30:34.565Z"
   },
   {
    "duration": 126,
    "start_time": "2022-06-13T11:30:37.451Z"
   },
   {
    "duration": 224,
    "start_time": "2022-06-13T11:30:54.152Z"
   },
   {
    "duration": 7,
    "start_time": "2022-06-13T11:30:56.051Z"
   },
   {
    "duration": 60,
    "start_time": "2022-06-13T11:30:59.768Z"
   },
   {
    "duration": 60,
    "start_time": "2022-06-13T11:31:09.301Z"
   },
   {
    "duration": 25,
    "start_time": "2022-06-13T11:31:17.552Z"
   },
   {
    "duration": 27,
    "start_time": "2022-06-13T11:33:30.150Z"
   },
   {
    "duration": 227,
    "start_time": "2022-06-13T11:34:50.071Z"
   },
   {
    "duration": 21,
    "start_time": "2022-06-13T11:35:04.600Z"
   },
   {
    "duration": 97,
    "start_time": "2022-06-13T11:35:06.027Z"
   },
   {
    "duration": 84,
    "start_time": "2022-06-13T11:35:06.674Z"
   },
   {
    "duration": 103,
    "start_time": "2022-06-13T11:35:09.662Z"
   },
   {
    "duration": 1247,
    "start_time": "2022-06-13T11:35:43.327Z"
   },
   {
    "duration": 965,
    "start_time": "2022-06-13T11:35:45.045Z"
   },
   {
    "duration": 4,
    "start_time": "2022-06-13T11:35:46.013Z"
   },
   {
    "duration": 50,
    "start_time": "2022-06-13T11:35:46.018Z"
   },
   {
    "duration": 14,
    "start_time": "2022-06-13T11:35:46.071Z"
   },
   {
    "duration": 777,
    "start_time": "2022-06-13T11:35:46.087Z"
   },
   {
    "duration": 122,
    "start_time": "2022-06-13T11:35:46.867Z"
   },
   {
    "duration": 326,
    "start_time": "2022-06-13T11:35:46.990Z"
   },
   {
    "duration": 114,
    "start_time": "2022-06-13T11:35:47.318Z"
   },
   {
    "duration": 19,
    "start_time": "2022-06-13T11:35:47.581Z"
   },
   {
    "duration": 110,
    "start_time": "2022-06-13T11:35:47.885Z"
   },
   {
    "duration": 343,
    "start_time": "2022-06-13T11:35:48.043Z"
   },
   {
    "duration": 4,
    "start_time": "2022-06-13T11:35:48.489Z"
   },
   {
    "duration": 5,
    "start_time": "2022-06-13T11:35:48.799Z"
   },
   {
    "duration": 4,
    "start_time": "2022-06-13T11:35:49.410Z"
   },
   {
    "duration": 3,
    "start_time": "2022-06-13T11:35:49.795Z"
   },
   {
    "duration": 337,
    "start_time": "2022-06-13T11:35:49.997Z"
   },
   {
    "duration": 53,
    "start_time": "2022-06-13T11:35:50.421Z"
   },
   {
    "duration": 11,
    "start_time": "2022-06-13T11:35:50.942Z"
   },
   {
    "duration": 87,
    "start_time": "2022-06-13T11:35:51.255Z"
   },
   {
    "duration": 7,
    "start_time": "2022-06-13T11:35:51.409Z"
   },
   {
    "duration": 6,
    "start_time": "2022-06-13T11:35:51.582Z"
   },
   {
    "duration": 11646,
    "start_time": "2022-06-13T11:35:51.910Z"
   },
   {
    "duration": 250,
    "start_time": "2022-06-13T11:36:03.558Z"
   },
   {
    "duration": 865,
    "start_time": "2022-06-13T11:36:03.809Z"
   },
   {
    "duration": 175,
    "start_time": "2022-06-13T11:36:04.676Z"
   },
   {
    "duration": 197,
    "start_time": "2022-06-13T11:36:04.852Z"
   },
   {
    "duration": 505,
    "start_time": "2022-06-13T11:36:05.051Z"
   },
   {
    "duration": 238,
    "start_time": "2022-06-13T11:36:05.565Z"
   },
   {
    "duration": 205,
    "start_time": "2022-06-13T11:36:05.804Z"
   },
   {
    "duration": 154,
    "start_time": "2022-06-13T11:36:06.012Z"
   },
   {
    "duration": 8,
    "start_time": "2022-06-13T11:36:06.169Z"
   },
   {
    "duration": 76,
    "start_time": "2022-06-13T11:36:06.178Z"
   },
   {
    "duration": 14,
    "start_time": "2022-06-13T11:36:06.256Z"
   },
   {
    "duration": 34,
    "start_time": "2022-06-13T11:36:06.271Z"
   },
   {
    "duration": 52,
    "start_time": "2022-06-13T11:36:06.307Z"
   },
   {
    "duration": 24,
    "start_time": "2022-06-13T11:36:06.361Z"
   },
   {
    "duration": 31,
    "start_time": "2022-06-13T11:36:06.387Z"
   },
   {
    "duration": 181,
    "start_time": "2022-06-13T11:36:06.420Z"
   },
   {
    "duration": 17,
    "start_time": "2022-06-13T11:36:06.604Z"
   },
   {
    "duration": 442,
    "start_time": "2022-06-13T11:36:06.623Z"
   },
   {
    "duration": 8,
    "start_time": "2022-06-13T11:36:07.067Z"
   },
   {
    "duration": 28,
    "start_time": "2022-06-13T11:36:07.076Z"
   },
   {
    "duration": 74,
    "start_time": "2022-06-13T11:36:07.106Z"
   },
   {
    "duration": 60,
    "start_time": "2022-06-13T11:36:07.182Z"
   },
   {
    "duration": 39,
    "start_time": "2022-06-13T11:36:19.649Z"
   },
   {
    "duration": 18,
    "start_time": "2022-06-13T11:36:20.382Z"
   },
   {
    "duration": 35,
    "start_time": "2022-06-13T11:36:21.555Z"
   },
   {
    "duration": 18,
    "start_time": "2022-06-13T11:36:30.464Z"
   },
   {
    "duration": 23,
    "start_time": "2022-06-13T11:36:31.703Z"
   },
   {
    "duration": 30,
    "start_time": "2022-06-13T11:36:35.323Z"
   },
   {
    "duration": 92,
    "start_time": "2022-06-13T11:36:35.627Z"
   },
   {
    "duration": 83,
    "start_time": "2022-06-13T11:36:36.289Z"
   },
   {
    "duration": 90,
    "start_time": "2022-06-13T11:36:36.919Z"
   },
   {
    "duration": 222,
    "start_time": "2022-06-13T11:36:38.093Z"
   },
   {
    "duration": 7,
    "start_time": "2022-06-13T11:36:45.796Z"
   },
   {
    "duration": 25,
    "start_time": "2022-06-13T11:36:49.619Z"
   },
   {
    "duration": 64,
    "start_time": "2022-06-13T11:37:04.852Z"
   },
   {
    "duration": 237,
    "start_time": "2022-06-13T11:37:17.753Z"
   },
   {
    "duration": 63,
    "start_time": "2022-06-13T11:38:33.903Z"
   },
   {
    "duration": 27,
    "start_time": "2022-06-13T11:38:55.024Z"
   },
   {
    "duration": 59,
    "start_time": "2022-06-13T11:40:17.106Z"
   },
   {
    "duration": 191,
    "start_time": "2022-06-13T11:41:39.162Z"
   },
   {
    "duration": 207,
    "start_time": "2022-06-13T11:43:05.358Z"
   },
   {
    "duration": 89,
    "start_time": "2022-06-13T11:43:26.279Z"
   },
   {
    "duration": 92,
    "start_time": "2022-06-13T11:43:39.500Z"
   },
   {
    "duration": 171,
    "start_time": "2022-06-13T11:48:06.463Z"
   },
   {
    "duration": 508,
    "start_time": "2022-06-13T11:48:30.749Z"
   },
   {
    "duration": 13,
    "start_time": "2022-06-13T11:49:00.774Z"
   },
   {
    "duration": 180,
    "start_time": "2022-06-13T11:49:05.687Z"
   },
   {
    "duration": 20,
    "start_time": "2022-06-13T11:49:19.253Z"
   },
   {
    "duration": 95,
    "start_time": "2022-06-13T11:49:34.899Z"
   },
   {
    "duration": 73,
    "start_time": "2022-06-13T11:49:37.793Z"
   },
   {
    "duration": 138,
    "start_time": "2022-06-13T11:51:19.898Z"
   },
   {
    "duration": 24,
    "start_time": "2022-06-13T11:52:01.591Z"
   },
   {
    "duration": 178,
    "start_time": "2022-06-13T11:57:44.123Z"
   },
   {
    "duration": 77,
    "start_time": "2022-06-13T11:58:22.046Z"
   },
   {
    "duration": 81,
    "start_time": "2022-06-13T11:58:38.777Z"
   },
   {
    "duration": 57,
    "start_time": "2022-06-13T11:58:51.119Z"
   },
   {
    "duration": 63,
    "start_time": "2022-06-13T11:59:03.928Z"
   },
   {
    "duration": 94,
    "start_time": "2022-06-13T11:59:18.820Z"
   },
   {
    "duration": 87,
    "start_time": "2022-06-13T11:59:36.858Z"
   },
   {
    "duration": 39,
    "start_time": "2022-06-13T12:00:11.356Z"
   },
   {
    "duration": 41,
    "start_time": "2022-06-13T12:00:37.332Z"
   },
   {
    "duration": 18,
    "start_time": "2022-06-13T12:00:43.647Z"
   },
   {
    "duration": 69,
    "start_time": "2022-06-13T12:01:16.672Z"
   },
   {
    "duration": 35,
    "start_time": "2022-06-13T12:01:36.871Z"
   },
   {
    "duration": 59,
    "start_time": "2022-06-13T12:02:11.567Z"
   },
   {
    "duration": 29,
    "start_time": "2022-06-13T12:04:29.570Z"
   },
   {
    "duration": 7,
    "start_time": "2022-06-13T12:05:18.936Z"
   },
   {
    "duration": 41,
    "start_time": "2022-06-13T12:06:18.492Z"
   },
   {
    "duration": 33,
    "start_time": "2022-06-13T12:06:25.717Z"
   },
   {
    "duration": 42,
    "start_time": "2022-06-13T12:06:30.969Z"
   },
   {
    "duration": 7,
    "start_time": "2022-06-13T12:07:15.596Z"
   },
   {
    "duration": 13,
    "start_time": "2022-06-13T12:08:08.798Z"
   },
   {
    "duration": 33,
    "start_time": "2022-06-13T12:10:27.783Z"
   },
   {
    "duration": 49,
    "start_time": "2022-06-13T12:11:32.011Z"
   },
   {
    "duration": 38,
    "start_time": "2022-06-13T12:12:26.756Z"
   },
   {
    "duration": 75,
    "start_time": "2022-06-13T12:14:55.276Z"
   },
   {
    "duration": 31,
    "start_time": "2022-06-13T12:17:43.514Z"
   },
   {
    "duration": 40,
    "start_time": "2022-06-13T12:17:46.781Z"
   },
   {
    "duration": 38,
    "start_time": "2022-06-13T12:18:48.898Z"
   },
   {
    "duration": 24,
    "start_time": "2022-06-13T12:23:01.932Z"
   },
   {
    "duration": 26,
    "start_time": "2022-06-13T12:25:32.963Z"
   },
   {
    "duration": 19,
    "start_time": "2022-06-13T12:26:49.682Z"
   },
   {
    "duration": 3,
    "start_time": "2022-06-13T12:27:04.287Z"
   },
   {
    "duration": 8,
    "start_time": "2022-06-13T12:28:08.993Z"
   },
   {
    "duration": 25,
    "start_time": "2022-06-13T12:28:15.151Z"
   },
   {
    "duration": 6,
    "start_time": "2022-06-13T12:28:26.581Z"
   },
   {
    "duration": 6,
    "start_time": "2022-06-13T12:28:30.789Z"
   },
   {
    "duration": 9,
    "start_time": "2022-06-13T12:29:06.775Z"
   },
   {
    "duration": 28,
    "start_time": "2022-06-13T12:29:19.052Z"
   },
   {
    "duration": 43,
    "start_time": "2022-06-13T12:30:14.584Z"
   },
   {
    "duration": 56,
    "start_time": "2022-06-13T12:30:36.518Z"
   },
   {
    "duration": 25,
    "start_time": "2022-06-13T12:30:51.888Z"
   },
   {
    "duration": 21,
    "start_time": "2022-06-13T12:31:01.083Z"
   },
   {
    "duration": 26,
    "start_time": "2022-06-13T12:31:08.324Z"
   },
   {
    "duration": 23,
    "start_time": "2022-06-13T12:31:15.789Z"
   },
   {
    "duration": 19,
    "start_time": "2022-06-13T12:31:29.910Z"
   },
   {
    "duration": 24,
    "start_time": "2022-06-13T12:31:50.187Z"
   },
   {
    "duration": 19,
    "start_time": "2022-06-13T12:32:07.262Z"
   },
   {
    "duration": 5,
    "start_time": "2022-06-13T12:32:25.685Z"
   },
   {
    "duration": 4,
    "start_time": "2022-06-13T12:33:10.769Z"
   },
   {
    "duration": 5,
    "start_time": "2022-06-13T12:33:19.900Z"
   },
   {
    "duration": 12,
    "start_time": "2022-06-13T12:34:14.374Z"
   },
   {
    "duration": 11,
    "start_time": "2022-06-13T12:34:52.919Z"
   },
   {
    "duration": 28,
    "start_time": "2022-06-13T12:35:17.703Z"
   },
   {
    "duration": 30,
    "start_time": "2022-06-13T12:35:44.697Z"
   },
   {
    "duration": 18,
    "start_time": "2022-06-13T12:36:10.440Z"
   },
   {
    "duration": 11,
    "start_time": "2022-06-13T12:36:16.899Z"
   },
   {
    "duration": 12,
    "start_time": "2022-06-13T12:36:23.167Z"
   },
   {
    "duration": 5,
    "start_time": "2022-06-13T12:36:54.329Z"
   },
   {
    "duration": 29,
    "start_time": "2022-06-13T12:37:23.803Z"
   },
   {
    "duration": 11,
    "start_time": "2022-06-13T12:37:36.462Z"
   },
   {
    "duration": 4,
    "start_time": "2022-06-13T12:37:44.916Z"
   },
   {
    "duration": 25,
    "start_time": "2022-06-13T13:13:18.693Z"
   },
   {
    "duration": 24,
    "start_time": "2022-06-13T13:14:32.583Z"
   },
   {
    "duration": 49,
    "start_time": "2022-06-13T13:14:33.168Z"
   },
   {
    "duration": 7,
    "start_time": "2022-06-13T13:17:02.961Z"
   },
   {
    "duration": 18,
    "start_time": "2022-06-13T13:18:18.705Z"
   },
   {
    "duration": 14,
    "start_time": "2022-06-13T13:18:38.677Z"
   },
   {
    "duration": 12,
    "start_time": "2022-06-13T13:18:54.828Z"
   },
   {
    "duration": 509,
    "start_time": "2022-06-13T13:19:05.887Z"
   },
   {
    "duration": 20,
    "start_time": "2022-06-13T13:19:23.066Z"
   },
   {
    "duration": 390,
    "start_time": "2022-06-13T13:20:48.731Z"
   },
   {
    "duration": 4,
    "start_time": "2022-06-13T13:21:07.681Z"
   },
   {
    "duration": 4,
    "start_time": "2022-06-13T13:21:18.038Z"
   },
   {
    "duration": 10,
    "start_time": "2022-06-13T13:23:02.040Z"
   },
   {
    "duration": 10,
    "start_time": "2022-06-13T13:23:16.234Z"
   },
   {
    "duration": 18,
    "start_time": "2022-06-13T13:24:28.380Z"
   },
   {
    "duration": 13,
    "start_time": "2022-06-13T13:24:48.742Z"
   },
   {
    "duration": 8,
    "start_time": "2022-06-13T13:25:46.330Z"
   },
   {
    "duration": 18,
    "start_time": "2022-06-13T13:26:23.750Z"
   },
   {
    "duration": 16,
    "start_time": "2022-06-13T13:27:26.415Z"
   },
   {
    "duration": 15,
    "start_time": "2022-06-13T13:27:34.558Z"
   },
   {
    "duration": 16,
    "start_time": "2022-06-13T13:27:41.826Z"
   },
   {
    "duration": 16,
    "start_time": "2022-06-13T13:28:05.234Z"
   },
   {
    "duration": 15,
    "start_time": "2022-06-13T13:29:20.189Z"
   },
   {
    "duration": 15,
    "start_time": "2022-06-13T13:30:13.631Z"
   },
   {
    "duration": 12,
    "start_time": "2022-06-13T13:30:55.153Z"
   },
   {
    "duration": 22,
    "start_time": "2022-06-13T13:31:53.333Z"
   },
   {
    "duration": 16,
    "start_time": "2022-06-13T13:32:11.645Z"
   },
   {
    "duration": 15,
    "start_time": "2022-06-13T13:32:20.113Z"
   },
   {
    "duration": 10,
    "start_time": "2022-06-13T13:33:08.848Z"
   },
   {
    "duration": 16,
    "start_time": "2022-06-13T13:33:10.530Z"
   },
   {
    "duration": 19,
    "start_time": "2022-06-13T13:33:32.692Z"
   },
   {
    "duration": 11,
    "start_time": "2022-06-13T13:34:46.301Z"
   },
   {
    "duration": 16,
    "start_time": "2022-06-13T13:35:02.666Z"
   },
   {
    "duration": 16,
    "start_time": "2022-06-13T13:35:41.465Z"
   },
   {
    "duration": 14,
    "start_time": "2022-06-13T13:36:13.922Z"
   },
   {
    "duration": 17,
    "start_time": "2022-06-13T13:36:28.208Z"
   },
   {
    "duration": 90,
    "start_time": "2022-06-13T13:37:24.589Z"
   },
   {
    "duration": 24,
    "start_time": "2022-06-13T13:41:05.534Z"
   },
   {
    "duration": 19,
    "start_time": "2022-06-13T13:41:41.335Z"
   },
   {
    "duration": 19,
    "start_time": "2022-06-13T13:41:51.563Z"
   },
   {
    "duration": 59,
    "start_time": "2022-06-13T13:44:02.525Z"
   },
   {
    "duration": 61,
    "start_time": "2022-06-13T13:44:36.413Z"
   },
   {
    "duration": 20,
    "start_time": "2022-06-13T13:45:05.855Z"
   },
   {
    "duration": 74,
    "start_time": "2022-06-13T13:45:23.074Z"
   },
   {
    "duration": 77,
    "start_time": "2022-06-13T13:46:29.385Z"
   },
   {
    "duration": 69,
    "start_time": "2022-06-13T13:48:47.829Z"
   },
   {
    "duration": 19,
    "start_time": "2022-06-13T13:49:40.565Z"
   },
   {
    "duration": 18,
    "start_time": "2022-06-13T13:50:08.521Z"
   },
   {
    "duration": 121,
    "start_time": "2022-06-13T13:50:28.899Z"
   },
   {
    "duration": 183,
    "start_time": "2022-06-13T13:51:13.750Z"
   },
   {
    "duration": 93,
    "start_time": "2022-06-13T13:51:21.225Z"
   },
   {
    "duration": 97,
    "start_time": "2022-06-13T13:51:27.062Z"
   },
   {
    "duration": 182,
    "start_time": "2022-06-13T13:51:34.946Z"
   },
   {
    "duration": 99,
    "start_time": "2022-06-13T13:53:19.704Z"
   },
   {
    "duration": 113,
    "start_time": "2022-06-13T13:53:26.667Z"
   },
   {
    "duration": 204,
    "start_time": "2022-06-13T13:53:34.860Z"
   },
   {
    "duration": 100,
    "start_time": "2022-06-13T13:53:51.345Z"
   },
   {
    "duration": 107,
    "start_time": "2022-06-13T13:54:00.152Z"
   },
   {
    "duration": 97,
    "start_time": "2022-06-13T13:54:08.753Z"
   },
   {
    "duration": 5,
    "start_time": "2022-06-13T13:56:08.250Z"
   },
   {
    "duration": 5,
    "start_time": "2022-06-13T13:57:12.871Z"
   },
   {
    "duration": 137,
    "start_time": "2022-06-13T13:57:13.383Z"
   },
   {
    "duration": 5,
    "start_time": "2022-06-13T13:58:20.350Z"
   },
   {
    "duration": 16,
    "start_time": "2022-06-13T13:58:22.297Z"
   },
   {
    "duration": 4,
    "start_time": "2022-06-13T13:58:33.972Z"
   },
   {
    "duration": 15,
    "start_time": "2022-06-13T13:58:35.609Z"
   },
   {
    "duration": 29,
    "start_time": "2022-06-13T14:00:05.936Z"
   },
   {
    "duration": 37,
    "start_time": "2022-06-13T14:00:23.746Z"
   },
   {
    "duration": 25,
    "start_time": "2022-06-13T14:00:48.013Z"
   },
   {
    "duration": 13,
    "start_time": "2022-06-13T14:01:04.090Z"
   },
   {
    "duration": 21,
    "start_time": "2022-06-13T14:01:49.147Z"
   },
   {
    "duration": 31,
    "start_time": "2022-06-13T14:02:01.244Z"
   },
   {
    "duration": 20,
    "start_time": "2022-06-13T14:02:08.704Z"
   },
   {
    "duration": 22,
    "start_time": "2022-06-13T14:03:08.713Z"
   },
   {
    "duration": 23,
    "start_time": "2022-06-13T14:03:49.263Z"
   },
   {
    "duration": 36,
    "start_time": "2022-06-13T14:04:01.449Z"
   },
   {
    "duration": 5,
    "start_time": "2022-06-13T14:04:09.744Z"
   },
   {
    "duration": 349,
    "start_time": "2022-06-13T14:04:12.508Z"
   },
   {
    "duration": 33,
    "start_time": "2022-06-13T14:04:38.532Z"
   },
   {
    "duration": 24,
    "start_time": "2022-06-13T14:04:57.566Z"
   },
   {
    "duration": 119,
    "start_time": "2022-06-13T14:05:49.993Z"
   },
   {
    "duration": 20,
    "start_time": "2022-06-13T14:06:17.955Z"
   },
   {
    "duration": 36,
    "start_time": "2022-06-13T14:06:27.063Z"
   },
   {
    "duration": 39,
    "start_time": "2022-06-13T14:06:34.949Z"
   },
   {
    "duration": 23,
    "start_time": "2022-06-13T14:07:26.867Z"
   },
   {
    "duration": 20,
    "start_time": "2022-06-13T14:08:12.948Z"
   },
   {
    "duration": 22,
    "start_time": "2022-06-13T14:09:25.346Z"
   },
   {
    "duration": 22,
    "start_time": "2022-06-13T14:09:57.975Z"
   },
   {
    "duration": 18,
    "start_time": "2022-06-13T14:11:14.659Z"
   },
   {
    "duration": 67,
    "start_time": "2022-06-13T14:11:25.670Z"
   },
   {
    "duration": 8,
    "start_time": "2022-06-13T14:15:53.711Z"
   },
   {
    "duration": 68,
    "start_time": "2022-06-13T14:16:22.088Z"
   },
   {
    "duration": 8,
    "start_time": "2022-06-13T14:16:26.055Z"
   },
   {
    "duration": 8,
    "start_time": "2022-06-13T14:16:49.274Z"
   },
   {
    "duration": 9,
    "start_time": "2022-06-13T14:17:03.424Z"
   },
   {
    "duration": 29,
    "start_time": "2022-06-13T14:17:23.567Z"
   },
   {
    "duration": 13,
    "start_time": "2022-06-13T14:17:39.268Z"
   },
   {
    "duration": 17,
    "start_time": "2022-06-13T14:17:51.613Z"
   },
   {
    "duration": 76,
    "start_time": "2022-06-13T14:18:07.436Z"
   },
   {
    "duration": 14,
    "start_time": "2022-06-13T14:18:14.642Z"
   },
   {
    "duration": 15,
    "start_time": "2022-06-13T14:18:45.747Z"
   },
   {
    "duration": 28,
    "start_time": "2022-06-13T14:28:25.357Z"
   },
   {
    "duration": 10,
    "start_time": "2022-06-13T14:29:14.495Z"
   },
   {
    "duration": 8,
    "start_time": "2022-06-13T14:29:34.405Z"
   },
   {
    "duration": 10,
    "start_time": "2022-06-13T14:29:40.841Z"
   },
   {
    "duration": 54,
    "start_time": "2022-06-13T14:34:10.093Z"
   },
   {
    "duration": 72,
    "start_time": "2022-06-13T14:34:27.734Z"
   },
   {
    "duration": 22,
    "start_time": "2022-06-13T14:39:07.750Z"
   },
   {
    "duration": 47,
    "start_time": "2022-06-13T14:39:20.693Z"
   },
   {
    "duration": 1336,
    "start_time": "2022-06-13T14:44:01.684Z"
   },
   {
    "duration": 1072,
    "start_time": "2022-06-13T14:44:03.174Z"
   },
   {
    "duration": 4,
    "start_time": "2022-06-13T14:44:04.903Z"
   },
   {
    "duration": 32,
    "start_time": "2022-06-13T14:44:05.623Z"
   },
   {
    "duration": 11,
    "start_time": "2022-06-13T14:44:07.416Z"
   },
   {
    "duration": 683,
    "start_time": "2022-06-13T14:44:08.227Z"
   },
   {
    "duration": 97,
    "start_time": "2022-06-13T14:44:09.688Z"
   },
   {
    "duration": 283,
    "start_time": "2022-06-13T14:44:12.662Z"
   },
   {
    "duration": 77,
    "start_time": "2022-06-13T14:44:13.848Z"
   },
   {
    "duration": 17,
    "start_time": "2022-06-13T14:44:18.327Z"
   },
   {
    "duration": 80,
    "start_time": "2022-06-13T14:44:19.382Z"
   },
   {
    "duration": 344,
    "start_time": "2022-06-13T14:44:20.049Z"
   },
   {
    "duration": 5,
    "start_time": "2022-06-13T14:44:22.080Z"
   },
   {
    "duration": 6,
    "start_time": "2022-06-13T14:44:34.644Z"
   },
   {
    "duration": 5,
    "start_time": "2022-06-13T14:44:35.832Z"
   },
   {
    "duration": 4,
    "start_time": "2022-06-13T14:44:37.092Z"
   },
   {
    "duration": 308,
    "start_time": "2022-06-13T14:44:39.779Z"
   },
   {
    "duration": 45,
    "start_time": "2022-06-13T14:44:42.453Z"
   },
   {
    "duration": 4,
    "start_time": "2022-06-13T14:48:22.183Z"
   },
   {
    "duration": 42,
    "start_time": "2022-06-13T14:48:22.715Z"
   },
   {
    "duration": 4,
    "start_time": "2022-06-13T14:49:09.449Z"
   },
   {
    "duration": 5,
    "start_time": "2022-06-13T14:50:13.510Z"
   },
   {
    "duration": 79,
    "start_time": "2022-06-13T14:51:36.770Z"
   },
   {
    "duration": 6,
    "start_time": "2022-06-13T14:52:51.158Z"
   },
   {
    "duration": 6,
    "start_time": "2022-06-13T14:52:52.162Z"
   },
   {
    "duration": 10409,
    "start_time": "2022-06-13T14:53:24.892Z"
   },
   {
    "duration": 175,
    "start_time": "2022-06-13T14:53:50.661Z"
   },
   {
    "duration": 373,
    "start_time": "2022-06-13T14:54:05.631Z"
   },
   {
    "duration": 126,
    "start_time": "2022-06-13T14:54:10.162Z"
   },
   {
    "duration": 158,
    "start_time": "2022-06-13T14:54:21.924Z"
   },
   {
    "duration": 181,
    "start_time": "2022-06-13T14:57:28.463Z"
   },
   {
    "duration": 154,
    "start_time": "2022-06-13T14:57:58.336Z"
   },
   {
    "duration": 133,
    "start_time": "2022-06-13T14:58:37.256Z"
   },
   {
    "duration": 55,
    "start_time": "2022-06-13T15:07:52.114Z"
   },
   {
    "duration": 20,
    "start_time": "2022-06-13T15:08:22.020Z"
   },
   {
    "duration": 23,
    "start_time": "2022-06-13T15:08:22.639Z"
   },
   {
    "duration": 28,
    "start_time": "2022-06-13T15:08:39.661Z"
   },
   {
    "duration": 31,
    "start_time": "2022-06-13T15:08:40.439Z"
   },
   {
    "duration": 22,
    "start_time": "2022-06-13T15:09:37.528Z"
   },
   {
    "duration": 19,
    "start_time": "2022-06-13T15:13:03.520Z"
   },
   {
    "duration": 6,
    "start_time": "2022-06-13T15:13:58.148Z"
   },
   {
    "duration": 24,
    "start_time": "2022-06-13T15:14:06.193Z"
   },
   {
    "duration": 21,
    "start_time": "2022-06-13T15:14:53.604Z"
   },
   {
    "duration": 115,
    "start_time": "2022-06-13T15:15:08.213Z"
   },
   {
    "duration": 11,
    "start_time": "2022-06-13T15:15:23.512Z"
   },
   {
    "duration": 416,
    "start_time": "2022-06-13T15:16:10.337Z"
   },
   {
    "duration": 8,
    "start_time": "2022-06-13T15:16:34.290Z"
   },
   {
    "duration": 16,
    "start_time": "2022-06-13T15:16:35.077Z"
   },
   {
    "duration": 16,
    "start_time": "2022-06-13T15:16:37.165Z"
   },
   {
    "duration": 49,
    "start_time": "2022-06-13T15:18:22.120Z"
   },
   {
    "duration": 41,
    "start_time": "2022-06-13T15:18:37.590Z"
   },
   {
    "duration": 17,
    "start_time": "2022-06-13T15:18:38.081Z"
   },
   {
    "duration": 39,
    "start_time": "2022-06-13T15:19:07.802Z"
   },
   {
    "duration": 15,
    "start_time": "2022-06-13T15:19:54.543Z"
   },
   {
    "duration": 16,
    "start_time": "2022-06-13T15:21:55.111Z"
   },
   {
    "duration": 18,
    "start_time": "2022-06-13T15:25:44.388Z"
   },
   {
    "duration": 65,
    "start_time": "2022-06-13T15:25:45.151Z"
   },
   {
    "duration": 75,
    "start_time": "2022-06-13T15:25:47.303Z"
   },
   {
    "duration": 78,
    "start_time": "2022-06-13T15:25:52.278Z"
   },
   {
    "duration": 197,
    "start_time": "2022-06-13T15:26:09.891Z"
   },
   {
    "duration": 8,
    "start_time": "2022-06-13T15:26:17.174Z"
   },
   {
    "duration": 23,
    "start_time": "2022-06-13T15:26:57.912Z"
   },
   {
    "duration": 56,
    "start_time": "2022-06-13T15:27:09.282Z"
   },
   {
    "duration": 72,
    "start_time": "2022-06-13T15:28:10.247Z"
   },
   {
    "duration": 151,
    "start_time": "2022-06-13T15:29:19.655Z"
   },
   {
    "duration": 65,
    "start_time": "2022-06-13T15:29:32.662Z"
   },
   {
    "duration": 144,
    "start_time": "2022-06-13T15:29:47.869Z"
   },
   {
    "duration": 105,
    "start_time": "2022-06-13T15:30:08.904Z"
   },
   {
    "duration": 46,
    "start_time": "2022-06-13T15:30:25.183Z"
   },
   {
    "duration": 56,
    "start_time": "2022-06-13T15:30:29.542Z"
   },
   {
    "duration": 75,
    "start_time": "2022-06-13T15:30:45.960Z"
   },
   {
    "duration": 62,
    "start_time": "2022-06-13T15:33:12.779Z"
   },
   {
    "duration": 51,
    "start_time": "2022-06-13T15:33:42.116Z"
   },
   {
    "duration": 13,
    "start_time": "2022-06-13T15:33:59.977Z"
   },
   {
    "duration": 41,
    "start_time": "2022-06-13T15:34:04.692Z"
   },
   {
    "duration": 34,
    "start_time": "2022-06-13T15:34:05.398Z"
   },
   {
    "duration": 25,
    "start_time": "2022-06-13T15:37:23.098Z"
   },
   {
    "duration": 43,
    "start_time": "2022-06-13T15:39:40.476Z"
   },
   {
    "duration": 8,
    "start_time": "2022-06-13T15:42:38.379Z"
   },
   {
    "duration": 38,
    "start_time": "2022-06-13T15:43:20.487Z"
   },
   {
    "duration": 11,
    "start_time": "2022-06-13T15:45:11.327Z"
   },
   {
    "duration": 24,
    "start_time": "2022-06-13T15:45:37.261Z"
   },
   {
    "duration": 22,
    "start_time": "2022-06-13T15:45:51.775Z"
   },
   {
    "duration": 19,
    "start_time": "2022-06-13T15:45:57.733Z"
   },
   {
    "duration": 67,
    "start_time": "2022-06-13T15:47:58.020Z"
   },
   {
    "duration": 29,
    "start_time": "2022-06-13T15:49:35.590Z"
   },
   {
    "duration": 65,
    "start_time": "2022-06-13T15:49:53.087Z"
   },
   {
    "duration": 28,
    "start_time": "2022-06-13T15:51:26.415Z"
   },
   {
    "duration": 22,
    "start_time": "2022-06-13T15:51:36.628Z"
   },
   {
    "duration": 27,
    "start_time": "2022-06-13T15:51:51.785Z"
   },
   {
    "duration": 63,
    "start_time": "2022-06-13T15:51:58.983Z"
   },
   {
    "duration": 24,
    "start_time": "2022-06-13T15:52:08.744Z"
   },
   {
    "duration": 65,
    "start_time": "2022-06-13T15:52:34.615Z"
   },
   {
    "duration": 28,
    "start_time": "2022-06-13T15:53:20.514Z"
   },
   {
    "duration": 10,
    "start_time": "2022-06-13T16:02:55.736Z"
   },
   {
    "duration": 76,
    "start_time": "2022-06-13T16:05:07.668Z"
   },
   {
    "duration": 32,
    "start_time": "2022-06-13T16:06:02.010Z"
   },
   {
    "duration": 39,
    "start_time": "2022-06-13T16:09:00.051Z"
   },
   {
    "duration": 11,
    "start_time": "2022-06-13T16:09:27.003Z"
   },
   {
    "duration": 74,
    "start_time": "2022-06-13T16:09:34.553Z"
   },
   {
    "duration": 98,
    "start_time": "2022-06-13T16:09:37.644Z"
   },
   {
    "duration": 11,
    "start_time": "2022-06-13T16:09:45.577Z"
   },
   {
    "duration": 334,
    "start_time": "2022-06-13T16:15:08.276Z"
   },
   {
    "duration": 324,
    "start_time": "2022-06-13T16:15:20.502Z"
   },
   {
    "duration": 18,
    "start_time": "2022-06-13T16:15:38.092Z"
   },
   {
    "duration": 28,
    "start_time": "2022-06-13T16:19:14.572Z"
   },
   {
    "duration": 16,
    "start_time": "2022-06-13T16:19:43.571Z"
   },
   {
    "duration": 6,
    "start_time": "2022-06-13T16:20:10.247Z"
   },
   {
    "duration": 5,
    "start_time": "2022-06-13T16:20:26.798Z"
   },
   {
    "duration": 14,
    "start_time": "2022-06-13T16:20:38.537Z"
   },
   {
    "duration": 22,
    "start_time": "2022-06-13T16:20:52.744Z"
   },
   {
    "duration": 17,
    "start_time": "2022-06-13T16:22:30.348Z"
   },
   {
    "duration": 18,
    "start_time": "2022-06-13T16:30:52.679Z"
   },
   {
    "duration": 17,
    "start_time": "2022-06-13T16:31:02.988Z"
   },
   {
    "duration": 15,
    "start_time": "2022-06-13T16:31:41.367Z"
   },
   {
    "duration": 14,
    "start_time": "2022-06-13T16:32:24.380Z"
   },
   {
    "duration": 168,
    "start_time": "2022-06-13T16:32:29.511Z"
   },
   {
    "duration": 14,
    "start_time": "2022-06-13T16:32:31.131Z"
   },
   {
    "duration": 4,
    "start_time": "2022-06-13T16:33:47.826Z"
   },
   {
    "duration": 18,
    "start_time": "2022-06-13T16:35:49.885Z"
   },
   {
    "duration": 23,
    "start_time": "2022-06-13T16:36:45.255Z"
   },
   {
    "duration": 8,
    "start_time": "2022-06-13T16:38:33.081Z"
   },
   {
    "duration": 12,
    "start_time": "2022-06-13T16:38:33.987Z"
   },
   {
    "duration": 48,
    "start_time": "2022-06-13T16:38:43.429Z"
   },
   {
    "duration": 39,
    "start_time": "2022-06-13T16:41:15.242Z"
   },
   {
    "duration": 28,
    "start_time": "2022-06-13T16:41:15.997Z"
   },
   {
    "duration": 7,
    "start_time": "2022-06-13T16:41:41.398Z"
   },
   {
    "duration": 25,
    "start_time": "2022-06-13T16:41:41.980Z"
   },
   {
    "duration": 7,
    "start_time": "2022-06-13T16:42:05.290Z"
   },
   {
    "duration": 28,
    "start_time": "2022-06-13T16:42:06.254Z"
   },
   {
    "duration": 16,
    "start_time": "2022-06-13T16:43:28.339Z"
   },
   {
    "duration": 23,
    "start_time": "2022-06-13T16:43:58.564Z"
   },
   {
    "duration": 8,
    "start_time": "2022-06-13T16:44:04.096Z"
   },
   {
    "duration": 303,
    "start_time": "2022-06-13T16:44:05.526Z"
   },
   {
    "duration": 22,
    "start_time": "2022-06-13T16:44:16.389Z"
   },
   {
    "duration": 8,
    "start_time": "2022-06-13T16:44:20.841Z"
   },
   {
    "duration": 28,
    "start_time": "2022-06-13T16:44:21.409Z"
   },
   {
    "duration": 17,
    "start_time": "2022-06-13T16:51:39.881Z"
   },
   {
    "duration": 24,
    "start_time": "2022-06-13T16:53:45.660Z"
   },
   {
    "duration": 29,
    "start_time": "2022-06-13T16:57:23.499Z"
   },
   {
    "duration": 24,
    "start_time": "2022-06-13T16:57:36.778Z"
   },
   {
    "duration": 20,
    "start_time": "2022-06-13T17:00:13.725Z"
   },
   {
    "duration": 13,
    "start_time": "2022-06-13T17:01:36.407Z"
   },
   {
    "duration": 51,
    "start_time": "2022-06-13T17:04:01.189Z"
   },
   {
    "duration": 4,
    "start_time": "2022-06-13T17:04:23.454Z"
   },
   {
    "duration": 16,
    "start_time": "2022-06-13T17:04:25.657Z"
   },
   {
    "duration": 21,
    "start_time": "2022-06-13T17:06:53.030Z"
   },
   {
    "duration": 16,
    "start_time": "2022-06-13T17:06:53.569Z"
   },
   {
    "duration": 5,
    "start_time": "2022-06-13T17:06:57.264Z"
   },
   {
    "duration": 16,
    "start_time": "2022-06-13T17:07:03.924Z"
   },
   {
    "duration": 5,
    "start_time": "2022-06-13T17:08:56.221Z"
   },
   {
    "duration": 15,
    "start_time": "2022-06-13T17:08:56.944Z"
   },
   {
    "duration": 16,
    "start_time": "2022-06-13T17:10:18.584Z"
   },
   {
    "duration": 17,
    "start_time": "2022-06-13T17:11:03.060Z"
   },
   {
    "duration": 21,
    "start_time": "2022-06-13T17:11:06.616Z"
   },
   {
    "duration": 22,
    "start_time": "2022-06-13T17:22:42.176Z"
   },
   {
    "duration": 7,
    "start_time": "2022-06-13T17:23:12.332Z"
   },
   {
    "duration": 32,
    "start_time": "2022-06-13T17:23:13.678Z"
   },
   {
    "duration": 6,
    "start_time": "2022-06-13T17:23:34.296Z"
   },
   {
    "duration": 19,
    "start_time": "2022-06-13T17:23:56.029Z"
   },
   {
    "duration": 8,
    "start_time": "2022-06-13T17:24:03.815Z"
   },
   {
    "duration": 28,
    "start_time": "2022-06-13T17:24:04.420Z"
   },
   {
    "duration": 10,
    "start_time": "2022-06-13T17:27:19.843Z"
   },
   {
    "duration": 10,
    "start_time": "2022-06-13T17:28:00.482Z"
   },
   {
    "duration": 8,
    "start_time": "2022-06-13T17:38:40.412Z"
   },
   {
    "duration": 40,
    "start_time": "2022-06-13T17:38:41.716Z"
   },
   {
    "duration": 8,
    "start_time": "2022-06-13T17:39:22.964Z"
   },
   {
    "duration": 27,
    "start_time": "2022-06-13T17:39:23.705Z"
   },
   {
    "duration": 8,
    "start_time": "2022-06-13T17:40:22.642Z"
   },
   {
    "duration": 28,
    "start_time": "2022-06-13T17:40:23.172Z"
   },
   {
    "duration": 9,
    "start_time": "2022-06-13T17:52:52.490Z"
   },
   {
    "duration": 8,
    "start_time": "2022-06-13T17:52:57.973Z"
   },
   {
    "duration": 10,
    "start_time": "2022-06-13T17:53:04.903Z"
   },
   {
    "duration": 10,
    "start_time": "2022-06-13T17:53:42.548Z"
   },
   {
    "duration": 8,
    "start_time": "2022-06-13T17:56:40.795Z"
   },
   {
    "duration": 9,
    "start_time": "2022-06-13T17:56:53.608Z"
   },
   {
    "duration": 9,
    "start_time": "2022-06-13T17:57:07.022Z"
   },
   {
    "duration": 21,
    "start_time": "2022-06-13T18:06:40.092Z"
   },
   {
    "duration": 28,
    "start_time": "2022-06-13T18:07:18.050Z"
   },
   {
    "duration": 20,
    "start_time": "2022-06-13T18:07:32.928Z"
   },
   {
    "duration": 25,
    "start_time": "2022-06-13T18:08:54.266Z"
   },
   {
    "duration": 34,
    "start_time": "2022-06-13T18:11:08.126Z"
   },
   {
    "duration": 14,
    "start_time": "2022-06-13T18:12:21.995Z"
   },
   {
    "duration": 27,
    "start_time": "2022-06-13T18:12:40.385Z"
   },
   {
    "duration": 29,
    "start_time": "2022-06-13T18:13:40.883Z"
   },
   {
    "duration": 25,
    "start_time": "2022-06-13T18:14:24.221Z"
   },
   {
    "duration": 18,
    "start_time": "2022-06-13T18:14:58.751Z"
   },
   {
    "duration": 19,
    "start_time": "2022-06-13T18:15:22.663Z"
   },
   {
    "duration": 20,
    "start_time": "2022-06-13T18:15:47.345Z"
   },
   {
    "duration": 73,
    "start_time": "2022-06-13T18:16:02.319Z"
   },
   {
    "duration": 62,
    "start_time": "2022-06-13T18:16:21.455Z"
   },
   {
    "duration": 24,
    "start_time": "2022-06-13T18:17:39.685Z"
   },
   {
    "duration": 61,
    "start_time": "2022-06-13T18:17:58.901Z"
   },
   {
    "duration": 22,
    "start_time": "2022-06-13T19:09:47.509Z"
   },
   {
    "duration": 16,
    "start_time": "2022-06-13T19:10:31.575Z"
   },
   {
    "duration": 98,
    "start_time": "2022-06-13T19:11:03.750Z"
   },
   {
    "duration": 22,
    "start_time": "2022-06-13T19:12:37.181Z"
   },
   {
    "duration": 16,
    "start_time": "2022-06-13T19:12:46.086Z"
   },
   {
    "duration": 27,
    "start_time": "2022-06-13T19:13:10.979Z"
   },
   {
    "duration": 18,
    "start_time": "2022-06-13T19:13:16.343Z"
   },
   {
    "duration": 19,
    "start_time": "2022-06-13T19:13:48.515Z"
   },
   {
    "duration": 19,
    "start_time": "2022-06-13T19:14:23.662Z"
   },
   {
    "duration": 18,
    "start_time": "2022-06-13T19:14:40.908Z"
   },
   {
    "duration": 16,
    "start_time": "2022-06-13T19:15:16.439Z"
   },
   {
    "duration": 29,
    "start_time": "2022-06-13T19:15:47.312Z"
   },
   {
    "duration": 23,
    "start_time": "2022-06-13T19:16:32.440Z"
   },
   {
    "duration": 27,
    "start_time": "2022-06-13T19:17:05.167Z"
   },
   {
    "duration": 48,
    "start_time": "2022-06-13T19:17:19.381Z"
   },
   {
    "duration": 55,
    "start_time": "2022-06-13T19:17:38.503Z"
   },
   {
    "duration": 21,
    "start_time": "2022-06-13T19:20:18.128Z"
   },
   {
    "duration": 26,
    "start_time": "2022-06-13T19:20:52.358Z"
   },
   {
    "duration": 35,
    "start_time": "2022-06-13T19:21:14.665Z"
   },
   {
    "duration": 46,
    "start_time": "2022-06-13T19:21:26.685Z"
   },
   {
    "duration": 46,
    "start_time": "2022-06-13T19:22:19.187Z"
   },
   {
    "duration": 55,
    "start_time": "2022-06-13T19:22:30.196Z"
   },
   {
    "duration": 22,
    "start_time": "2022-06-13T19:23:03.907Z"
   },
   {
    "duration": 49,
    "start_time": "2022-06-13T19:23:08.587Z"
   },
   {
    "duration": 93,
    "start_time": "2022-06-13T19:23:49.353Z"
   },
   {
    "duration": 432,
    "start_time": "2022-06-13T19:32:09.992Z"
   },
   {
    "duration": 5,
    "start_time": "2022-06-13T19:32:46.758Z"
   },
   {
    "duration": 24,
    "start_time": "2022-06-13T19:35:40.052Z"
   },
   {
    "duration": 21,
    "start_time": "2022-06-13T19:37:35.988Z"
   },
   {
    "duration": 13,
    "start_time": "2022-06-13T19:38:44.516Z"
   },
   {
    "duration": 21,
    "start_time": "2022-06-13T19:38:54.568Z"
   },
   {
    "duration": 5,
    "start_time": "2022-06-13T19:39:33.866Z"
   },
   {
    "duration": 288,
    "start_time": "2022-06-13T19:39:34.614Z"
   },
   {
    "duration": 311,
    "start_time": "2022-06-13T19:40:45.929Z"
   },
   {
    "duration": 15,
    "start_time": "2022-06-13T19:40:59.478Z"
   },
   {
    "duration": 36,
    "start_time": "2022-06-13T19:43:39.997Z"
   },
   {
    "duration": 5,
    "start_time": "2022-06-13T19:43:56.635Z"
   },
   {
    "duration": 14,
    "start_time": "2022-06-13T19:44:01.759Z"
   },
   {
    "duration": 14,
    "start_time": "2022-06-13T19:44:29.074Z"
   },
   {
    "duration": 5,
    "start_time": "2022-06-13T19:45:56.564Z"
   },
   {
    "duration": 18,
    "start_time": "2022-06-13T19:45:57.241Z"
   },
   {
    "duration": 17,
    "start_time": "2022-06-13T19:46:05.706Z"
   },
   {
    "duration": 5,
    "start_time": "2022-06-13T19:47:22.496Z"
   },
   {
    "duration": 364,
    "start_time": "2022-06-13T19:47:23.194Z"
   },
   {
    "duration": 27,
    "start_time": "2022-06-13T19:48:07.540Z"
   },
   {
    "duration": 24,
    "start_time": "2022-06-13T19:48:30.383Z"
   },
   {
    "duration": 8,
    "start_time": "2022-06-13T19:48:49.167Z"
   },
   {
    "duration": 328,
    "start_time": "2022-06-13T19:48:50.577Z"
   },
   {
    "duration": 30,
    "start_time": "2022-06-13T19:49:38.964Z"
   },
   {
    "duration": 8,
    "start_time": "2022-06-13T19:50:03.330Z"
   },
   {
    "duration": 29,
    "start_time": "2022-06-13T19:50:03.910Z"
   },
   {
    "duration": 17,
    "start_time": "2022-06-13T20:21:48.066Z"
   },
   {
    "duration": 5,
    "start_time": "2022-06-13T20:21:48.747Z"
   },
   {
    "duration": 398,
    "start_time": "2022-06-13T20:21:49.365Z"
   },
   {
    "duration": 6,
    "start_time": "2022-06-13T20:21:53.535Z"
   },
   {
    "duration": 5,
    "start_time": "2022-06-13T20:21:54.252Z"
   },
   {
    "duration": 15,
    "start_time": "2022-06-13T20:21:56.469Z"
   },
   {
    "duration": 4,
    "start_time": "2022-06-13T20:38:46.972Z"
   },
   {
    "duration": 224,
    "start_time": "2022-06-13T20:38:47.611Z"
   },
   {
    "duration": 13,
    "start_time": "2022-06-13T20:47:30.269Z"
   },
   {
    "duration": 14,
    "start_time": "2022-06-13T20:48:09.178Z"
   },
   {
    "duration": 22,
    "start_time": "2022-06-13T20:48:21.936Z"
   },
   {
    "duration": 1392,
    "start_time": "2022-06-14T10:36:33.898Z"
   },
   {
    "duration": 1267,
    "start_time": "2022-06-14T10:36:35.292Z"
   },
   {
    "duration": 4,
    "start_time": "2022-06-14T10:36:36.560Z"
   },
   {
    "duration": 43,
    "start_time": "2022-06-14T10:36:36.566Z"
   },
   {
    "duration": 12,
    "start_time": "2022-06-14T10:36:36.610Z"
   },
   {
    "duration": 796,
    "start_time": "2022-06-14T10:36:36.624Z"
   },
   {
    "duration": 114,
    "start_time": "2022-06-14T10:36:37.422Z"
   },
   {
    "duration": 275,
    "start_time": "2022-06-14T10:36:37.949Z"
   },
   {
    "duration": 108,
    "start_time": "2022-06-14T10:36:38.226Z"
   },
   {
    "duration": 16,
    "start_time": "2022-06-14T10:36:38.897Z"
   },
   {
    "duration": 77,
    "start_time": "2022-06-14T10:36:39.335Z"
   },
   {
    "duration": 340,
    "start_time": "2022-06-14T10:36:39.588Z"
   },
   {
    "duration": 4,
    "start_time": "2022-06-14T10:36:40.251Z"
   },
   {
    "duration": 6,
    "start_time": "2022-06-14T10:36:40.700Z"
   },
   {
    "duration": 4,
    "start_time": "2022-06-14T10:36:41.147Z"
   },
   {
    "duration": 2,
    "start_time": "2022-06-14T10:36:41.628Z"
   },
   {
    "duration": 305,
    "start_time": "2022-06-14T10:36:41.948Z"
   },
   {
    "duration": 52,
    "start_time": "2022-06-14T10:37:05.868Z"
   },
   {
    "duration": 72,
    "start_time": "2022-06-14T10:37:17.399Z"
   },
   {
    "duration": 8,
    "start_time": "2022-06-14T10:37:17.757Z"
   },
   {
    "duration": 8,
    "start_time": "2022-06-14T10:37:18.260Z"
   },
   {
    "duration": 10322,
    "start_time": "2022-06-14T10:37:19.084Z"
   },
   {
    "duration": 205,
    "start_time": "2022-06-14T10:37:29.409Z"
   },
   {
    "duration": 762,
    "start_time": "2022-06-14T10:37:29.616Z"
   },
   {
    "duration": 198,
    "start_time": "2022-06-14T10:37:30.381Z"
   },
   {
    "duration": 149,
    "start_time": "2022-06-14T10:37:30.581Z"
   },
   {
    "duration": 409,
    "start_time": "2022-06-14T10:37:31.214Z"
   },
   {
    "duration": 166,
    "start_time": "2022-06-14T10:37:32.265Z"
   },
   {
    "duration": 154,
    "start_time": "2022-06-14T10:38:10.935Z"
   },
   {
    "duration": 112,
    "start_time": "2022-06-14T10:38:11.406Z"
   },
   {
    "duration": 8,
    "start_time": "2022-06-14T10:39:28.819Z"
   },
   {
    "duration": 49,
    "start_time": "2022-06-14T10:39:29.930Z"
   },
   {
    "duration": 10,
    "start_time": "2022-06-14T10:39:30.842Z"
   },
   {
    "duration": 19,
    "start_time": "2022-06-14T10:39:31.748Z"
   },
   {
    "duration": 19,
    "start_time": "2022-06-14T10:39:32.300Z"
   },
   {
    "duration": 18,
    "start_time": "2022-06-14T10:39:32.779Z"
   },
   {
    "duration": 20,
    "start_time": "2022-06-14T10:39:33.907Z"
   },
   {
    "duration": 18,
    "start_time": "2022-06-14T10:39:34.712Z"
   },
   {
    "duration": 120,
    "start_time": "2022-06-14T10:39:39.820Z"
   },
   {
    "duration": 10,
    "start_time": "2022-06-14T10:39:42.758Z"
   },
   {
    "duration": 390,
    "start_time": "2022-06-14T10:43:20.896Z"
   },
   {
    "duration": 7,
    "start_time": "2022-06-14T10:43:21.904Z"
   },
   {
    "duration": 15,
    "start_time": "2022-06-14T10:43:22.352Z"
   },
   {
    "duration": 15,
    "start_time": "2022-06-14T10:43:23.115Z"
   },
   {
    "duration": 47,
    "start_time": "2022-06-14T10:43:23.825Z"
   },
   {
    "duration": 34,
    "start_time": "2022-06-14T10:44:05.181Z"
   },
   {
    "duration": 16,
    "start_time": "2022-06-14T10:44:05.636Z"
   },
   {
    "duration": 41,
    "start_time": "2022-06-14T10:44:08.135Z"
   },
   {
    "duration": 15,
    "start_time": "2022-06-14T10:44:19.918Z"
   },
   {
    "duration": 18,
    "start_time": "2022-06-14T10:44:20.904Z"
   },
   {
    "duration": 22,
    "start_time": "2022-06-14T10:44:37.600Z"
   },
   {
    "duration": 83,
    "start_time": "2022-06-14T10:44:37.625Z"
   },
   {
    "duration": 63,
    "start_time": "2022-06-14T10:44:41.108Z"
   },
   {
    "duration": 72,
    "start_time": "2022-06-14T10:44:41.615Z"
   },
   {
    "duration": 183,
    "start_time": "2022-06-14T10:49:23.565Z"
   },
   {
    "duration": 7,
    "start_time": "2022-06-14T10:49:24.027Z"
   },
   {
    "duration": 54,
    "start_time": "2022-06-14T10:49:24.580Z"
   },
   {
    "duration": 65,
    "start_time": "2022-06-14T10:49:25.030Z"
   },
   {
    "duration": 137,
    "start_time": "2022-06-14T10:49:25.802Z"
   },
   {
    "duration": 60,
    "start_time": "2022-06-14T10:49:26.280Z"
   },
   {
    "duration": 67,
    "start_time": "2022-06-14T10:49:26.748Z"
   },
   {
    "duration": 37,
    "start_time": "2022-06-14T10:49:49.726Z"
   },
   {
    "duration": 49,
    "start_time": "2022-06-14T10:49:50.159Z"
   },
   {
    "duration": 66,
    "start_time": "2022-06-14T10:49:50.589Z"
   },
   {
    "duration": 62,
    "start_time": "2022-06-14T10:49:51.490Z"
   },
   {
    "duration": 39,
    "start_time": "2022-06-14T10:49:52.416Z"
   },
   {
    "duration": 32,
    "start_time": "2022-06-14T10:49:52.885Z"
   },
   {
    "duration": 25,
    "start_time": "2022-06-14T10:49:53.902Z"
   },
   {
    "duration": 23,
    "start_time": "2022-06-14T10:49:55.617Z"
   },
   {
    "duration": 26,
    "start_time": "2022-06-14T10:49:56.115Z"
   },
   {
    "duration": 19,
    "start_time": "2022-06-14T10:49:56.594Z"
   },
   {
    "duration": 12,
    "start_time": "2022-06-14T10:49:57.718Z"
   },
   {
    "duration": 25,
    "start_time": "2022-06-14T10:49:58.686Z"
   },
   {
    "duration": 27,
    "start_time": "2022-06-14T10:49:59.647Z"
   },
   {
    "duration": 27,
    "start_time": "2022-06-14T10:50:25.828Z"
   },
   {
    "duration": 66,
    "start_time": "2022-06-14T10:50:26.949Z"
   },
   {
    "duration": 38,
    "start_time": "2022-06-14T10:50:35.441Z"
   },
   {
    "duration": 20,
    "start_time": "2022-06-14T10:54:45.910Z"
   },
   {
    "duration": 87,
    "start_time": "2022-06-14T10:56:40.951Z"
   },
   {
    "duration": 55,
    "start_time": "2022-06-14T10:57:10.918Z"
   },
   {
    "duration": 60,
    "start_time": "2022-06-14T10:57:12.764Z"
   },
   {
    "duration": 3,
    "start_time": "2022-06-14T10:57:18.131Z"
   },
   {
    "duration": 204,
    "start_time": "2022-06-14T10:57:18.759Z"
   },
   {
    "duration": 9,
    "start_time": "2022-06-14T10:57:19.350Z"
   },
   {
    "duration": 153,
    "start_time": "2022-06-14T10:57:27.303Z"
   },
   {
    "duration": 77,
    "start_time": "2022-06-14T10:58:42.187Z"
   },
   {
    "duration": 123,
    "start_time": "2022-06-14T10:58:45.141Z"
   },
   {
    "duration": 11,
    "start_time": "2022-06-14T10:58:59.586Z"
   },
   {
    "duration": 21,
    "start_time": "2022-06-14T10:59:26.447Z"
   },
   {
    "duration": 16,
    "start_time": "2022-06-14T10:59:53.952Z"
   },
   {
    "duration": 7,
    "start_time": "2022-06-14T11:00:02.708Z"
   },
   {
    "duration": 15,
    "start_time": "2022-06-14T11:00:17.097Z"
   },
   {
    "duration": 8,
    "start_time": "2022-06-14T11:00:26.258Z"
   },
   {
    "duration": 28,
    "start_time": "2022-06-14T11:00:31.988Z"
   },
   {
    "duration": 23,
    "start_time": "2022-06-14T11:00:59.427Z"
   },
   {
    "duration": 27,
    "start_time": "2022-06-14T11:01:38.968Z"
   },
   {
    "duration": 22,
    "start_time": "2022-06-14T11:01:54.507Z"
   },
   {
    "duration": 40,
    "start_time": "2022-06-14T11:02:15.564Z"
   },
   {
    "duration": 22,
    "start_time": "2022-06-14T11:02:30.987Z"
   },
   {
    "duration": 27,
    "start_time": "2022-06-14T11:02:43.673Z"
   },
   {
    "duration": 7,
    "start_time": "2022-06-14T11:02:57.062Z"
   },
   {
    "duration": 32,
    "start_time": "2022-06-14T11:02:58.593Z"
   },
   {
    "duration": 20,
    "start_time": "2022-06-14T11:03:10.295Z"
   },
   {
    "duration": 24,
    "start_time": "2022-06-14T11:03:58.223Z"
   },
   {
    "duration": 20,
    "start_time": "2022-06-14T11:06:20.351Z"
   },
   {
    "duration": 18,
    "start_time": "2022-06-14T11:06:46.127Z"
   },
   {
    "duration": 22,
    "start_time": "2022-06-14T11:06:49.869Z"
   },
   {
    "duration": 25,
    "start_time": "2022-06-14T11:06:56.472Z"
   },
   {
    "duration": 22,
    "start_time": "2022-06-14T11:07:07.940Z"
   },
   {
    "duration": 24,
    "start_time": "2022-06-14T11:07:19.471Z"
   },
   {
    "duration": 1090,
    "start_time": "2022-06-14T11:07:41.826Z"
   },
   {
    "duration": 1433,
    "start_time": "2022-06-14T11:07:47.210Z"
   },
   {
    "duration": 3,
    "start_time": "2022-06-14T11:07:48.645Z"
   },
   {
    "duration": 37,
    "start_time": "2022-06-14T11:07:48.649Z"
   },
   {
    "duration": 13,
    "start_time": "2022-06-14T11:07:59.347Z"
   },
   {
    "duration": 603,
    "start_time": "2022-06-14T11:07:59.703Z"
   },
   {
    "duration": 109,
    "start_time": "2022-06-14T11:08:00.308Z"
   },
   {
    "duration": 285,
    "start_time": "2022-06-14T11:08:01.097Z"
   },
   {
    "duration": 63,
    "start_time": "2022-06-14T11:08:01.384Z"
   },
   {
    "duration": 15,
    "start_time": "2022-06-14T11:08:01.860Z"
   },
   {
    "duration": 72,
    "start_time": "2022-06-14T11:08:02.261Z"
   },
   {
    "duration": 330,
    "start_time": "2022-06-14T11:08:02.432Z"
   },
   {
    "duration": 4,
    "start_time": "2022-06-14T11:08:03.039Z"
   },
   {
    "duration": 5,
    "start_time": "2022-06-14T11:08:03.393Z"
   },
   {
    "duration": 4,
    "start_time": "2022-06-14T11:08:03.706Z"
   },
   {
    "duration": 3,
    "start_time": "2022-06-14T11:08:04.036Z"
   },
   {
    "duration": 292,
    "start_time": "2022-06-14T11:08:04.197Z"
   },
   {
    "duration": 47,
    "start_time": "2022-06-14T11:08:04.543Z"
   },
   {
    "duration": 66,
    "start_time": "2022-06-14T11:08:05.133Z"
   },
   {
    "duration": 6,
    "start_time": "2022-06-14T11:08:05.201Z"
   },
   {
    "duration": 6,
    "start_time": "2022-06-14T11:08:05.493Z"
   },
   {
    "duration": 10147,
    "start_time": "2022-06-14T11:08:05.704Z"
   },
   {
    "duration": 224,
    "start_time": "2022-06-14T11:08:15.854Z"
   },
   {
    "duration": 716,
    "start_time": "2022-06-14T11:08:16.080Z"
   },
   {
    "duration": 163,
    "start_time": "2022-06-14T11:08:16.799Z"
   },
   {
    "duration": 144,
    "start_time": "2022-06-14T11:08:16.964Z"
   },
   {
    "duration": 399,
    "start_time": "2022-06-14T11:08:17.109Z"
   },
   {
    "duration": 177,
    "start_time": "2022-06-14T11:08:17.510Z"
   },
   {
    "duration": 175,
    "start_time": "2022-06-14T11:08:17.689Z"
   },
   {
    "duration": 159,
    "start_time": "2022-06-14T11:08:17.866Z"
   },
   {
    "duration": 7,
    "start_time": "2022-06-14T11:08:18.028Z"
   },
   {
    "duration": 65,
    "start_time": "2022-06-14T11:08:18.037Z"
   },
   {
    "duration": 10,
    "start_time": "2022-06-14T11:08:18.104Z"
   },
   {
    "duration": 21,
    "start_time": "2022-06-14T11:08:18.115Z"
   },
   {
    "duration": 23,
    "start_time": "2022-06-14T11:08:18.137Z"
   },
   {
    "duration": 22,
    "start_time": "2022-06-14T11:08:18.178Z"
   },
   {
    "duration": 21,
    "start_time": "2022-06-14T11:08:19.902Z"
   },
   {
    "duration": 18,
    "start_time": "2022-06-14T11:08:20.133Z"
   },
   {
    "duration": 120,
    "start_time": "2022-06-14T11:08:20.573Z"
   },
   {
    "duration": 10,
    "start_time": "2022-06-14T11:08:20.970Z"
   },
   {
    "duration": 376,
    "start_time": "2022-06-14T11:08:21.358Z"
   },
   {
    "duration": 7,
    "start_time": "2022-06-14T11:08:21.922Z"
   },
   {
    "duration": 16,
    "start_time": "2022-06-14T11:08:22.181Z"
   },
   {
    "duration": 19,
    "start_time": "2022-06-14T11:08:22.524Z"
   },
   {
    "duration": 54,
    "start_time": "2022-06-14T11:08:22.904Z"
   },
   {
    "duration": 37,
    "start_time": "2022-06-14T11:08:23.305Z"
   },
   {
    "duration": 18,
    "start_time": "2022-06-14T11:08:23.489Z"
   },
   {
    "duration": 40,
    "start_time": "2022-06-14T11:08:23.693Z"
   },
   {
    "duration": 15,
    "start_time": "2022-06-14T11:08:24.097Z"
   },
   {
    "duration": 14,
    "start_time": "2022-06-14T11:08:24.421Z"
   },
   {
    "duration": 20,
    "start_time": "2022-06-14T11:08:25.850Z"
   },
   {
    "duration": 62,
    "start_time": "2022-06-14T11:08:26.093Z"
   },
   {
    "duration": 66,
    "start_time": "2022-06-14T11:08:26.301Z"
   },
   {
    "duration": 72,
    "start_time": "2022-06-14T11:08:26.510Z"
   },
   {
    "duration": 206,
    "start_time": "2022-06-14T11:08:26.852Z"
   },
   {
    "duration": 18,
    "start_time": "2022-06-14T11:08:27.060Z"
   },
   {
    "duration": 52,
    "start_time": "2022-06-14T11:08:27.209Z"
   },
   {
    "duration": 73,
    "start_time": "2022-06-14T11:08:27.384Z"
   },
   {
    "duration": 165,
    "start_time": "2022-06-14T11:08:27.976Z"
   },
   {
    "duration": 76,
    "start_time": "2022-06-14T11:08:28.149Z"
   },
   {
    "duration": 79,
    "start_time": "2022-06-14T11:08:28.385Z"
   },
   {
    "duration": 39,
    "start_time": "2022-06-14T11:08:28.811Z"
   },
   {
    "duration": 52,
    "start_time": "2022-06-14T11:08:29.017Z"
   },
   {
    "duration": 66,
    "start_time": "2022-06-14T11:08:29.243Z"
   },
   {
    "duration": 60,
    "start_time": "2022-06-14T11:08:29.638Z"
   },
   {
    "duration": 41,
    "start_time": "2022-06-14T11:08:30.035Z"
   },
   {
    "duration": 33,
    "start_time": "2022-06-14T11:08:30.252Z"
   },
   {
    "duration": 25,
    "start_time": "2022-06-14T11:08:30.619Z"
   },
   {
    "duration": 38,
    "start_time": "2022-06-14T11:08:30.890Z"
   },
   {
    "duration": 23,
    "start_time": "2022-06-14T11:08:31.093Z"
   },
   {
    "duration": 21,
    "start_time": "2022-06-14T11:08:31.291Z"
   },
   {
    "duration": 10,
    "start_time": "2022-06-14T11:08:31.681Z"
   },
   {
    "duration": 23,
    "start_time": "2022-06-14T11:08:32.119Z"
   },
   {
    "duration": 27,
    "start_time": "2022-06-14T11:08:32.520Z"
   },
   {
    "duration": 111,
    "start_time": "2022-06-14T11:08:32.986Z"
   },
   {
    "duration": 37,
    "start_time": "2022-06-14T11:08:35.219Z"
   },
   {
    "duration": 30,
    "start_time": "2022-06-14T11:08:35.258Z"
   },
   {
    "duration": 147,
    "start_time": "2022-06-14T11:08:35.725Z"
   },
   {
    "duration": 61,
    "start_time": "2022-06-14T11:08:40.127Z"
   },
   {
    "duration": 65,
    "start_time": "2022-06-14T11:08:41.217Z"
   },
   {
    "duration": 3,
    "start_time": "2022-06-14T11:08:41.885Z"
   },
   {
    "duration": 229,
    "start_time": "2022-06-14T11:08:42.182Z"
   },
   {
    "duration": 10,
    "start_time": "2022-06-14T11:08:42.457Z"
   },
   {
    "duration": 156,
    "start_time": "2022-06-14T11:08:42.802Z"
   },
   {
    "duration": 7,
    "start_time": "2022-06-14T11:08:51.188Z"
   },
   {
    "duration": 20,
    "start_time": "2022-06-14T11:08:52.045Z"
   },
   {
    "duration": 29,
    "start_time": "2022-06-14T11:08:57.459Z"
   },
   {
    "duration": 19,
    "start_time": "2022-06-14T11:09:09.084Z"
   },
   {
    "duration": 16,
    "start_time": "2022-06-14T11:09:17.117Z"
   },
   {
    "duration": 19,
    "start_time": "2022-06-14T11:09:42.246Z"
   },
   {
    "duration": 19,
    "start_time": "2022-06-14T11:11:19.193Z"
   },
   {
    "duration": 55,
    "start_time": "2022-06-14T11:11:40.016Z"
   },
   {
    "duration": 20,
    "start_time": "2022-06-14T11:11:43.827Z"
   },
   {
    "duration": 15,
    "start_time": "2022-06-14T11:11:59.580Z"
   },
   {
    "duration": 23,
    "start_time": "2022-06-14T11:12:10.615Z"
   },
   {
    "duration": 10,
    "start_time": "2022-06-14T11:12:23.652Z"
   },
   {
    "duration": 4,
    "start_time": "2022-06-14T11:12:37.550Z"
   },
   {
    "duration": 13,
    "start_time": "2022-06-14T11:12:40.233Z"
   },
   {
    "duration": 1079,
    "start_time": "2022-06-14T11:13:05.528Z"
   },
   {
    "duration": 1101,
    "start_time": "2022-06-14T11:13:07.403Z"
   },
   {
    "duration": 2,
    "start_time": "2022-06-14T11:13:08.506Z"
   },
   {
    "duration": 52,
    "start_time": "2022-06-14T11:13:08.509Z"
   },
   {
    "duration": 12,
    "start_time": "2022-06-14T11:13:08.563Z"
   },
   {
    "duration": 656,
    "start_time": "2022-06-14T11:13:08.577Z"
   },
   {
    "duration": 111,
    "start_time": "2022-06-14T11:13:09.235Z"
   },
   {
    "duration": 278,
    "start_time": "2022-06-14T11:13:09.348Z"
   },
   {
    "duration": 78,
    "start_time": "2022-06-14T11:13:09.627Z"
   },
   {
    "duration": 12,
    "start_time": "2022-06-14T11:13:09.707Z"
   },
   {
    "duration": 71,
    "start_time": "2022-06-14T11:13:10.025Z"
   },
   {
    "duration": 320,
    "start_time": "2022-06-14T11:13:10.180Z"
   },
   {
    "duration": 4,
    "start_time": "2022-06-14T11:13:10.669Z"
   },
   {
    "duration": 5,
    "start_time": "2022-06-14T11:13:11.052Z"
   },
   {
    "duration": 4,
    "start_time": "2022-06-14T11:13:11.469Z"
   },
   {
    "duration": 3,
    "start_time": "2022-06-14T11:13:11.876Z"
   },
   {
    "duration": 275,
    "start_time": "2022-06-14T11:13:12.099Z"
   },
   {
    "duration": 39,
    "start_time": "2022-06-14T11:13:12.564Z"
   },
   {
    "duration": 68,
    "start_time": "2022-06-14T11:13:13.202Z"
   },
   {
    "duration": 6,
    "start_time": "2022-06-14T11:13:13.271Z"
   },
   {
    "duration": 6,
    "start_time": "2022-06-14T11:13:13.395Z"
   },
   {
    "duration": 9530,
    "start_time": "2022-06-14T11:13:13.736Z"
   },
   {
    "duration": 220,
    "start_time": "2022-06-14T11:13:23.277Z"
   },
   {
    "duration": 689,
    "start_time": "2022-06-14T11:13:23.499Z"
   },
   {
    "duration": 157,
    "start_time": "2022-06-14T11:13:24.190Z"
   },
   {
    "duration": 132,
    "start_time": "2022-06-14T11:13:24.348Z"
   },
   {
    "duration": 404,
    "start_time": "2022-06-14T11:13:24.482Z"
   },
   {
    "duration": 180,
    "start_time": "2022-06-14T11:13:24.888Z"
   },
   {
    "duration": 159,
    "start_time": "2022-06-14T11:13:25.070Z"
   },
   {
    "duration": 119,
    "start_time": "2022-06-14T11:13:25.231Z"
   },
   {
    "duration": 6,
    "start_time": "2022-06-14T11:13:25.353Z"
   },
   {
    "duration": 58,
    "start_time": "2022-06-14T11:13:25.361Z"
   },
   {
    "duration": 10,
    "start_time": "2022-06-14T11:13:25.432Z"
   },
   {
    "duration": 20,
    "start_time": "2022-06-14T11:13:25.444Z"
   },
   {
    "duration": 30,
    "start_time": "2022-06-14T11:13:25.465Z"
   },
   {
    "duration": 20,
    "start_time": "2022-06-14T11:13:25.497Z"
   },
   {
    "duration": 21,
    "start_time": "2022-06-14T11:13:25.519Z"
   },
   {
    "duration": 39,
    "start_time": "2022-06-14T11:13:25.541Z"
   },
   {
    "duration": 130,
    "start_time": "2022-06-14T11:13:25.582Z"
   },
   {
    "duration": 12,
    "start_time": "2022-06-14T11:13:25.714Z"
   },
   {
    "duration": 388,
    "start_time": "2022-06-14T11:13:25.728Z"
   },
   {
    "duration": 9,
    "start_time": "2022-06-14T11:13:26.118Z"
   },
   {
    "duration": 50,
    "start_time": "2022-06-14T11:13:26.129Z"
   },
   {
    "duration": 30,
    "start_time": "2022-06-14T11:13:26.180Z"
   },
   {
    "duration": 85,
    "start_time": "2022-06-14T11:13:26.212Z"
   },
   {
    "duration": 33,
    "start_time": "2022-06-14T11:13:26.299Z"
   },
   {
    "duration": 14,
    "start_time": "2022-06-14T11:13:26.334Z"
   },
   {
    "duration": 51,
    "start_time": "2022-06-14T11:13:26.350Z"
   },
   {
    "duration": 14,
    "start_time": "2022-06-14T11:13:26.403Z"
   },
   {
    "duration": 22,
    "start_time": "2022-06-14T11:13:26.418Z"
   },
   {
    "duration": 36,
    "start_time": "2022-06-14T11:13:26.442Z"
   },
   {
    "duration": 63,
    "start_time": "2022-06-14T11:13:26.479Z"
   },
   {
    "duration": 74,
    "start_time": "2022-06-14T11:13:26.543Z"
   },
   {
    "duration": 82,
    "start_time": "2022-06-14T11:13:26.618Z"
   },
   {
    "duration": 194,
    "start_time": "2022-06-14T11:13:26.702Z"
   },
   {
    "duration": 7,
    "start_time": "2022-06-14T11:13:26.897Z"
   },
   {
    "duration": 68,
    "start_time": "2022-06-14T11:13:26.905Z"
   },
   {
    "duration": 96,
    "start_time": "2022-06-14T11:13:27.265Z"
   },
   {
    "duration": 160,
    "start_time": "2022-06-14T11:13:27.380Z"
   },
   {
    "duration": 76,
    "start_time": "2022-06-14T11:13:27.542Z"
   },
   {
    "duration": 88,
    "start_time": "2022-06-14T11:13:27.620Z"
   },
   {
    "duration": 37,
    "start_time": "2022-06-14T11:13:28.018Z"
   },
   {
    "duration": 53,
    "start_time": "2022-06-14T11:13:28.267Z"
   },
   {
    "duration": 62,
    "start_time": "2022-06-14T11:13:28.530Z"
   },
   {
    "duration": 61,
    "start_time": "2022-06-14T11:13:28.899Z"
   },
   {
    "duration": 43,
    "start_time": "2022-06-14T11:13:29.381Z"
   },
   {
    "duration": 33,
    "start_time": "2022-06-14T11:13:29.640Z"
   },
   {
    "duration": 24,
    "start_time": "2022-06-14T11:13:29.889Z"
   },
   {
    "duration": 26,
    "start_time": "2022-06-14T11:13:30.392Z"
   },
   {
    "duration": 22,
    "start_time": "2022-06-14T11:13:30.654Z"
   },
   {
    "duration": 18,
    "start_time": "2022-06-14T11:13:30.957Z"
   },
   {
    "duration": 10,
    "start_time": "2022-06-14T11:13:31.853Z"
   },
   {
    "duration": 25,
    "start_time": "2022-06-14T11:13:32.576Z"
   },
   {
    "duration": 26,
    "start_time": "2022-06-14T11:13:34.243Z"
   },
   {
    "duration": 65,
    "start_time": "2022-06-14T11:13:35.372Z"
   },
   {
    "duration": 40,
    "start_time": "2022-06-14T11:13:36.155Z"
   },
   {
    "duration": 19,
    "start_time": "2022-06-14T11:13:36.987Z"
   },
   {
    "duration": 86,
    "start_time": "2022-06-14T11:13:37.225Z"
   },
   {
    "duration": 72,
    "start_time": "2022-06-14T11:13:37.667Z"
   },
   {
    "duration": 62,
    "start_time": "2022-06-14T11:13:38.161Z"
   },
   {
    "duration": 4,
    "start_time": "2022-06-14T11:13:39.076Z"
   },
   {
    "duration": 208,
    "start_time": "2022-06-14T11:13:44.270Z"
   },
   {
    "duration": 17,
    "start_time": "2022-06-14T11:13:57.857Z"
   },
   {
    "duration": 20,
    "start_time": "2022-06-14T11:14:06.754Z"
   },
   {
    "duration": 21,
    "start_time": "2022-06-14T11:14:11.552Z"
   },
   {
    "duration": 28,
    "start_time": "2022-06-14T11:14:55.063Z"
   },
   {
    "duration": 21,
    "start_time": "2022-06-14T11:15:00.614Z"
   },
   {
    "duration": 28,
    "start_time": "2022-06-14T11:15:22.420Z"
   },
   {
    "duration": 18,
    "start_time": "2022-06-14T11:15:42.502Z"
   },
   {
    "duration": 205,
    "start_time": "2022-06-14T11:15:55.589Z"
   },
   {
    "duration": 21,
    "start_time": "2022-06-14T11:16:06.064Z"
   },
   {
    "duration": 24,
    "start_time": "2022-06-14T11:16:18.263Z"
   },
   {
    "duration": 20,
    "start_time": "2022-06-14T11:16:50.488Z"
   },
   {
    "duration": 16,
    "start_time": "2022-06-14T11:17:00.705Z"
   },
   {
    "duration": 6,
    "start_time": "2022-06-14T11:17:03.738Z"
   },
   {
    "duration": 31,
    "start_time": "2022-06-14T11:17:07.161Z"
   },
   {
    "duration": 7,
    "start_time": "2022-06-14T11:17:51.695Z"
   },
   {
    "duration": 26,
    "start_time": "2022-06-14T11:17:52.192Z"
   },
   {
    "duration": 8,
    "start_time": "2022-06-14T11:18:23.037Z"
   },
   {
    "duration": 28,
    "start_time": "2022-06-14T11:18:23.872Z"
   },
   {
    "duration": 13,
    "start_time": "2022-06-14T11:20:42.893Z"
   },
   {
    "duration": 21,
    "start_time": "2022-06-14T11:20:52.689Z"
   },
   {
    "duration": 23,
    "start_time": "2022-06-14T11:21:12.565Z"
   },
   {
    "duration": 16,
    "start_time": "2022-06-14T11:21:17.505Z"
   },
   {
    "duration": 8,
    "start_time": "2022-06-14T11:21:19.634Z"
   },
   {
    "duration": 22,
    "start_time": "2022-06-14T11:21:20.361Z"
   },
   {
    "duration": 14,
    "start_time": "2022-06-14T11:22:13.803Z"
   },
   {
    "duration": 22,
    "start_time": "2022-06-14T11:22:26.720Z"
   },
   {
    "duration": 20,
    "start_time": "2022-06-14T11:22:33.393Z"
   },
   {
    "duration": 12,
    "start_time": "2022-06-14T11:22:35.895Z"
   },
   {
    "duration": 71,
    "start_time": "2022-06-14T11:22:35.909Z"
   },
   {
    "duration": 1165,
    "start_time": "2022-06-14T11:24:58.882Z"
   },
   {
    "duration": 1281,
    "start_time": "2022-06-14T11:25:00.049Z"
   },
   {
    "duration": 3,
    "start_time": "2022-06-14T11:25:01.332Z"
   },
   {
    "duration": 51,
    "start_time": "2022-06-14T11:25:01.336Z"
   },
   {
    "duration": 10,
    "start_time": "2022-06-14T11:25:01.388Z"
   },
   {
    "duration": 701,
    "start_time": "2022-06-14T11:25:01.400Z"
   },
   {
    "duration": 135,
    "start_time": "2022-06-14T11:25:02.103Z"
   },
   {
    "duration": 311,
    "start_time": "2022-06-14T11:25:02.240Z"
   },
   {
    "duration": 79,
    "start_time": "2022-06-14T11:25:02.553Z"
   },
   {
    "duration": 13,
    "start_time": "2022-06-14T11:25:02.634Z"
   },
   {
    "duration": 96,
    "start_time": "2022-06-14T11:25:02.950Z"
   },
   {
    "duration": 388,
    "start_time": "2022-06-14T11:25:03.101Z"
   },
   {
    "duration": 5,
    "start_time": "2022-06-14T11:25:03.599Z"
   },
   {
    "duration": 11,
    "start_time": "2022-06-14T11:25:03.921Z"
   },
   {
    "duration": 4,
    "start_time": "2022-06-14T11:25:04.249Z"
   },
   {
    "duration": 3,
    "start_time": "2022-06-14T11:25:04.616Z"
   },
   {
    "duration": 292,
    "start_time": "2022-06-14T11:25:04.781Z"
   },
   {
    "duration": 40,
    "start_time": "2022-06-14T11:25:05.189Z"
   },
   {
    "duration": 73,
    "start_time": "2022-06-14T11:25:05.744Z"
   },
   {
    "duration": 6,
    "start_time": "2022-06-14T11:25:06.058Z"
   },
   {
    "duration": 6,
    "start_time": "2022-06-14T11:25:06.196Z"
   },
   {
    "duration": 9457,
    "start_time": "2022-06-14T11:25:06.817Z"
   },
   {
    "duration": 205,
    "start_time": "2022-06-14T11:25:16.278Z"
   },
   {
    "duration": 637,
    "start_time": "2022-06-14T11:25:16.485Z"
   },
   {
    "duration": 165,
    "start_time": "2022-06-14T11:25:17.177Z"
   },
   {
    "duration": 161,
    "start_time": "2022-06-14T11:25:17.344Z"
   },
   {
    "duration": 443,
    "start_time": "2022-06-14T11:25:17.506Z"
   },
   {
    "duration": 188,
    "start_time": "2022-06-14T11:25:17.951Z"
   },
   {
    "duration": 198,
    "start_time": "2022-06-14T11:25:18.140Z"
   },
   {
    "duration": 138,
    "start_time": "2022-06-14T11:25:18.340Z"
   },
   {
    "duration": 5,
    "start_time": "2022-06-14T11:25:18.480Z"
   },
   {
    "duration": 50,
    "start_time": "2022-06-14T11:25:18.487Z"
   },
   {
    "duration": 10,
    "start_time": "2022-06-14T11:25:18.538Z"
   },
   {
    "duration": 37,
    "start_time": "2022-06-14T11:25:18.549Z"
   },
   {
    "duration": 20,
    "start_time": "2022-06-14T11:25:18.588Z"
   },
   {
    "duration": 18,
    "start_time": "2022-06-14T11:25:18.997Z"
   },
   {
    "duration": 21,
    "start_time": "2022-06-14T11:25:20.112Z"
   },
   {
    "duration": 23,
    "start_time": "2022-06-14T11:25:20.135Z"
   },
   {
    "duration": 128,
    "start_time": "2022-06-14T11:25:21.913Z"
   },
   {
    "duration": 11,
    "start_time": "2022-06-14T11:25:22.964Z"
   },
   {
    "duration": 369,
    "start_time": "2022-06-14T11:25:23.909Z"
   },
   {
    "duration": 7,
    "start_time": "2022-06-14T11:25:25.245Z"
   },
   {
    "duration": 17,
    "start_time": "2022-06-14T11:25:25.801Z"
   },
   {
    "duration": 14,
    "start_time": "2022-06-14T11:25:26.785Z"
   },
   {
    "duration": 46,
    "start_time": "2022-06-14T11:25:28.012Z"
   },
   {
    "duration": 35,
    "start_time": "2022-06-14T11:25:29.071Z"
   },
   {
    "duration": 15,
    "start_time": "2022-06-14T11:25:29.686Z"
   },
   {
    "duration": 31,
    "start_time": "2022-06-14T11:25:49.556Z"
   },
   {
    "duration": 15,
    "start_time": "2022-06-14T11:25:50.517Z"
   },
   {
    "duration": 15,
    "start_time": "2022-06-14T11:25:51.405Z"
   },
   {
    "duration": 18,
    "start_time": "2022-06-14T11:25:54.447Z"
   },
   {
    "duration": 57,
    "start_time": "2022-06-14T11:25:54.857Z"
   },
   {
    "duration": 70,
    "start_time": "2022-06-14T11:25:55.231Z"
   },
   {
    "duration": 71,
    "start_time": "2022-06-14T11:25:55.619Z"
   },
   {
    "duration": 173,
    "start_time": "2022-06-14T11:25:56.489Z"
   },
   {
    "duration": 8,
    "start_time": "2022-06-14T11:25:56.896Z"
   },
   {
    "duration": 51,
    "start_time": "2022-06-14T11:25:57.309Z"
   },
   {
    "duration": 65,
    "start_time": "2022-06-14T11:25:57.695Z"
   },
   {
    "duration": 144,
    "start_time": "2022-06-14T11:25:58.473Z"
   },
   {
    "duration": 61,
    "start_time": "2022-06-14T11:25:58.936Z"
   },
   {
    "duration": 70,
    "start_time": "2022-06-14T11:25:59.761Z"
   },
   {
    "duration": 63,
    "start_time": "2022-06-14T11:27:10.974Z"
   },
   {
    "duration": 25,
    "start_time": "2022-06-14T11:27:35.434Z"
   },
   {
    "duration": 34,
    "start_time": "2022-06-14T11:27:57.099Z"
   },
   {
    "duration": 26,
    "start_time": "2022-06-14T11:28:01.640Z"
   },
   {
    "duration": 28,
    "start_time": "2022-06-14T11:28:04.081Z"
   },
   {
    "duration": 22,
    "start_time": "2022-06-14T11:28:04.633Z"
   },
   {
    "duration": 20,
    "start_time": "2022-06-14T11:28:06.691Z"
   },
   {
    "duration": 33,
    "start_time": "2022-06-14T11:28:31.893Z"
   },
   {
    "duration": 18,
    "start_time": "2022-06-14T11:28:42.121Z"
   },
   {
    "duration": 11,
    "start_time": "2022-06-14T11:28:53.365Z"
   },
   {
    "duration": 21,
    "start_time": "2022-06-14T11:29:05.697Z"
   },
   {
    "duration": 39,
    "start_time": "2022-06-14T11:29:29.981Z"
   },
   {
    "duration": 70,
    "start_time": "2022-06-14T11:29:36.780Z"
   },
   {
    "duration": 49,
    "start_time": "2022-06-14T11:30:03.972Z"
   },
   {
    "duration": 32,
    "start_time": "2022-06-14T11:30:47.760Z"
   },
   {
    "duration": 158,
    "start_time": "2022-06-14T11:31:15.257Z"
   },
   {
    "duration": 95,
    "start_time": "2022-06-14T11:31:25.763Z"
   },
   {
    "duration": 84,
    "start_time": "2022-06-14T11:31:32.857Z"
   },
   {
    "duration": 73,
    "start_time": "2022-06-14T11:31:45.601Z"
   },
   {
    "duration": 4,
    "start_time": "2022-06-14T11:31:54.362Z"
   },
   {
    "duration": 212,
    "start_time": "2022-06-14T11:31:55.094Z"
   },
   {
    "duration": 57,
    "start_time": "2022-06-14T11:32:11.154Z"
   },
   {
    "duration": 27,
    "start_time": "2022-06-14T11:32:14.810Z"
   },
   {
    "duration": 11,
    "start_time": "2022-06-14T11:32:22.280Z"
   },
   {
    "duration": 23,
    "start_time": "2022-06-14T11:32:28.315Z"
   },
   {
    "duration": 23,
    "start_time": "2022-06-14T11:32:35.794Z"
   },
   {
    "duration": 7,
    "start_time": "2022-06-14T11:32:46.416Z"
   },
   {
    "duration": 36,
    "start_time": "2022-06-14T11:32:47.016Z"
   },
   {
    "duration": 28,
    "start_time": "2022-06-14T12:08:26.902Z"
   },
   {
    "duration": 19,
    "start_time": "2022-06-14T12:08:57.872Z"
   },
   {
    "duration": 26,
    "start_time": "2022-06-14T12:09:10.644Z"
   },
   {
    "duration": 25,
    "start_time": "2022-06-14T12:18:43.197Z"
   },
   {
    "duration": 30,
    "start_time": "2022-06-14T12:19:01.803Z"
   },
   {
    "duration": 45,
    "start_time": "2022-06-14T12:29:42.963Z"
   },
   {
    "duration": 19,
    "start_time": "2022-06-14T12:30:26.178Z"
   },
   {
    "duration": 11,
    "start_time": "2022-06-14T12:31:40.845Z"
   },
   {
    "duration": 36,
    "start_time": "2022-06-14T12:32:10.110Z"
   },
   {
    "duration": 39,
    "start_time": "2022-06-14T12:32:28.534Z"
   },
   {
    "duration": 41,
    "start_time": "2022-06-14T12:33:27.368Z"
   },
   {
    "duration": 10,
    "start_time": "2022-06-14T12:35:52.760Z"
   },
   {
    "duration": 6,
    "start_time": "2022-06-14T12:36:53.913Z"
   },
   {
    "duration": 8,
    "start_time": "2022-06-14T12:37:11.126Z"
   },
   {
    "duration": 20,
    "start_time": "2022-06-14T12:37:51.483Z"
   },
   {
    "duration": 6,
    "start_time": "2022-06-14T12:38:26.912Z"
   },
   {
    "duration": 21,
    "start_time": "2022-06-14T12:38:35.435Z"
   },
   {
    "duration": 14,
    "start_time": "2022-06-14T12:39:09.489Z"
   },
   {
    "duration": 4,
    "start_time": "2022-06-14T12:39:22.381Z"
   },
   {
    "duration": 8,
    "start_time": "2022-06-14T12:39:33.870Z"
   },
   {
    "duration": 19,
    "start_time": "2022-06-14T12:39:49.110Z"
   },
   {
    "duration": 21,
    "start_time": "2022-06-14T12:42:38.969Z"
   },
   {
    "duration": 25,
    "start_time": "2022-06-14T12:43:12.962Z"
   },
   {
    "duration": 4,
    "start_time": "2022-06-14T12:43:44.324Z"
   },
   {
    "duration": 10,
    "start_time": "2022-06-14T12:43:44.772Z"
   },
   {
    "duration": 23,
    "start_time": "2022-06-14T12:43:45.226Z"
   },
   {
    "duration": 6,
    "start_time": "2022-06-14T12:43:59.957Z"
   },
   {
    "duration": 10,
    "start_time": "2022-06-14T12:44:24.888Z"
   },
   {
    "duration": 22,
    "start_time": "2022-06-14T12:45:29.516Z"
   },
   {
    "duration": 21,
    "start_time": "2022-06-14T12:46:06.883Z"
   },
   {
    "duration": 21,
    "start_time": "2022-06-14T12:46:46.118Z"
   },
   {
    "duration": 7,
    "start_time": "2022-06-14T12:47:26.690Z"
   },
   {
    "duration": 25,
    "start_time": "2022-06-14T12:47:50.082Z"
   },
   {
    "duration": 5,
    "start_time": "2022-06-14T12:48:10.439Z"
   },
   {
    "duration": 6,
    "start_time": "2022-06-14T12:48:13.763Z"
   },
   {
    "duration": 6,
    "start_time": "2022-06-14T12:48:16.590Z"
   },
   {
    "duration": 3,
    "start_time": "2022-06-14T12:48:30.853Z"
   },
   {
    "duration": 1090,
    "start_time": "2022-06-14T12:48:31.331Z"
   },
   {
    "duration": 2,
    "start_time": "2022-06-14T12:48:32.423Z"
   },
   {
    "duration": 43,
    "start_time": "2022-06-14T12:48:32.427Z"
   },
   {
    "duration": 11,
    "start_time": "2022-06-14T12:48:33.657Z"
   },
   {
    "duration": 630,
    "start_time": "2022-06-14T12:48:33.886Z"
   },
   {
    "duration": 118,
    "start_time": "2022-06-14T12:48:34.518Z"
   },
   {
    "duration": 261,
    "start_time": "2022-06-14T12:48:34.926Z"
   },
   {
    "duration": 63,
    "start_time": "2022-06-14T12:48:35.188Z"
   },
   {
    "duration": 14,
    "start_time": "2022-06-14T12:48:35.537Z"
   },
   {
    "duration": 76,
    "start_time": "2022-06-14T12:48:35.887Z"
   },
   {
    "duration": 358,
    "start_time": "2022-06-14T12:48:36.043Z"
   },
   {
    "duration": 4,
    "start_time": "2022-06-14T12:48:36.574Z"
   },
   {
    "duration": 6,
    "start_time": "2022-06-14T12:48:36.975Z"
   },
   {
    "duration": 6,
    "start_time": "2022-06-14T12:48:37.340Z"
   },
   {
    "duration": 4,
    "start_time": "2022-06-14T12:48:37.708Z"
   },
   {
    "duration": 42,
    "start_time": "2022-06-14T12:48:37.910Z"
   },
   {
    "duration": 58,
    "start_time": "2022-06-14T12:48:38.334Z"
   },
   {
    "duration": 97,
    "start_time": "2022-06-14T12:48:38.889Z"
   },
   {
    "duration": 7,
    "start_time": "2022-06-14T12:48:39.083Z"
   },
   {
    "duration": 7,
    "start_time": "2022-06-14T12:48:39.266Z"
   },
   {
    "duration": 9634,
    "start_time": "2022-06-14T12:48:39.634Z"
   },
   {
    "duration": 129,
    "start_time": "2022-06-14T12:48:49.270Z"
   },
   {
    "duration": 693,
    "start_time": "2022-06-14T12:48:49.400Z"
   },
   {
    "duration": 213,
    "start_time": "2022-06-14T12:48:50.095Z"
   },
   {
    "duration": 145,
    "start_time": "2022-06-14T12:48:50.309Z"
   },
   {
    "duration": 307,
    "start_time": "2022-06-14T12:48:50.455Z"
   },
   {
    "duration": 193,
    "start_time": "2022-06-14T12:48:50.764Z"
   },
   {
    "duration": 168,
    "start_time": "2022-06-14T12:48:50.959Z"
   },
   {
    "duration": 116,
    "start_time": "2022-06-14T12:48:51.129Z"
   },
   {
    "duration": 6,
    "start_time": "2022-06-14T12:48:51.247Z"
   },
   {
    "duration": 66,
    "start_time": "2022-06-14T12:48:51.254Z"
   },
   {
    "duration": 9,
    "start_time": "2022-06-14T12:48:51.322Z"
   },
   {
    "duration": 17,
    "start_time": "2022-06-14T12:48:51.333Z"
   },
   {
    "duration": 40,
    "start_time": "2022-06-14T12:48:51.352Z"
   },
   {
    "duration": 32,
    "start_time": "2022-06-14T12:48:51.394Z"
   },
   {
    "duration": 22,
    "start_time": "2022-06-14T12:48:51.427Z"
   },
   {
    "duration": 29,
    "start_time": "2022-06-14T12:48:51.450Z"
   },
   {
    "duration": 115,
    "start_time": "2022-06-14T12:48:51.480Z"
   },
   {
    "duration": 10,
    "start_time": "2022-06-14T12:48:51.596Z"
   },
   {
    "duration": 291,
    "start_time": "2022-06-14T12:48:51.607Z"
   },
   {
    "duration": 7,
    "start_time": "2022-06-14T12:48:51.899Z"
   },
   {
    "duration": 16,
    "start_time": "2022-06-14T12:48:51.907Z"
   },
   {
    "duration": 57,
    "start_time": "2022-06-14T12:48:51.925Z"
   },
   {
    "duration": 48,
    "start_time": "2022-06-14T12:48:51.983Z"
   },
   {
    "duration": 59,
    "start_time": "2022-06-14T12:48:52.032Z"
   },
   {
    "duration": 15,
    "start_time": "2022-06-14T12:48:52.093Z"
   },
   {
    "duration": 31,
    "start_time": "2022-06-14T12:48:52.109Z"
   },
   {
    "duration": 35,
    "start_time": "2022-06-14T12:48:52.143Z"
   },
   {
    "duration": 15,
    "start_time": "2022-06-14T12:48:52.179Z"
   },
   {
    "duration": 20,
    "start_time": "2022-06-14T12:48:52.195Z"
   },
   {
    "duration": 86,
    "start_time": "2022-06-14T12:48:52.217Z"
   },
   {
    "duration": 74,
    "start_time": "2022-06-14T12:48:52.305Z"
   },
   {
    "duration": 77,
    "start_time": "2022-06-14T12:48:52.381Z"
   },
   {
    "duration": 181,
    "start_time": "2022-06-14T12:48:52.847Z"
   },
   {
    "duration": 7,
    "start_time": "2022-06-14T12:48:53.030Z"
   },
   {
    "duration": 66,
    "start_time": "2022-06-14T12:48:53.038Z"
   },
   {
    "duration": 65,
    "start_time": "2022-06-14T12:48:53.581Z"
   },
   {
    "duration": 142,
    "start_time": "2022-06-14T12:48:54.314Z"
   },
   {
    "duration": 68,
    "start_time": "2022-06-14T12:48:54.846Z"
   },
   {
    "duration": 78,
    "start_time": "2022-06-14T12:48:55.267Z"
   },
   {
    "duration": 66,
    "start_time": "2022-06-14T12:48:56.287Z"
   },
   {
    "duration": 27,
    "start_time": "2022-06-14T12:48:57.556Z"
   },
   {
    "duration": 42,
    "start_time": "2022-06-14T12:48:58.114Z"
   },
   {
    "duration": 24,
    "start_time": "2022-06-14T12:48:58.486Z"
   },
   {
    "duration": 23,
    "start_time": "2022-06-14T12:48:58.960Z"
   },
   {
    "duration": 21,
    "start_time": "2022-06-14T12:48:59.228Z"
   },
   {
    "duration": 19,
    "start_time": "2022-06-14T12:48:59.528Z"
   },
   {
    "duration": 10,
    "start_time": "2022-06-14T12:49:00.103Z"
   },
   {
    "duration": 23,
    "start_time": "2022-06-14T12:49:00.642Z"
   },
   {
    "duration": 27,
    "start_time": "2022-06-14T12:49:01.553Z"
   },
   {
    "duration": 72,
    "start_time": "2022-06-14T12:49:02.345Z"
   },
   {
    "duration": 36,
    "start_time": "2022-06-14T12:49:02.997Z"
   },
   {
    "duration": 20,
    "start_time": "2022-06-14T12:49:04.017Z"
   },
   {
    "duration": 93,
    "start_time": "2022-06-14T12:49:04.296Z"
   },
   {
    "duration": 62,
    "start_time": "2022-06-14T12:49:04.898Z"
   },
   {
    "duration": 60,
    "start_time": "2022-06-14T12:49:05.755Z"
   },
   {
    "duration": 37,
    "start_time": "2022-06-14T12:49:43.815Z"
   },
   {
    "duration": 20,
    "start_time": "2022-06-14T12:49:44.917Z"
   },
   {
    "duration": 95,
    "start_time": "2022-06-14T12:49:45.085Z"
   },
   {
    "duration": 56,
    "start_time": "2022-06-14T12:49:45.411Z"
   },
   {
    "duration": 61,
    "start_time": "2022-06-14T12:49:45.733Z"
   },
   {
    "duration": 5,
    "start_time": "2022-06-14T12:49:46.189Z"
   },
   {
    "duration": 7,
    "start_time": "2022-06-14T12:49:46.342Z"
   },
   {
    "duration": 9,
    "start_time": "2022-06-14T12:49:46.482Z"
   },
   {
    "duration": 34,
    "start_time": "2022-06-14T12:49:46.653Z"
   },
   {
    "duration": 26,
    "start_time": "2022-06-14T12:49:46.830Z"
   },
   {
    "duration": 4,
    "start_time": "2022-06-14T12:49:47.022Z"
   },
   {
    "duration": 12,
    "start_time": "2022-06-14T12:49:47.219Z"
   },
   {
    "duration": 11,
    "start_time": "2022-06-14T12:49:47.433Z"
   },
   {
    "duration": 21,
    "start_time": "2022-06-14T12:49:47.658Z"
   },
   {
    "duration": 9,
    "start_time": "2022-06-14T12:49:47.875Z"
   },
   {
    "duration": 33,
    "start_time": "2022-06-14T12:50:40.613Z"
   },
   {
    "duration": 31,
    "start_time": "2022-06-14T12:51:00.383Z"
   },
   {
    "duration": 1103,
    "start_time": "2022-06-14T12:51:51.438Z"
   },
   {
    "duration": 1111,
    "start_time": "2022-06-14T12:51:53.029Z"
   },
   {
    "duration": 3,
    "start_time": "2022-06-14T12:51:54.142Z"
   },
   {
    "duration": 53,
    "start_time": "2022-06-14T12:51:54.146Z"
   },
   {
    "duration": 9,
    "start_time": "2022-06-14T12:51:54.200Z"
   },
   {
    "duration": 621,
    "start_time": "2022-06-14T12:51:54.211Z"
   },
   {
    "duration": 118,
    "start_time": "2022-06-14T12:51:54.833Z"
   },
   {
    "duration": 286,
    "start_time": "2022-06-14T12:51:54.953Z"
   },
   {
    "duration": 84,
    "start_time": "2022-06-14T12:51:55.240Z"
   },
   {
    "duration": 14,
    "start_time": "2022-06-14T12:51:55.326Z"
   },
   {
    "duration": 84,
    "start_time": "2022-06-14T12:51:55.634Z"
   },
   {
    "duration": 347,
    "start_time": "2022-06-14T12:51:55.807Z"
   },
   {
    "duration": 4,
    "start_time": "2022-06-14T12:51:56.368Z"
   },
   {
    "duration": 6,
    "start_time": "2022-06-14T12:51:56.763Z"
   },
   {
    "duration": 5,
    "start_time": "2022-06-14T12:51:57.170Z"
   },
   {
    "duration": 4,
    "start_time": "2022-06-14T12:51:57.614Z"
   },
   {
    "duration": 319,
    "start_time": "2022-06-14T12:51:57.812Z"
   },
   {
    "duration": 47,
    "start_time": "2022-06-14T12:51:58.194Z"
   },
   {
    "duration": 72,
    "start_time": "2022-06-14T12:51:58.837Z"
   },
   {
    "duration": 6,
    "start_time": "2022-06-14T12:51:58.936Z"
   },
   {
    "duration": 5,
    "start_time": "2022-06-14T12:51:59.228Z"
   },
   {
    "duration": 10365,
    "start_time": "2022-06-14T12:51:59.548Z"
   },
   {
    "duration": 210,
    "start_time": "2022-06-14T12:52:09.916Z"
   },
   {
    "duration": 706,
    "start_time": "2022-06-14T12:52:10.186Z"
   },
   {
    "duration": 153,
    "start_time": "2022-06-14T12:52:10.894Z"
   },
   {
    "duration": 144,
    "start_time": "2022-06-14T12:52:11.050Z"
   },
   {
    "duration": 410,
    "start_time": "2022-06-14T12:52:11.195Z"
   },
   {
    "duration": 221,
    "start_time": "2022-06-14T12:52:11.607Z"
   },
   {
    "duration": 191,
    "start_time": "2022-06-14T12:52:11.830Z"
   },
   {
    "duration": 128,
    "start_time": "2022-06-14T12:52:12.023Z"
   },
   {
    "duration": 7,
    "start_time": "2022-06-14T12:52:12.154Z"
   },
   {
    "duration": 74,
    "start_time": "2022-06-14T12:52:12.163Z"
   },
   {
    "duration": 10,
    "start_time": "2022-06-14T12:52:12.238Z"
   },
   {
    "duration": 18,
    "start_time": "2022-06-14T12:52:12.249Z"
   },
   {
    "duration": 36,
    "start_time": "2022-06-14T12:52:12.268Z"
   },
   {
    "duration": 21,
    "start_time": "2022-06-14T12:52:12.305Z"
   },
   {
    "duration": 19,
    "start_time": "2022-06-14T12:52:12.328Z"
   },
   {
    "duration": 17,
    "start_time": "2022-06-14T12:52:12.348Z"
   },
   {
    "duration": 113,
    "start_time": "2022-06-14T12:52:12.383Z"
   },
   {
    "duration": 10,
    "start_time": "2022-06-14T12:52:12.497Z"
   },
   {
    "duration": 437,
    "start_time": "2022-06-14T12:52:12.509Z"
   },
   {
    "duration": 9,
    "start_time": "2022-06-14T12:52:12.948Z"
   },
   {
    "duration": 20,
    "start_time": "2022-06-14T12:52:12.984Z"
   },
   {
    "duration": 23,
    "start_time": "2022-06-14T12:52:13.006Z"
   },
   {
    "duration": 87,
    "start_time": "2022-06-14T12:52:13.031Z"
   },
   {
    "duration": 33,
    "start_time": "2022-06-14T12:52:13.119Z"
   },
   {
    "duration": 30,
    "start_time": "2022-06-14T12:52:13.153Z"
   },
   {
    "duration": 32,
    "start_time": "2022-06-14T12:52:13.184Z"
   },
   {
    "duration": 14,
    "start_time": "2022-06-14T12:52:13.219Z"
   },
   {
    "duration": 17,
    "start_time": "2022-06-14T12:52:13.234Z"
   },
   {
    "duration": 40,
    "start_time": "2022-06-14T12:52:13.253Z"
   },
   {
    "duration": 70,
    "start_time": "2022-06-14T12:52:13.294Z"
   },
   {
    "duration": 79,
    "start_time": "2022-06-14T12:52:13.365Z"
   },
   {
    "duration": 91,
    "start_time": "2022-06-14T12:52:13.445Z"
   },
   {
    "duration": 218,
    "start_time": "2022-06-14T12:52:13.538Z"
   },
   {
    "duration": 7,
    "start_time": "2022-06-14T12:52:13.758Z"
   },
   {
    "duration": 72,
    "start_time": "2022-06-14T12:52:13.766Z"
   },
   {
    "duration": 89,
    "start_time": "2022-06-14T12:52:13.839Z"
   },
   {
    "duration": 161,
    "start_time": "2022-06-14T12:52:14.454Z"
   },
   {
    "duration": 70,
    "start_time": "2022-06-14T12:52:14.747Z"
   },
   {
    "duration": 79,
    "start_time": "2022-06-14T12:52:15.026Z"
   },
   {
    "duration": 63,
    "start_time": "2022-06-14T12:52:15.639Z"
   },
   {
    "duration": 25,
    "start_time": "2022-06-14T12:52:16.257Z"
   },
   {
    "duration": 37,
    "start_time": "2022-06-14T12:52:16.531Z"
   },
   {
    "duration": 25,
    "start_time": "2022-06-14T12:52:16.797Z"
   },
   {
    "duration": 24,
    "start_time": "2022-06-14T12:52:17.319Z"
   },
   {
    "duration": 31,
    "start_time": "2022-06-14T12:52:17.592Z"
   },
   {
    "duration": 25,
    "start_time": "2022-06-14T12:52:17.838Z"
   },
   {
    "duration": 13,
    "start_time": "2022-06-14T12:52:18.387Z"
   },
   {
    "duration": 25,
    "start_time": "2022-06-14T12:52:18.942Z"
   },
   {
    "duration": 31,
    "start_time": "2022-06-14T12:52:19.571Z"
   },
   {
    "duration": 90,
    "start_time": "2022-06-14T12:52:20.356Z"
   },
   {
    "duration": 44,
    "start_time": "2022-06-14T12:52:20.849Z"
   },
   {
    "duration": 25,
    "start_time": "2022-06-14T12:52:21.757Z"
   },
   {
    "duration": 93,
    "start_time": "2022-06-14T12:52:22.107Z"
   },
   {
    "duration": 67,
    "start_time": "2022-06-14T12:52:22.738Z"
   },
   {
    "duration": 68,
    "start_time": "2022-06-14T12:52:24.025Z"
   },
   {
    "duration": 9,
    "start_time": "2022-06-14T12:52:25.184Z"
   },
   {
    "duration": 8,
    "start_time": "2022-06-14T12:52:32.022Z"
   },
   {
    "duration": 10,
    "start_time": "2022-06-14T12:52:38.997Z"
   },
   {
    "duration": 1508,
    "start_time": "2022-06-14T12:53:12.148Z"
   },
   {
    "duration": 10,
    "start_time": "2022-06-14T12:53:49.318Z"
   },
   {
    "duration": 156,
    "start_time": "2022-06-14T12:53:51.573Z"
   },
   {
    "duration": 11,
    "start_time": "2022-06-14T12:54:04.144Z"
   },
   {
    "duration": 15,
    "start_time": "2022-06-14T12:54:14.056Z"
   },
   {
    "duration": 151,
    "start_time": "2022-06-14T12:54:14.524Z"
   },
   {
    "duration": 26,
    "start_time": "2022-06-14T12:55:50.122Z"
   },
   {
    "duration": 180,
    "start_time": "2022-06-14T12:57:20.677Z"
   },
   {
    "duration": 145,
    "start_time": "2022-06-14T12:58:25.972Z"
   },
   {
    "duration": 21,
    "start_time": "2022-06-14T12:58:37.608Z"
   },
   {
    "duration": 24,
    "start_time": "2022-06-14T12:58:59.989Z"
   },
   {
    "duration": 37,
    "start_time": "2022-06-14T12:59:50.635Z"
   },
   {
    "duration": 28,
    "start_time": "2022-06-14T13:00:04.959Z"
   },
   {
    "duration": 12,
    "start_time": "2022-06-14T13:01:12.134Z"
   },
   {
    "duration": 27,
    "start_time": "2022-06-14T13:02:03.131Z"
   },
   {
    "duration": 32,
    "start_time": "2022-06-14T13:02:46.985Z"
   },
   {
    "duration": 42,
    "start_time": "2022-06-14T13:05:07.331Z"
   },
   {
    "duration": 129,
    "start_time": "2022-06-14T13:09:00.076Z"
   },
   {
    "duration": 23926,
    "start_time": "2022-06-14T13:11:57.735Z"
   },
   {
    "duration": 14793,
    "start_time": "2022-06-14T13:12:24.394Z"
   },
   {
    "duration": 162,
    "start_time": "2022-06-14T13:12:47.960Z"
   },
   {
    "duration": 7347,
    "start_time": "2022-06-14T13:13:21.003Z"
   },
   {
    "duration": 34,
    "start_time": "2022-06-14T13:15:30.710Z"
   },
   {
    "duration": 1432,
    "start_time": "2022-06-14T13:16:08.470Z"
   },
   {
    "duration": 26,
    "start_time": "2022-06-14T13:17:24.096Z"
   },
   {
    "duration": 27,
    "start_time": "2022-06-14T13:17:44.288Z"
   },
   {
    "duration": 26,
    "start_time": "2022-06-14T13:18:11.689Z"
   },
   {
    "duration": 26,
    "start_time": "2022-06-14T13:18:30.513Z"
   },
   {
    "duration": 28,
    "start_time": "2022-06-14T13:18:41.593Z"
   },
   {
    "duration": 35,
    "start_time": "2022-06-14T13:19:30.257Z"
   },
   {
    "duration": 36,
    "start_time": "2022-06-14T13:19:56.942Z"
   },
   {
    "duration": 26,
    "start_time": "2022-06-14T13:20:52.996Z"
   },
   {
    "duration": 27,
    "start_time": "2022-06-14T13:22:13.523Z"
   },
   {
    "duration": 41,
    "start_time": "2022-06-14T13:22:54.378Z"
   },
   {
    "duration": 22,
    "start_time": "2022-06-14T13:25:54.468Z"
   },
   {
    "duration": 4,
    "start_time": "2022-06-14T13:26:12.278Z"
   },
   {
    "duration": 11,
    "start_time": "2022-06-14T13:26:23.937Z"
   },
   {
    "duration": 15,
    "start_time": "2022-06-14T13:26:31.312Z"
   },
   {
    "duration": 4,
    "start_time": "2022-06-14T13:26:31.791Z"
   },
   {
    "duration": 20,
    "start_time": "2022-06-14T13:26:32.352Z"
   },
   {
    "duration": 252,
    "start_time": "2022-06-14T13:27:46.116Z"
   },
   {
    "duration": 243,
    "start_time": "2022-06-14T13:28:39.001Z"
   },
   {
    "duration": 267,
    "start_time": "2022-06-14T13:29:51.539Z"
   },
   {
    "duration": 136,
    "start_time": "2022-06-14T13:30:15.842Z"
   },
   {
    "duration": 135,
    "start_time": "2022-06-14T13:30:25.526Z"
   },
   {
    "duration": 57,
    "start_time": "2022-06-14T13:30:37.439Z"
   },
   {
    "duration": 308,
    "start_time": "2022-06-14T13:30:47.594Z"
   },
   {
    "duration": 11,
    "start_time": "2022-06-14T13:31:21.411Z"
   },
   {
    "duration": 14,
    "start_time": "2022-06-14T13:32:47.665Z"
   },
   {
    "duration": 8,
    "start_time": "2022-06-14T13:43:28.832Z"
   },
   {
    "duration": 15,
    "start_time": "2022-06-14T13:43:30.979Z"
   },
   {
    "duration": 25,
    "start_time": "2022-06-14T13:43:41.363Z"
   },
   {
    "duration": 20,
    "start_time": "2022-06-14T13:43:41.976Z"
   },
   {
    "duration": 7,
    "start_time": "2022-06-14T13:43:44.636Z"
   },
   {
    "duration": 16,
    "start_time": "2022-06-14T13:43:45.855Z"
   },
   {
    "duration": 8,
    "start_time": "2022-06-14T13:47:01.735Z"
   },
   {
    "duration": 7,
    "start_time": "2022-06-14T13:47:16.969Z"
   },
   {
    "duration": 30,
    "start_time": "2022-06-14T13:47:17.422Z"
   },
   {
    "duration": 8,
    "start_time": "2022-06-14T13:47:26.679Z"
   },
   {
    "duration": 57,
    "start_time": "2022-06-14T13:56:23.946Z"
   },
   {
    "duration": 30,
    "start_time": "2022-06-14T13:56:41.055Z"
   },
   {
    "duration": 31,
    "start_time": "2022-06-14T13:57:26.309Z"
   },
   {
    "duration": 28,
    "start_time": "2022-06-14T13:57:55.832Z"
   },
   {
    "duration": 29,
    "start_time": "2022-06-14T13:59:08.833Z"
   },
   {
    "duration": 34,
    "start_time": "2022-06-14T13:59:27.791Z"
   },
   {
    "duration": 5,
    "start_time": "2022-06-14T13:59:42.398Z"
   },
   {
    "duration": 6,
    "start_time": "2022-06-14T13:59:47.684Z"
   },
   {
    "duration": 437,
    "start_time": "2022-06-14T13:59:48.258Z"
   },
   {
    "duration": 34,
    "start_time": "2022-06-14T14:00:36.796Z"
   },
   {
    "duration": 7,
    "start_time": "2022-06-14T14:00:57.537Z"
   },
   {
    "duration": 27,
    "start_time": "2022-06-14T14:01:00.673Z"
   },
   {
    "duration": 9,
    "start_time": "2022-06-14T14:01:23.329Z"
   },
   {
    "duration": 517,
    "start_time": "2022-06-14T14:01:25.460Z"
   },
   {
    "duration": 7,
    "start_time": "2022-06-14T14:02:19.001Z"
   },
   {
    "duration": 497,
    "start_time": "2022-06-14T14:02:19.583Z"
   },
   {
    "duration": 23,
    "start_time": "2022-06-14T14:02:50.800Z"
   },
   {
    "duration": 16,
    "start_time": "2022-06-14T14:02:54.966Z"
   },
   {
    "duration": 8,
    "start_time": "2022-06-14T14:03:01.315Z"
   },
   {
    "duration": 54,
    "start_time": "2022-06-14T14:05:07.671Z"
   },
   {
    "duration": 8,
    "start_time": "2022-06-14T14:05:33.589Z"
   },
   {
    "duration": 26,
    "start_time": "2022-06-14T14:05:35.412Z"
   },
   {
    "duration": 8,
    "start_time": "2022-06-14T14:06:14.507Z"
   },
   {
    "duration": 28,
    "start_time": "2022-06-14T14:06:15.038Z"
   },
   {
    "duration": 8,
    "start_time": "2022-06-14T14:08:41.441Z"
   },
   {
    "duration": 27,
    "start_time": "2022-06-14T14:08:42.088Z"
   },
   {
    "duration": 7,
    "start_time": "2022-06-14T14:09:29.310Z"
   },
   {
    "duration": 25,
    "start_time": "2022-06-14T14:09:30.650Z"
   },
   {
    "duration": 7,
    "start_time": "2022-06-14T14:10:30.796Z"
   },
   {
    "duration": 487,
    "start_time": "2022-06-14T14:10:35.495Z"
   },
   {
    "duration": 9,
    "start_time": "2022-06-14T14:11:09.343Z"
   },
   {
    "duration": 37,
    "start_time": "2022-06-14T14:11:11.726Z"
   },
   {
    "duration": 12,
    "start_time": "2022-06-14T14:11:39.983Z"
   },
   {
    "duration": 6,
    "start_time": "2022-06-14T14:13:13.002Z"
   },
   {
    "duration": 24,
    "start_time": "2022-06-14T14:13:13.532Z"
   },
   {
    "duration": 11,
    "start_time": "2022-06-14T14:17:00.942Z"
   },
   {
    "duration": 10,
    "start_time": "2022-06-14T14:17:09.495Z"
   },
   {
    "duration": 3,
    "start_time": "2022-06-14T14:17:15.653Z"
   },
   {
    "duration": 15,
    "start_time": "2022-06-14T14:18:34.812Z"
   },
   {
    "duration": 8,
    "start_time": "2022-06-14T14:20:39.341Z"
   },
   {
    "duration": 16,
    "start_time": "2022-06-14T14:21:43.148Z"
   },
   {
    "duration": 3,
    "start_time": "2022-06-14T14:22:28.774Z"
   },
   {
    "duration": 14,
    "start_time": "2022-06-14T14:22:38.333Z"
   },
   {
    "duration": 7,
    "start_time": "2022-06-14T14:23:07.417Z"
   },
   {
    "duration": 49,
    "start_time": "2022-06-14T14:23:07.896Z"
   },
   {
    "duration": 6,
    "start_time": "2022-06-14T14:25:46.057Z"
   },
   {
    "duration": 18,
    "start_time": "2022-06-14T14:27:19.381Z"
   },
   {
    "duration": 7,
    "start_time": "2022-06-14T14:27:54.646Z"
   },
   {
    "duration": 50,
    "start_time": "2022-06-14T14:27:55.254Z"
   },
   {
    "duration": 6,
    "start_time": "2022-06-14T14:28:59.868Z"
   },
   {
    "duration": 65,
    "start_time": "2022-06-14T14:29:09.857Z"
   },
   {
    "duration": 3,
    "start_time": "2022-06-14T14:29:24.807Z"
   },
   {
    "duration": 7,
    "start_time": "2022-06-14T14:29:25.452Z"
   },
   {
    "duration": 373,
    "start_time": "2022-06-14T14:29:26.052Z"
   },
   {
    "duration": 450,
    "start_time": "2022-06-14T14:30:10.781Z"
   },
   {
    "duration": 746,
    "start_time": "2022-06-14T14:31:08.643Z"
   },
   {
    "duration": 41,
    "start_time": "2022-06-14T14:32:43.909Z"
   },
   {
    "duration": 61,
    "start_time": "2022-06-14T14:33:02.701Z"
   },
   {
    "duration": 53,
    "start_time": "2022-06-14T14:33:08.576Z"
   },
   {
    "duration": 36,
    "start_time": "2022-06-14T14:33:17.485Z"
   },
   {
    "duration": 19,
    "start_time": "2022-06-14T14:42:43.427Z"
   },
   {
    "duration": 11,
    "start_time": "2022-06-14T14:44:51.547Z"
   },
   {
    "duration": 52,
    "start_time": "2022-06-14T14:44:59.386Z"
   },
   {
    "duration": 10,
    "start_time": "2022-06-14T14:46:36.706Z"
   },
   {
    "duration": 25,
    "start_time": "2022-06-14T14:48:03.174Z"
   },
   {
    "duration": 28,
    "start_time": "2022-06-14T14:50:44.607Z"
   },
   {
    "duration": 27,
    "start_time": "2022-06-14T14:51:53.452Z"
   },
   {
    "duration": 24,
    "start_time": "2022-06-14T14:52:18.418Z"
   },
   {
    "duration": 25,
    "start_time": "2022-06-14T14:52:34.724Z"
   },
   {
    "duration": 6,
    "start_time": "2022-06-14T14:55:57.943Z"
   },
   {
    "duration": 13,
    "start_time": "2022-06-14T14:56:09.721Z"
   },
   {
    "duration": 13,
    "start_time": "2022-06-14T15:04:07.152Z"
   },
   {
    "duration": 15,
    "start_time": "2022-06-14T15:05:30.685Z"
   },
   {
    "duration": 16,
    "start_time": "2022-06-14T15:06:26.464Z"
   },
   {
    "duration": 44,
    "start_time": "2022-06-14T15:07:07.867Z"
   },
   {
    "duration": 15,
    "start_time": "2022-06-14T15:07:18.883Z"
   },
   {
    "duration": 23,
    "start_time": "2022-06-14T15:07:33.351Z"
   },
   {
    "duration": 16,
    "start_time": "2022-06-14T15:09:09.255Z"
   },
   {
    "duration": 8,
    "start_time": "2022-06-14T15:16:04.559Z"
   },
   {
    "duration": 17,
    "start_time": "2022-06-14T15:20:58.881Z"
   },
   {
    "duration": 17,
    "start_time": "2022-06-14T15:21:14.543Z"
   },
   {
    "duration": 11,
    "start_time": "2022-06-14T15:21:27.950Z"
   },
   {
    "duration": 441,
    "start_time": "2022-06-14T15:29:27.675Z"
   },
   {
    "duration": 13,
    "start_time": "2022-06-14T15:29:55.612Z"
   },
   {
    "duration": 17,
    "start_time": "2022-06-14T15:30:02.338Z"
   },
   {
    "duration": 460,
    "start_time": "2022-06-14T15:30:34.192Z"
   },
   {
    "duration": 27,
    "start_time": "2022-06-14T15:30:47.655Z"
   },
   {
    "duration": 37,
    "start_time": "2022-06-14T15:35:01.998Z"
   },
   {
    "duration": 11,
    "start_time": "2022-06-14T15:35:19.772Z"
   },
   {
    "duration": 11,
    "start_time": "2022-06-14T15:35:44.463Z"
   },
   {
    "duration": 10,
    "start_time": "2022-06-14T15:36:48.938Z"
   },
   {
    "duration": 25,
    "start_time": "2022-06-14T15:37:28.983Z"
   },
   {
    "duration": 34,
    "start_time": "2022-06-14T15:44:46.066Z"
   },
   {
    "duration": 26,
    "start_time": "2022-06-14T15:44:55.971Z"
   },
   {
    "duration": 27,
    "start_time": "2022-06-14T15:49:35.736Z"
   },
   {
    "duration": 29,
    "start_time": "2022-06-14T15:50:05.391Z"
   },
   {
    "duration": 26,
    "start_time": "2022-06-14T15:51:03.690Z"
   },
   {
    "duration": 27,
    "start_time": "2022-06-14T15:51:44.493Z"
   },
   {
    "duration": 53,
    "start_time": "2022-06-14T15:58:24.833Z"
   },
   {
    "duration": 12,
    "start_time": "2022-06-14T15:59:10.809Z"
   },
   {
    "duration": 22,
    "start_time": "2022-06-14T15:59:48.272Z"
   },
   {
    "duration": 468,
    "start_time": "2022-06-14T15:59:53.976Z"
   },
   {
    "duration": 19,
    "start_time": "2022-06-14T16:00:13.129Z"
   },
   {
    "duration": 25,
    "start_time": "2022-06-14T16:00:25.265Z"
   },
   {
    "duration": 20,
    "start_time": "2022-06-14T16:02:01.552Z"
   },
   {
    "duration": 19,
    "start_time": "2022-06-14T16:02:13.144Z"
   },
   {
    "duration": 23,
    "start_time": "2022-06-14T16:03:10.391Z"
   },
   {
    "duration": 66,
    "start_time": "2022-06-14T16:03:27.015Z"
   },
   {
    "duration": 25,
    "start_time": "2022-06-14T16:04:36.134Z"
   },
   {
    "duration": 11,
    "start_time": "2022-06-14T16:05:16.935Z"
   },
   {
    "duration": 134,
    "start_time": "2022-06-14T16:06:37.014Z"
   },
   {
    "duration": 12,
    "start_time": "2022-06-14T16:06:52.706Z"
   },
   {
    "duration": 24,
    "start_time": "2022-06-14T16:07:12.872Z"
   },
   {
    "duration": 11,
    "start_time": "2022-06-14T16:07:49.674Z"
   },
   {
    "duration": 54,
    "start_time": "2022-06-14T16:07:49.965Z"
   },
   {
    "duration": 12,
    "start_time": "2022-06-14T16:08:40.852Z"
   },
   {
    "duration": 20,
    "start_time": "2022-06-14T16:10:32.771Z"
   },
   {
    "duration": 29,
    "start_time": "2022-06-14T16:12:38.314Z"
   },
   {
    "duration": 33,
    "start_time": "2022-06-14T16:14:06.090Z"
   },
   {
    "duration": 29,
    "start_time": "2022-06-14T16:15:15.599Z"
   },
   {
    "duration": 43,
    "start_time": "2022-06-14T16:15:23.058Z"
   },
   {
    "duration": 46,
    "start_time": "2022-06-14T16:15:56.349Z"
   },
   {
    "duration": 39,
    "start_time": "2022-06-14T16:16:16.010Z"
   },
   {
    "duration": 8,
    "start_time": "2022-06-14T16:17:31.756Z"
   },
   {
    "duration": 8,
    "start_time": "2022-06-14T16:17:37.636Z"
   },
   {
    "duration": 10,
    "start_time": "2022-06-14T16:17:51.392Z"
   },
   {
    "duration": 16,
    "start_time": "2022-06-14T16:18:36.536Z"
   },
   {
    "duration": 12,
    "start_time": "2022-06-14T16:18:58.472Z"
   },
   {
    "duration": 12,
    "start_time": "2022-06-14T16:19:19.861Z"
   },
   {
    "duration": 13,
    "start_time": "2022-06-14T16:19:25.454Z"
   },
   {
    "duration": 135,
    "start_time": "2022-06-14T16:19:49.942Z"
   },
   {
    "duration": 25,
    "start_time": "2022-06-14T16:20:05.585Z"
   },
   {
    "duration": 120,
    "start_time": "2022-06-14T16:20:40.304Z"
   },
   {
    "duration": 25,
    "start_time": "2022-06-14T16:21:08.464Z"
   },
   {
    "duration": 13,
    "start_time": "2022-06-14T16:21:34.856Z"
   },
   {
    "duration": 37,
    "start_time": "2022-06-14T16:23:07.089Z"
   },
   {
    "duration": 30,
    "start_time": "2022-06-14T16:23:18.329Z"
   },
   {
    "duration": 31,
    "start_time": "2022-06-14T16:23:28.650Z"
   },
   {
    "duration": 34,
    "start_time": "2022-06-14T16:23:33.629Z"
   },
   {
    "duration": 37,
    "start_time": "2022-06-14T16:24:01.789Z"
   },
   {
    "duration": 37,
    "start_time": "2022-06-14T16:24:15.505Z"
   },
   {
    "duration": 52,
    "start_time": "2022-06-14T16:24:43.362Z"
   },
   {
    "duration": 42,
    "start_time": "2022-06-14T16:25:19.213Z"
   },
   {
    "duration": 40,
    "start_time": "2022-06-14T16:25:58.064Z"
   },
   {
    "duration": 30,
    "start_time": "2022-06-14T16:26:47.149Z"
   },
   {
    "duration": 41,
    "start_time": "2022-06-14T16:26:55.695Z"
   },
   {
    "duration": 26,
    "start_time": "2022-06-14T16:27:18.630Z"
   },
   {
    "duration": 30,
    "start_time": "2022-06-14T16:27:24.493Z"
   },
   {
    "duration": 29,
    "start_time": "2022-06-14T16:27:36.341Z"
   },
   {
    "duration": 11,
    "start_time": "2022-06-14T16:27:38.380Z"
   },
   {
    "duration": 25,
    "start_time": "2022-06-14T16:27:41.091Z"
   },
   {
    "duration": 26,
    "start_time": "2022-06-14T16:28:00.742Z"
   },
   {
    "duration": 32,
    "start_time": "2022-06-14T16:28:59.506Z"
   },
   {
    "duration": 39,
    "start_time": "2022-06-14T16:29:06.364Z"
   },
   {
    "duration": 34,
    "start_time": "2022-06-14T16:29:18.031Z"
   },
   {
    "duration": 39,
    "start_time": "2022-06-14T16:29:56.627Z"
   },
   {
    "duration": 42,
    "start_time": "2022-06-14T16:30:42.529Z"
   },
   {
    "duration": 38,
    "start_time": "2022-06-14T16:31:46.244Z"
   },
   {
    "duration": 41,
    "start_time": "2022-06-14T16:32:03.224Z"
   },
   {
    "duration": 41,
    "start_time": "2022-06-14T16:33:32.866Z"
   },
   {
    "duration": 30,
    "start_time": "2022-06-14T16:34:12.465Z"
   },
   {
    "duration": 20,
    "start_time": "2022-06-14T16:35:29.538Z"
   },
   {
    "duration": 15,
    "start_time": "2022-06-14T16:35:30.320Z"
   },
   {
    "duration": 9,
    "start_time": "2022-06-14T16:35:48.896Z"
   },
   {
    "duration": 9,
    "start_time": "2022-06-14T16:36:11.135Z"
   },
   {
    "duration": 20,
    "start_time": "2022-06-14T16:36:38.726Z"
   },
   {
    "duration": 23,
    "start_time": "2022-06-14T16:39:05.670Z"
   },
   {
    "duration": 21,
    "start_time": "2022-06-14T16:39:10.950Z"
   },
   {
    "duration": 504,
    "start_time": "2022-06-14T16:39:14.950Z"
   },
   {
    "duration": 25,
    "start_time": "2022-06-14T16:40:07.685Z"
   },
   {
    "duration": 19,
    "start_time": "2022-06-14T16:40:27.175Z"
   },
   {
    "duration": 21,
    "start_time": "2022-06-14T16:41:08.132Z"
   },
   {
    "duration": 18,
    "start_time": "2022-06-14T16:41:16.573Z"
   },
   {
    "duration": 20,
    "start_time": "2022-06-14T16:41:54.936Z"
   },
   {
    "duration": 20,
    "start_time": "2022-06-14T16:42:24.172Z"
   },
   {
    "duration": 23,
    "start_time": "2022-06-14T16:43:13.818Z"
   },
   {
    "duration": 11,
    "start_time": "2022-06-14T16:43:20.758Z"
   },
   {
    "duration": 5,
    "start_time": "2022-06-14T16:44:44.931Z"
   },
   {
    "duration": 13,
    "start_time": "2022-06-14T16:44:53.354Z"
   },
   {
    "duration": 10,
    "start_time": "2022-06-14T16:45:00.414Z"
   },
   {
    "duration": 10,
    "start_time": "2022-06-14T16:47:53.281Z"
   },
   {
    "duration": 23,
    "start_time": "2022-06-14T16:47:59.751Z"
   },
   {
    "duration": 11,
    "start_time": "2022-06-14T16:48:13.416Z"
   },
   {
    "duration": 393,
    "start_time": "2022-06-14T16:48:53.683Z"
   },
   {
    "duration": 14,
    "start_time": "2022-06-14T16:49:11.455Z"
   },
   {
    "duration": 24,
    "start_time": "2022-06-14T16:49:36.795Z"
   },
   {
    "duration": 15,
    "start_time": "2022-06-14T16:49:40.056Z"
   },
   {
    "duration": 21,
    "start_time": "2022-06-14T16:50:28.197Z"
   },
   {
    "duration": 18,
    "start_time": "2022-06-14T16:50:39.042Z"
   },
   {
    "duration": 24,
    "start_time": "2022-06-14T16:50:56.132Z"
   },
   {
    "duration": 20,
    "start_time": "2022-06-14T16:51:14.221Z"
   },
   {
    "duration": 20,
    "start_time": "2022-06-14T16:52:51.970Z"
   },
   {
    "duration": 24,
    "start_time": "2022-06-14T16:52:58.876Z"
   },
   {
    "duration": 21,
    "start_time": "2022-06-14T16:53:20.110Z"
   },
   {
    "duration": 18,
    "start_time": "2022-06-14T16:53:22.512Z"
   },
   {
    "duration": 16,
    "start_time": "2022-06-14T16:56:20.835Z"
   },
   {
    "duration": 15,
    "start_time": "2022-06-14T16:57:24.845Z"
   },
   {
    "duration": 21,
    "start_time": "2022-06-14T16:57:43.593Z"
   },
   {
    "duration": 53,
    "start_time": "2022-06-14T16:58:08.086Z"
   },
   {
    "duration": 33,
    "start_time": "2022-06-14T16:58:18.704Z"
   },
   {
    "duration": 32,
    "start_time": "2022-06-14T16:58:32.480Z"
   },
   {
    "duration": 15,
    "start_time": "2022-06-14T16:58:51.525Z"
   },
   {
    "duration": 16,
    "start_time": "2022-06-14T16:59:04.141Z"
   },
   {
    "duration": 24,
    "start_time": "2022-06-14T17:16:42.811Z"
   },
   {
    "duration": 1100,
    "start_time": "2022-06-14T17:19:02.628Z"
   },
   {
    "duration": 1583,
    "start_time": "2022-06-14T17:19:04.625Z"
   },
   {
    "duration": 3,
    "start_time": "2022-06-14T17:19:06.210Z"
   },
   {
    "duration": 32,
    "start_time": "2022-06-14T17:19:06.214Z"
   },
   {
    "duration": 9,
    "start_time": "2022-06-14T17:19:06.248Z"
   },
   {
    "duration": 639,
    "start_time": "2022-06-14T17:19:06.259Z"
   },
   {
    "duration": 102,
    "start_time": "2022-06-14T17:19:06.900Z"
   },
   {
    "duration": 287,
    "start_time": "2022-06-14T17:19:07.004Z"
   },
   {
    "duration": 92,
    "start_time": "2022-06-14T17:19:07.293Z"
   },
   {
    "duration": 14,
    "start_time": "2022-06-14T17:19:07.558Z"
   },
   {
    "duration": 85,
    "start_time": "2022-06-14T17:19:08.014Z"
   },
   {
    "duration": 326,
    "start_time": "2022-06-14T17:19:08.379Z"
   },
   {
    "duration": 5,
    "start_time": "2022-06-14T17:19:09.452Z"
   },
   {
    "duration": 5,
    "start_time": "2022-06-14T17:19:10.153Z"
   },
   {
    "duration": 4,
    "start_time": "2022-06-14T17:19:10.828Z"
   },
   {
    "duration": 3,
    "start_time": "2022-06-14T17:19:11.549Z"
   },
   {
    "duration": 311,
    "start_time": "2022-06-14T17:19:12.012Z"
   },
   {
    "duration": 38,
    "start_time": "2022-06-14T17:19:12.830Z"
   },
   {
    "duration": 66,
    "start_time": "2022-06-14T17:19:13.910Z"
   },
   {
    "duration": 6,
    "start_time": "2022-06-14T17:19:14.245Z"
   },
   {
    "duration": 6,
    "start_time": "2022-06-14T17:19:14.643Z"
   },
   {
    "duration": 9741,
    "start_time": "2022-06-14T17:19:15.374Z"
   },
   {
    "duration": 190,
    "start_time": "2022-06-14T17:19:25.117Z"
   },
   {
    "duration": 691,
    "start_time": "2022-06-14T17:19:25.308Z"
   },
   {
    "duration": 154,
    "start_time": "2022-06-14T17:19:26.001Z"
   },
   {
    "duration": 139,
    "start_time": "2022-06-14T17:19:26.156Z"
   },
   {
    "duration": 400,
    "start_time": "2022-06-14T17:19:26.297Z"
   },
   {
    "duration": 204,
    "start_time": "2022-06-14T17:19:26.699Z"
   },
   {
    "duration": 186,
    "start_time": "2022-06-14T17:19:26.905Z"
   },
   {
    "duration": 138,
    "start_time": "2022-06-14T17:19:27.093Z"
   },
   {
    "duration": 5,
    "start_time": "2022-06-14T17:19:27.234Z"
   },
   {
    "duration": 60,
    "start_time": "2022-06-14T17:19:27.240Z"
   },
   {
    "duration": 10,
    "start_time": "2022-06-14T17:19:27.301Z"
   },
   {
    "duration": 18,
    "start_time": "2022-06-14T17:19:27.993Z"
   },
   {
    "duration": 21,
    "start_time": "2022-06-14T17:19:29.809Z"
   },
   {
    "duration": 17,
    "start_time": "2022-06-14T17:19:33.074Z"
   },
   {
    "duration": 19,
    "start_time": "2022-06-14T17:19:34.088Z"
   },
   {
    "duration": 19,
    "start_time": "2022-06-14T17:19:35.030Z"
   },
   {
    "duration": 108,
    "start_time": "2022-06-14T17:19:36.247Z"
   },
   {
    "duration": 11,
    "start_time": "2022-06-14T17:19:40.065Z"
   },
   {
    "duration": 378,
    "start_time": "2022-06-14T17:19:41.058Z"
   },
   {
    "duration": 7,
    "start_time": "2022-06-14T17:19:42.989Z"
   },
   {
    "duration": 16,
    "start_time": "2022-06-14T17:19:43.499Z"
   },
   {
    "duration": 16,
    "start_time": "2022-06-14T17:19:44.331Z"
   },
   {
    "duration": 47,
    "start_time": "2022-06-14T17:19:45.374Z"
   },
   {
    "duration": 34,
    "start_time": "2022-06-14T17:19:46.750Z"
   },
   {
    "duration": 18,
    "start_time": "2022-06-14T17:19:47.487Z"
   },
   {
    "duration": 34,
    "start_time": "2022-06-14T17:19:48.234Z"
   },
   {
    "duration": 14,
    "start_time": "2022-06-14T17:19:50.168Z"
   },
   {
    "duration": 15,
    "start_time": "2022-06-14T17:19:51.778Z"
   },
   {
    "duration": 16,
    "start_time": "2022-06-14T17:19:59.080Z"
   },
   {
    "duration": 63,
    "start_time": "2022-06-14T17:19:59.838Z"
   },
   {
    "duration": 74,
    "start_time": "2022-06-14T17:20:00.604Z"
   },
   {
    "duration": 88,
    "start_time": "2022-06-14T17:20:01.466Z"
   },
   {
    "duration": 191,
    "start_time": "2022-06-14T17:20:02.904Z"
   },
   {
    "duration": 10,
    "start_time": "2022-06-14T17:20:03.328Z"
   },
   {
    "duration": 59,
    "start_time": "2022-06-14T17:20:04.428Z"
   },
   {
    "duration": 98,
    "start_time": "2022-06-14T17:20:04.688Z"
   },
   {
    "duration": 138,
    "start_time": "2022-06-14T17:20:05.805Z"
   },
   {
    "duration": 62,
    "start_time": "2022-06-14T17:20:24.271Z"
   },
   {
    "duration": 70,
    "start_time": "2022-06-14T17:20:24.957Z"
   },
   {
    "duration": 75,
    "start_time": "2022-06-14T17:20:33.328Z"
   },
   {
    "duration": 25,
    "start_time": "2022-06-14T17:20:34.928Z"
   },
   {
    "duration": 38,
    "start_time": "2022-06-14T17:20:35.729Z"
   },
   {
    "duration": 25,
    "start_time": "2022-06-14T17:20:36.323Z"
   },
   {
    "duration": 25,
    "start_time": "2022-06-14T17:20:37.433Z"
   },
   {
    "duration": 24,
    "start_time": "2022-06-14T17:20:38.110Z"
   },
   {
    "duration": 19,
    "start_time": "2022-06-14T17:20:38.828Z"
   },
   {
    "duration": 10,
    "start_time": "2022-06-14T17:20:40.414Z"
   },
   {
    "duration": 28,
    "start_time": "2022-06-14T17:21:17.673Z"
   },
   {
    "duration": 29,
    "start_time": "2022-06-14T17:21:30.302Z"
   },
   {
    "duration": 72,
    "start_time": "2022-06-14T17:22:11.503Z"
   },
   {
    "duration": 37,
    "start_time": "2022-06-14T17:23:12.783Z"
   },
   {
    "duration": 9,
    "start_time": "2022-06-14T17:23:15.631Z"
   },
   {
    "duration": 20,
    "start_time": "2022-06-14T17:23:16.537Z"
   },
   {
    "duration": 93,
    "start_time": "2022-06-14T17:23:58.903Z"
   },
   {
    "duration": 55,
    "start_time": "2022-06-14T17:24:07.153Z"
   },
   {
    "duration": 145,
    "start_time": "2022-06-14T17:24:32.308Z"
   },
   {
    "duration": 15,
    "start_time": "2022-06-14T17:25:16.504Z"
   },
   {
    "duration": 18,
    "start_time": "2022-06-14T17:25:27.960Z"
   },
   {
    "duration": 20,
    "start_time": "2022-06-14T17:25:40.495Z"
   },
   {
    "duration": 64,
    "start_time": "2022-06-14T17:26:04.744Z"
   },
   {
    "duration": 61,
    "start_time": "2022-06-14T17:26:45.266Z"
   },
   {
    "duration": 8,
    "start_time": "2022-06-14T17:45:59.285Z"
   },
   {
    "duration": 17,
    "start_time": "2022-06-14T17:50:18.357Z"
   },
   {
    "duration": 6,
    "start_time": "2022-06-14T17:50:32.945Z"
   },
   {
    "duration": 16,
    "start_time": "2022-06-14T17:50:34.638Z"
   },
   {
    "duration": 13,
    "start_time": "2022-06-14T17:52:56.859Z"
   },
   {
    "duration": 5,
    "start_time": "2022-06-14T17:52:57.756Z"
   },
   {
    "duration": 6,
    "start_time": "2022-06-14T17:52:58.618Z"
   },
   {
    "duration": 48,
    "start_time": "2022-06-14T17:52:59.605Z"
   },
   {
    "duration": 441,
    "start_time": "2022-06-14T17:54:59.350Z"
   },
   {
    "duration": 62,
    "start_time": "2022-06-14T17:55:30.332Z"
   },
   {
    "duration": 139,
    "start_time": "2022-06-14T17:56:00.852Z"
   },
   {
    "duration": 447,
    "start_time": "2022-06-14T17:56:15.880Z"
   },
   {
    "duration": 35,
    "start_time": "2022-06-14T17:59:27.909Z"
   },
   {
    "duration": 6,
    "start_time": "2022-06-14T18:05:48.467Z"
   },
   {
    "duration": 43,
    "start_time": "2022-06-14T18:05:51.082Z"
   },
   {
    "duration": 81,
    "start_time": "2022-06-14T18:06:05.242Z"
   },
   {
    "duration": 75,
    "start_time": "2022-06-14T18:06:17.120Z"
   },
   {
    "duration": 10,
    "start_time": "2022-06-14T18:13:05.782Z"
   },
   {
    "duration": 21,
    "start_time": "2022-06-14T18:13:06.548Z"
   },
   {
    "duration": 6,
    "start_time": "2022-06-14T18:13:11.299Z"
   },
   {
    "duration": 60,
    "start_time": "2022-06-14T18:13:15.082Z"
   },
   {
    "duration": 9,
    "start_time": "2022-06-14T18:13:35.434Z"
   },
   {
    "duration": 63,
    "start_time": "2022-06-14T18:13:47.441Z"
   },
   {
    "duration": 462,
    "start_time": "2022-06-14T18:14:43.005Z"
   },
   {
    "duration": 15,
    "start_time": "2022-06-14T18:15:16.221Z"
   },
   {
    "duration": 16,
    "start_time": "2022-06-14T18:15:32.811Z"
   },
   {
    "duration": 18,
    "start_time": "2022-06-14T18:17:55.136Z"
   },
   {
    "duration": 71,
    "start_time": "2022-06-14T18:22:33.535Z"
   },
   {
    "duration": 1373,
    "start_time": "2022-06-14T19:58:03.055Z"
   },
   {
    "duration": 1173,
    "start_time": "2022-06-14T19:58:04.430Z"
   },
   {
    "duration": 3,
    "start_time": "2022-06-14T19:58:05.605Z"
   },
   {
    "duration": 31,
    "start_time": "2022-06-14T19:58:05.609Z"
   },
   {
    "duration": 10,
    "start_time": "2022-06-14T19:58:05.642Z"
   },
   {
    "duration": 652,
    "start_time": "2022-06-14T19:58:05.653Z"
   },
   {
    "duration": 112,
    "start_time": "2022-06-14T19:58:06.306Z"
   },
   {
    "duration": 261,
    "start_time": "2022-06-14T19:58:06.548Z"
   },
   {
    "duration": 79,
    "start_time": "2022-06-14T19:58:06.811Z"
   },
   {
    "duration": 14,
    "start_time": "2022-06-14T19:58:07.304Z"
   },
   {
    "duration": 75,
    "start_time": "2022-06-14T19:58:07.667Z"
   },
   {
    "duration": 412,
    "start_time": "2022-06-14T19:58:07.928Z"
   },
   {
    "duration": 4,
    "start_time": "2022-06-14T19:58:08.825Z"
   },
   {
    "duration": 5,
    "start_time": "2022-06-14T19:58:09.424Z"
   },
   {
    "duration": 5,
    "start_time": "2022-06-14T19:58:09.805Z"
   },
   {
    "duration": 4,
    "start_time": "2022-06-14T19:58:10.201Z"
   },
   {
    "duration": 652,
    "start_time": "2022-06-14T19:58:10.523Z"
   },
   {
    "duration": 105,
    "start_time": "2022-06-14T19:58:11.177Z"
   },
   {
    "duration": 78,
    "start_time": "2022-06-14T19:58:11.862Z"
   },
   {
    "duration": 7,
    "start_time": "2022-06-14T19:58:12.122Z"
   },
   {
    "duration": 7,
    "start_time": "2022-06-14T19:58:12.429Z"
   },
   {
    "duration": 10113,
    "start_time": "2022-06-14T19:58:13.154Z"
   },
   {
    "duration": 242,
    "start_time": "2022-06-14T19:58:23.270Z"
   },
   {
    "duration": 713,
    "start_time": "2022-06-14T19:58:23.514Z"
   },
   {
    "duration": 154,
    "start_time": "2022-06-14T19:58:24.229Z"
   },
   {
    "duration": 147,
    "start_time": "2022-06-14T19:58:24.385Z"
   },
   {
    "duration": 440,
    "start_time": "2022-06-14T19:58:24.534Z"
   },
   {
    "duration": 198,
    "start_time": "2022-06-14T19:58:24.975Z"
   },
   {
    "duration": 178,
    "start_time": "2022-06-14T19:58:25.174Z"
   },
   {
    "duration": 136,
    "start_time": "2022-06-14T19:58:25.354Z"
   },
   {
    "duration": 6,
    "start_time": "2022-06-14T19:58:25.493Z"
   },
   {
    "duration": 48,
    "start_time": "2022-06-14T19:58:25.500Z"
   },
   {
    "duration": 41,
    "start_time": "2022-06-14T19:58:25.550Z"
   },
   {
    "duration": 20,
    "start_time": "2022-06-14T19:58:25.593Z"
   },
   {
    "duration": 17,
    "start_time": "2022-06-14T19:58:25.615Z"
   },
   {
    "duration": 20,
    "start_time": "2022-06-14T19:58:25.634Z"
   },
   {
    "duration": 45,
    "start_time": "2022-06-14T19:58:25.655Z"
   },
   {
    "duration": 122,
    "start_time": "2022-06-14T19:58:25.702Z"
   },
   {
    "duration": 12,
    "start_time": "2022-06-14T19:58:25.826Z"
   },
   {
    "duration": 383,
    "start_time": "2022-06-14T19:58:25.840Z"
   },
   {
    "duration": 9,
    "start_time": "2022-06-14T19:58:26.225Z"
   },
   {
    "duration": 49,
    "start_time": "2022-06-14T19:58:26.236Z"
   },
   {
    "duration": 15,
    "start_time": "2022-06-14T19:58:26.556Z"
   },
   {
    "duration": 45,
    "start_time": "2022-06-14T19:58:26.900Z"
   },
   {
    "duration": 35,
    "start_time": "2022-06-14T19:58:27.705Z"
   },
   {
    "duration": 20,
    "start_time": "2022-06-14T19:58:28.101Z"
   },
   {
    "duration": 33,
    "start_time": "2022-06-14T19:58:28.518Z"
   },
   {
    "duration": 20,
    "start_time": "2022-06-14T19:58:29.234Z"
   },
   {
    "duration": 15,
    "start_time": "2022-06-14T19:58:29.575Z"
   },
   {
    "duration": 18,
    "start_time": "2022-06-14T19:58:34.097Z"
   },
   {
    "duration": 82,
    "start_time": "2022-06-14T19:58:35.193Z"
   },
   {
    "duration": 86,
    "start_time": "2022-06-14T19:58:35.425Z"
   },
   {
    "duration": 91,
    "start_time": "2022-06-14T19:58:35.648Z"
   },
   {
    "duration": 196,
    "start_time": "2022-06-14T19:58:39.022Z"
   },
   {
    "duration": 6,
    "start_time": "2022-06-14T19:58:39.257Z"
   },
   {
    "duration": 64,
    "start_time": "2022-06-14T19:58:39.472Z"
   },
   {
    "duration": 82,
    "start_time": "2022-06-14T19:58:39.708Z"
   },
   {
    "duration": 147,
    "start_time": "2022-06-14T19:58:40.022Z"
   },
   {
    "duration": 68,
    "start_time": "2022-06-14T19:58:41.731Z"
   },
   {
    "duration": 70,
    "start_time": "2022-06-14T19:58:46.810Z"
   },
   {
    "duration": 64,
    "start_time": "2022-06-14T19:58:48.751Z"
   },
   {
    "duration": 24,
    "start_time": "2022-06-14T19:58:50.201Z"
   },
   {
    "duration": 35,
    "start_time": "2022-06-14T19:58:50.425Z"
   },
   {
    "duration": 26,
    "start_time": "2022-06-14T19:58:50.672Z"
   },
   {
    "duration": 24,
    "start_time": "2022-06-14T19:58:52.126Z"
   },
   {
    "duration": 27,
    "start_time": "2022-06-14T19:58:52.397Z"
   },
   {
    "duration": 24,
    "start_time": "2022-06-14T19:58:52.628Z"
   },
   {
    "duration": 24,
    "start_time": "2022-06-14T19:58:53.953Z"
   },
   {
    "duration": 32,
    "start_time": "2022-06-14T19:58:55.592Z"
   },
   {
    "duration": 103,
    "start_time": "2022-06-14T19:58:57.036Z"
   },
   {
    "duration": 36,
    "start_time": "2022-06-14T19:58:58.572Z"
   },
   {
    "duration": 11,
    "start_time": "2022-06-14T19:58:59.129Z"
   },
   {
    "duration": 22,
    "start_time": "2022-06-14T19:58:59.368Z"
   },
   {
    "duration": 94,
    "start_time": "2022-06-14T19:58:59.612Z"
   },
   {
    "duration": 66,
    "start_time": "2022-06-14T19:59:01.326Z"
   },
   {
    "duration": 64,
    "start_time": "2022-06-14T19:59:03.413Z"
   },
   {
    "duration": 42,
    "start_time": "2022-06-14T19:59:06.422Z"
   },
   {
    "duration": 23,
    "start_time": "2022-06-14T19:59:07.200Z"
   },
   {
    "duration": 1072,
    "start_time": "2022-06-14T20:28:21.135Z"
   },
   {
    "duration": 1359,
    "start_time": "2022-06-14T20:28:22.771Z"
   },
   {
    "duration": 3,
    "start_time": "2022-06-14T20:28:24.132Z"
   },
   {
    "duration": 34,
    "start_time": "2022-06-14T20:28:24.136Z"
   },
   {
    "duration": 10,
    "start_time": "2022-06-14T20:28:24.172Z"
   },
   {
    "duration": 640,
    "start_time": "2022-06-14T20:28:24.184Z"
   },
   {
    "duration": 110,
    "start_time": "2022-06-14T20:28:24.826Z"
   },
   {
    "duration": 257,
    "start_time": "2022-06-14T20:28:25.301Z"
   },
   {
    "duration": 62,
    "start_time": "2022-06-14T20:28:25.587Z"
   },
   {
    "duration": 13,
    "start_time": "2022-06-14T20:28:26.131Z"
   },
   {
    "duration": 72,
    "start_time": "2022-06-14T20:28:26.552Z"
   },
   {
    "duration": 311,
    "start_time": "2022-06-14T20:28:26.839Z"
   },
   {
    "duration": 4,
    "start_time": "2022-06-14T20:28:27.481Z"
   },
   {
    "duration": 5,
    "start_time": "2022-06-14T20:28:28.102Z"
   },
   {
    "duration": 4,
    "start_time": "2022-06-14T20:28:28.646Z"
   },
   {
    "duration": 3,
    "start_time": "2022-06-14T20:28:29.050Z"
   },
   {
    "duration": 305,
    "start_time": "2022-06-14T20:28:29.251Z"
   },
   {
    "duration": 39,
    "start_time": "2022-06-14T20:28:29.691Z"
   },
   {
    "duration": 82,
    "start_time": "2022-06-14T20:28:30.304Z"
   },
   {
    "duration": 7,
    "start_time": "2022-06-14T20:28:30.542Z"
   },
   {
    "duration": 8,
    "start_time": "2022-06-14T20:28:30.779Z"
   },
   {
    "duration": 9729,
    "start_time": "2022-06-14T20:28:31.218Z"
   },
   {
    "duration": 173,
    "start_time": "2022-06-14T20:28:40.948Z"
   },
   {
    "duration": 689,
    "start_time": "2022-06-14T20:28:41.123Z"
   },
   {
    "duration": 152,
    "start_time": "2022-06-14T20:28:41.814Z"
   },
   {
    "duration": 135,
    "start_time": "2022-06-14T20:28:41.968Z"
   },
   {
    "duration": 392,
    "start_time": "2022-06-14T20:28:42.105Z"
   },
   {
    "duration": 191,
    "start_time": "2022-06-14T20:28:42.499Z"
   },
   {
    "duration": 155,
    "start_time": "2022-06-14T20:28:42.692Z"
   },
   {
    "duration": 131,
    "start_time": "2022-06-14T20:28:42.849Z"
   },
   {
    "duration": 5,
    "start_time": "2022-06-14T20:28:42.983Z"
   },
   {
    "duration": 48,
    "start_time": "2022-06-14T20:28:42.989Z"
   },
   {
    "duration": 17,
    "start_time": "2022-06-14T20:28:43.038Z"
   },
   {
    "duration": 37,
    "start_time": "2022-06-14T20:28:43.056Z"
   },
   {
    "duration": 19,
    "start_time": "2022-06-14T20:28:43.094Z"
   },
   {
    "duration": 18,
    "start_time": "2022-06-14T20:28:43.114Z"
   },
   {
    "duration": 18,
    "start_time": "2022-06-14T20:28:43.134Z"
   },
   {
    "duration": 126,
    "start_time": "2022-06-14T20:28:43.153Z"
   },
   {
    "duration": 10,
    "start_time": "2022-06-14T20:28:43.280Z"
   },
   {
    "duration": 376,
    "start_time": "2022-06-14T20:28:43.291Z"
   },
   {
    "duration": 9,
    "start_time": "2022-06-14T20:28:43.669Z"
   },
   {
    "duration": 23,
    "start_time": "2022-06-14T20:28:43.680Z"
   },
   {
    "duration": 18,
    "start_time": "2022-06-14T20:28:43.705Z"
   },
   {
    "duration": 97,
    "start_time": "2022-06-14T20:28:43.724Z"
   },
   {
    "duration": 34,
    "start_time": "2022-06-14T20:28:43.822Z"
   },
   {
    "duration": 14,
    "start_time": "2022-06-14T20:28:43.878Z"
   },
   {
    "duration": 30,
    "start_time": "2022-06-14T20:28:43.894Z"
   },
   {
    "duration": 13,
    "start_time": "2022-06-14T20:28:43.925Z"
   },
   {
    "duration": 19,
    "start_time": "2022-06-14T20:28:43.941Z"
   },
   {
    "duration": 19,
    "start_time": "2022-06-14T20:28:46.567Z"
   },
   {
    "duration": 74,
    "start_time": "2022-06-14T20:28:47.005Z"
   },
   {
    "duration": 67,
    "start_time": "2022-06-14T20:28:47.531Z"
   },
   {
    "duration": 79,
    "start_time": "2022-06-14T20:28:47.742Z"
   },
   {
    "duration": 184,
    "start_time": "2022-06-14T20:28:48.496Z"
   },
   {
    "duration": 7,
    "start_time": "2022-06-14T20:28:48.962Z"
   },
   {
    "duration": 55,
    "start_time": "2022-06-14T20:28:49.173Z"
   },
   {
    "duration": 68,
    "start_time": "2022-06-14T20:28:49.614Z"
   },
   {
    "duration": 147,
    "start_time": "2022-06-14T20:28:50.416Z"
   },
   {
    "duration": 64,
    "start_time": "2022-06-14T20:28:51.024Z"
   },
   {
    "duration": 73,
    "start_time": "2022-06-14T20:28:51.275Z"
   },
   {
    "duration": 67,
    "start_time": "2022-06-14T20:28:51.925Z"
   },
   {
    "duration": 25,
    "start_time": "2022-06-14T20:28:52.343Z"
   },
   {
    "duration": 34,
    "start_time": "2022-06-14T20:28:52.593Z"
   },
   {
    "duration": 25,
    "start_time": "2022-06-14T20:28:52.927Z"
   },
   {
    "duration": 26,
    "start_time": "2022-06-14T20:28:53.369Z"
   },
   {
    "duration": 21,
    "start_time": "2022-06-14T20:28:53.873Z"
   },
   {
    "duration": 19,
    "start_time": "2022-06-14T20:28:54.221Z"
   },
   {
    "duration": 28,
    "start_time": "2022-06-14T20:28:55.191Z"
   },
   {
    "duration": 29,
    "start_time": "2022-06-14T20:28:55.799Z"
   },
   {
    "duration": 72,
    "start_time": "2022-06-14T20:28:56.342Z"
   },
   {
    "duration": 35,
    "start_time": "2022-06-14T20:28:56.875Z"
   },
   {
    "duration": 10,
    "start_time": "2022-06-14T20:28:58.393Z"
   },
   {
    "duration": 21,
    "start_time": "2022-06-14T20:28:58.700Z"
   },
   {
    "duration": 89,
    "start_time": "2022-06-14T20:28:59.021Z"
   },
   {
    "duration": 53,
    "start_time": "2022-06-14T20:29:02.247Z"
   },
   {
    "duration": 59,
    "start_time": "2022-06-14T20:29:02.598Z"
   },
   {
    "duration": 19,
    "start_time": "2022-06-14T20:29:04.299Z"
   },
   {
    "duration": 88,
    "start_time": "2022-06-14T20:29:09.740Z"
   },
   {
    "duration": 77,
    "start_time": "2022-06-14T20:29:10.450Z"
   },
   {
    "duration": 16,
    "start_time": "2022-06-14T20:29:12.569Z"
   },
   {
    "duration": 19,
    "start_time": "2022-06-14T20:29:15.078Z"
   },
   {
    "duration": 28,
    "start_time": "2022-06-14T20:29:17.158Z"
   },
   {
    "duration": 26,
    "start_time": "2022-06-14T20:29:23.197Z"
   },
   {
    "duration": 17,
    "start_time": "2022-06-14T20:29:23.983Z"
   },
   {
    "duration": 51,
    "start_time": "2022-06-14T20:29:24.665Z"
   },
   {
    "duration": 8,
    "start_time": "2022-06-14T20:29:32.089Z"
   },
   {
    "duration": 30,
    "start_time": "2022-06-14T20:29:32.755Z"
   },
   {
    "duration": 1471,
    "start_time": "2022-06-15T15:39:58.717Z"
   },
   {
    "duration": 1302,
    "start_time": "2022-06-15T15:40:00.190Z"
   },
   {
    "duration": 3,
    "start_time": "2022-06-15T15:40:01.494Z"
   },
   {
    "duration": 49,
    "start_time": "2022-06-15T15:40:01.500Z"
   },
   {
    "duration": 11,
    "start_time": "2022-06-15T15:40:01.551Z"
   },
   {
    "duration": 819,
    "start_time": "2022-06-15T15:40:01.564Z"
   },
   {
    "duration": 150,
    "start_time": "2022-06-15T15:40:02.385Z"
   },
   {
    "duration": 330,
    "start_time": "2022-06-15T15:40:02.536Z"
   },
   {
    "duration": 103,
    "start_time": "2022-06-15T15:40:02.868Z"
   },
   {
    "duration": 15,
    "start_time": "2022-06-15T15:40:02.975Z"
   },
   {
    "duration": 113,
    "start_time": "2022-06-15T15:40:02.991Z"
   },
   {
    "duration": 400,
    "start_time": "2022-06-15T15:40:03.106Z"
   },
   {
    "duration": 4,
    "start_time": "2022-06-15T15:40:03.508Z"
   },
   {
    "duration": 12,
    "start_time": "2022-06-15T15:40:03.513Z"
   },
   {
    "duration": 6,
    "start_time": "2022-06-15T15:40:03.527Z"
   },
   {
    "duration": 7,
    "start_time": "2022-06-15T15:40:03.535Z"
   },
   {
    "duration": 383,
    "start_time": "2022-06-15T15:40:03.559Z"
   },
   {
    "duration": 55,
    "start_time": "2022-06-15T15:40:03.944Z"
   },
   {
    "duration": 164,
    "start_time": "2022-06-15T15:40:04.000Z"
   },
   {
    "duration": 6,
    "start_time": "2022-06-15T15:40:04.166Z"
   },
   {
    "duration": 21,
    "start_time": "2022-06-15T15:40:04.174Z"
   },
   {
    "duration": 11488,
    "start_time": "2022-06-15T15:40:04.197Z"
   },
   {
    "duration": 284,
    "start_time": "2022-06-15T15:40:15.686Z"
   },
   {
    "duration": 800,
    "start_time": "2022-06-15T15:40:15.972Z"
   },
   {
    "duration": 314,
    "start_time": "2022-06-15T15:40:16.774Z"
   },
   {
    "duration": 192,
    "start_time": "2022-06-15T15:40:17.090Z"
   },
   {
    "duration": 524,
    "start_time": "2022-06-15T15:40:17.284Z"
   },
   {
    "duration": 236,
    "start_time": "2022-06-15T15:40:17.812Z"
   },
   {
    "duration": 189,
    "start_time": "2022-06-15T15:40:18.049Z"
   },
   {
    "duration": 146,
    "start_time": "2022-06-15T15:40:18.239Z"
   },
   {
    "duration": 7,
    "start_time": "2022-06-15T15:40:18.387Z"
   },
   {
    "duration": 73,
    "start_time": "2022-06-15T15:40:18.395Z"
   },
   {
    "duration": 20,
    "start_time": "2022-06-15T15:40:18.470Z"
   },
   {
    "duration": 23,
    "start_time": "2022-06-15T15:40:18.492Z"
   },
   {
    "duration": 44,
    "start_time": "2022-06-15T15:40:18.517Z"
   },
   {
    "duration": 25,
    "start_time": "2022-06-15T15:40:18.562Z"
   },
   {
    "duration": 21,
    "start_time": "2022-06-15T15:40:18.589Z"
   },
   {
    "duration": 164,
    "start_time": "2022-06-15T15:40:18.612Z"
   },
   {
    "duration": 13,
    "start_time": "2022-06-15T15:40:18.778Z"
   },
   {
    "duration": 443,
    "start_time": "2022-06-15T15:40:18.793Z"
   },
   {
    "duration": 21,
    "start_time": "2022-06-15T15:40:19.238Z"
   },
   {
    "duration": 18,
    "start_time": "2022-06-15T15:40:19.261Z"
   },
   {
    "duration": 22,
    "start_time": "2022-06-15T15:40:19.280Z"
   },
   {
    "duration": 53,
    "start_time": "2022-06-15T15:40:19.358Z"
   },
   {
    "duration": 58,
    "start_time": "2022-06-15T15:40:19.413Z"
   },
   {
    "duration": 16,
    "start_time": "2022-06-15T15:40:19.473Z"
   },
   {
    "duration": 34,
    "start_time": "2022-06-15T15:40:19.491Z"
   },
   {
    "duration": 38,
    "start_time": "2022-06-15T15:40:19.527Z"
   },
   {
    "duration": 17,
    "start_time": "2022-06-15T15:40:19.567Z"
   },
   {
    "duration": 23,
    "start_time": "2022-06-15T15:40:19.586Z"
   },
   {
    "duration": 94,
    "start_time": "2022-06-15T15:40:19.610Z"
   },
   {
    "duration": 78,
    "start_time": "2022-06-15T15:40:19.706Z"
   },
   {
    "duration": 97,
    "start_time": "2022-06-15T15:40:19.786Z"
   },
   {
    "duration": 224,
    "start_time": "2022-06-15T15:40:19.884Z"
   },
   {
    "duration": 8,
    "start_time": "2022-06-15T15:40:20.110Z"
   },
   {
    "duration": 87,
    "start_time": "2022-06-15T15:40:20.120Z"
   },
   {
    "duration": 82,
    "start_time": "2022-06-15T15:40:20.208Z"
   },
   {
    "duration": 184,
    "start_time": "2022-06-15T15:40:20.292Z"
   },
   {
    "duration": 92,
    "start_time": "2022-06-15T15:40:20.478Z"
   },
   {
    "duration": 103,
    "start_time": "2022-06-15T15:40:20.571Z"
   },
   {
    "duration": 84,
    "start_time": "2022-06-15T15:40:20.675Z"
   },
   {
    "duration": 28,
    "start_time": "2022-06-15T15:40:20.760Z"
   },
   {
    "duration": 45,
    "start_time": "2022-06-15T15:40:20.790Z"
   },
   {
    "duration": 48,
    "start_time": "2022-06-15T15:40:20.838Z"
   },
   {
    "duration": 26,
    "start_time": "2022-06-15T15:40:20.888Z"
   },
   {
    "duration": 25,
    "start_time": "2022-06-15T15:40:20.916Z"
   },
   {
    "duration": 24,
    "start_time": "2022-06-15T15:40:20.958Z"
   },
   {
    "duration": 25,
    "start_time": "2022-06-15T15:40:20.983Z"
   },
   {
    "duration": 56,
    "start_time": "2022-06-15T15:40:21.010Z"
   },
   {
    "duration": 74,
    "start_time": "2022-06-15T15:40:21.067Z"
   },
   {
    "duration": 49,
    "start_time": "2022-06-15T15:40:21.142Z"
   },
   {
    "duration": 11,
    "start_time": "2022-06-15T15:40:21.193Z"
   },
   {
    "duration": 22,
    "start_time": "2022-06-15T15:40:21.206Z"
   },
   {
    "duration": 135,
    "start_time": "2022-06-15T15:40:21.229Z"
   },
   {
    "duration": 58,
    "start_time": "2022-06-15T15:40:21.366Z"
   },
   {
    "duration": 88,
    "start_time": "2022-06-15T15:40:21.426Z"
   },
   {
    "duration": 25,
    "start_time": "2022-06-15T15:40:21.516Z"
   },
   {
    "duration": 100,
    "start_time": "2022-06-15T15:40:21.542Z"
   },
   {
    "duration": 91,
    "start_time": "2022-06-15T15:40:21.644Z"
   },
   {
    "duration": 18,
    "start_time": "2022-06-15T15:40:21.737Z"
   },
   {
    "duration": 24,
    "start_time": "2022-06-15T15:40:21.757Z"
   },
   {
    "duration": 38,
    "start_time": "2022-06-15T15:40:21.790Z"
   },
   {
    "duration": 56,
    "start_time": "2022-06-15T15:40:21.830Z"
   },
   {
    "duration": 37,
    "start_time": "2022-06-15T15:40:21.889Z"
   },
   {
    "duration": 65,
    "start_time": "2022-06-15T15:40:21.928Z"
   },
   {
    "duration": 12,
    "start_time": "2022-06-15T15:40:21.995Z"
   },
   {
    "duration": 58,
    "start_time": "2022-06-15T15:40:22.009Z"
   },
   {
    "duration": 1558,
    "start_time": "2022-06-16T06:30:19.820Z"
   },
   {
    "duration": 1049,
    "start_time": "2022-06-16T06:30:21.380Z"
   },
   {
    "duration": 3,
    "start_time": "2022-06-16T06:30:22.430Z"
   },
   {
    "duration": 41,
    "start_time": "2022-06-16T06:30:22.435Z"
   },
   {
    "duration": 10,
    "start_time": "2022-06-16T06:30:22.477Z"
   },
   {
    "duration": 751,
    "start_time": "2022-06-16T06:30:22.488Z"
   },
   {
    "duration": 123,
    "start_time": "2022-06-16T06:30:23.241Z"
   },
   {
    "duration": 314,
    "start_time": "2022-06-16T06:30:25.226Z"
   },
   {
    "duration": 85,
    "start_time": "2022-06-16T06:30:25.690Z"
   },
   {
    "duration": 14,
    "start_time": "2022-06-16T06:30:27.220Z"
   },
   {
    "duration": 83,
    "start_time": "2022-06-16T06:30:28.327Z"
   },
   {
    "duration": 361,
    "start_time": "2022-06-16T06:30:28.792Z"
   },
   {
    "duration": 5,
    "start_time": "2022-06-16T06:30:56.520Z"
   },
   {
    "duration": 5,
    "start_time": "2022-06-16T06:30:57.490Z"
   },
   {
    "duration": 5,
    "start_time": "2022-06-16T06:30:58.501Z"
   },
   {
    "duration": 3,
    "start_time": "2022-06-16T06:31:15.493Z"
   },
   {
    "duration": 362,
    "start_time": "2022-06-16T06:31:16.359Z"
   },
   {
    "duration": 42,
    "start_time": "2022-06-16T06:31:17.675Z"
   },
   {
    "duration": 82,
    "start_time": "2022-06-16T06:31:19.248Z"
   },
   {
    "duration": 7,
    "start_time": "2022-06-16T06:31:26.758Z"
   },
   {
    "duration": 32,
    "start_time": "2022-06-16T06:31:26.766Z"
   },
   {
    "duration": 10756,
    "start_time": "2022-06-16T06:31:28.211Z"
   },
   {
    "duration": 126,
    "start_time": "2022-06-16T06:31:39.567Z"
   },
   {
    "duration": 399,
    "start_time": "2022-06-16T06:31:40.027Z"
   },
   {
    "duration": 140,
    "start_time": "2022-06-16T06:31:40.489Z"
   },
   {
    "duration": 203,
    "start_time": "2022-06-16T06:31:44.359Z"
   },
   {
    "duration": 465,
    "start_time": "2022-06-16T06:31:46.408Z"
   },
   {
    "duration": 178,
    "start_time": "2022-06-16T06:31:55.095Z"
   },
   {
    "duration": 184,
    "start_time": "2022-06-16T06:31:56.088Z"
   },
   {
    "duration": 140,
    "start_time": "2022-06-16T06:31:56.942Z"
   },
   {
    "duration": 9,
    "start_time": "2022-06-16T06:32:36.319Z"
   },
   {
    "duration": 70,
    "start_time": "2022-06-16T06:32:37.281Z"
   },
   {
    "duration": 20,
    "start_time": "2022-06-16T06:33:22.565Z"
   },
   {
    "duration": 36,
    "start_time": "2022-06-16T06:33:25.307Z"
   },
   {
    "duration": 32,
    "start_time": "2022-06-16T06:33:25.346Z"
   },
   {
    "duration": 52,
    "start_time": "2022-06-16T06:33:25.379Z"
   },
   {
    "duration": 28,
    "start_time": "2022-06-16T06:33:25.505Z"
   },
   {
    "duration": 136,
    "start_time": "2022-06-16T06:33:27.882Z"
   },
   {
    "duration": 12,
    "start_time": "2022-06-16T06:33:29.748Z"
   },
   {
    "duration": 476,
    "start_time": "2022-06-16T06:33:31.210Z"
   },
   {
    "duration": 8,
    "start_time": "2022-06-16T06:34:10.343Z"
   },
   {
    "duration": 18,
    "start_time": "2022-06-16T06:34:10.902Z"
   },
   {
    "duration": 18,
    "start_time": "2022-06-16T06:34:12.562Z"
   },
   {
    "duration": 68,
    "start_time": "2022-06-16T06:35:35.245Z"
   },
   {
    "duration": 60,
    "start_time": "2022-06-16T06:36:06.546Z"
   },
   {
    "duration": 18,
    "start_time": "2022-06-16T06:36:07.027Z"
   },
   {
    "duration": 52,
    "start_time": "2022-06-16T06:36:07.586Z"
   },
   {
    "duration": 17,
    "start_time": "2022-06-16T06:40:00.901Z"
   },
   {
    "duration": 29,
    "start_time": "2022-06-16T06:40:04.291Z"
   },
   {
    "duration": 93,
    "start_time": "2022-06-16T06:40:04.751Z"
   },
   {
    "duration": 88,
    "start_time": "2022-06-16T06:40:05.097Z"
   },
   {
    "duration": 94,
    "start_time": "2022-06-16T06:40:05.514Z"
   },
   {
    "duration": 228,
    "start_time": "2022-06-16T06:40:06.491Z"
   },
   {
    "duration": 8,
    "start_time": "2022-06-16T06:40:06.869Z"
   },
   {
    "duration": 62,
    "start_time": "2022-06-16T06:40:07.214Z"
   },
   {
    "duration": 81,
    "start_time": "2022-06-16T06:40:07.761Z"
   },
   {
    "duration": 167,
    "start_time": "2022-06-16T06:40:08.941Z"
   },
   {
    "duration": 80,
    "start_time": "2022-06-16T06:40:09.960Z"
   },
   {
    "duration": 91,
    "start_time": "2022-06-16T06:40:10.440Z"
   },
   {
    "duration": 93,
    "start_time": "2022-06-16T06:40:20.475Z"
   },
   {
    "duration": 30,
    "start_time": "2022-06-16T06:40:32.973Z"
   },
   {
    "duration": 42,
    "start_time": "2022-06-16T06:40:33.395Z"
   },
   {
    "duration": 31,
    "start_time": "2022-06-16T06:40:33.892Z"
   },
   {
    "duration": 28,
    "start_time": "2022-06-16T06:41:51.821Z"
   },
   {
    "duration": 25,
    "start_time": "2022-06-16T06:41:52.370Z"
   },
   {
    "duration": 23,
    "start_time": "2022-06-16T06:41:53.025Z"
   },
   {
    "duration": 24,
    "start_time": "2022-06-16T06:44:18.828Z"
   },
   {
    "duration": 34,
    "start_time": "2022-06-16T06:44:20.756Z"
   },
   {
    "duration": 102,
    "start_time": "2022-06-16T06:44:21.778Z"
   },
   {
    "duration": 42,
    "start_time": "2022-06-16T06:44:22.718Z"
   },
   {
    "duration": 11,
    "start_time": "2022-06-16T06:44:29.142Z"
   },
   {
    "duration": 24,
    "start_time": "2022-06-16T06:44:29.620Z"
   },
   {
    "duration": 112,
    "start_time": "2022-06-16T06:44:30.158Z"
   },
   {
    "duration": 78,
    "start_time": "2022-06-16T06:44:31.267Z"
   },
   {
    "duration": 73,
    "start_time": "2022-06-16T06:44:32.868Z"
   },
   {
    "duration": 26,
    "start_time": "2022-06-16T06:45:05.882Z"
   },
   {
    "duration": 33,
    "start_time": "2022-06-16T06:46:28.805Z"
   },
   {
    "duration": 31,
    "start_time": "2022-06-16T06:47:44.987Z"
   },
   {
    "duration": 189,
    "start_time": "2022-06-16T06:47:47.265Z"
   },
   {
    "duration": 20,
    "start_time": "2022-06-16T06:48:03.621Z"
   },
   {
    "duration": 23,
    "start_time": "2022-06-16T06:48:08.565Z"
   },
   {
    "duration": 25,
    "start_time": "2022-06-16T06:48:34.808Z"
   },
   {
    "duration": 30,
    "start_time": "2022-06-16T06:49:18.991Z"
   },
   {
    "duration": 26,
    "start_time": "2022-06-16T06:49:30.998Z"
   },
   {
    "duration": 33,
    "start_time": "2022-06-16T06:50:54.883Z"
   },
   {
    "duration": 36,
    "start_time": "2022-06-16T06:51:01.624Z"
   },
   {
    "duration": 23,
    "start_time": "2022-06-16T06:51:43.759Z"
   },
   {
    "duration": 75,
    "start_time": "2022-06-16T06:52:01.318Z"
   },
   {
    "duration": 31,
    "start_time": "2022-06-16T06:54:55.743Z"
   },
   {
    "duration": 95,
    "start_time": "2022-06-16T06:54:56.775Z"
   },
   {
    "duration": 30,
    "start_time": "2022-06-16T06:55:03.580Z"
   },
   {
    "duration": 103,
    "start_time": "2022-06-16T06:59:57.368Z"
   },
   {
    "duration": 64,
    "start_time": "2022-06-16T07:01:06.063Z"
   },
   {
    "duration": 19,
    "start_time": "2022-06-16T07:04:01.726Z"
   },
   {
    "duration": 21,
    "start_time": "2022-06-16T07:05:19.460Z"
   },
   {
    "duration": 13,
    "start_time": "2022-06-16T07:14:53.029Z"
   },
   {
    "duration": 11,
    "start_time": "2022-06-16T07:17:51.730Z"
   },
   {
    "duration": 5,
    "start_time": "2022-06-16T07:26:35.538Z"
   },
   {
    "duration": 67,
    "start_time": "2022-06-16T07:26:59.413Z"
   },
   {
    "duration": 1280,
    "start_time": "2022-06-16T07:27:57.216Z"
   },
   {
    "duration": 1733,
    "start_time": "2022-06-16T07:27:59.108Z"
   },
   {
    "duration": 3,
    "start_time": "2022-06-16T07:28:00.843Z"
   },
   {
    "duration": 113,
    "start_time": "2022-06-16T07:28:00.848Z"
   },
   {
    "duration": 87,
    "start_time": "2022-06-16T07:28:00.963Z"
   },
   {
    "duration": 1029,
    "start_time": "2022-06-16T07:28:01.051Z"
   },
   {
    "duration": 191,
    "start_time": "2022-06-16T07:28:02.082Z"
   },
   {
    "duration": 385,
    "start_time": "2022-06-16T07:28:02.275Z"
   },
   {
    "duration": 100,
    "start_time": "2022-06-16T07:28:02.662Z"
   },
   {
    "duration": 15,
    "start_time": "2022-06-16T07:28:02.764Z"
   },
   {
    "duration": 82,
    "start_time": "2022-06-16T07:28:03.104Z"
   },
   {
    "duration": 389,
    "start_time": "2022-06-16T07:28:03.335Z"
   },
   {
    "duration": 7,
    "start_time": "2022-06-16T07:28:04.514Z"
   },
   {
    "duration": 7,
    "start_time": "2022-06-16T07:28:05.097Z"
   },
   {
    "duration": 5,
    "start_time": "2022-06-16T07:28:05.757Z"
   },
   {
    "duration": 3,
    "start_time": "2022-06-16T07:28:06.707Z"
   },
   {
    "duration": 391,
    "start_time": "2022-06-16T07:28:07.018Z"
   },
   {
    "duration": 60,
    "start_time": "2022-06-16T07:28:07.808Z"
   },
   {
    "duration": 107,
    "start_time": "2022-06-16T07:28:08.840Z"
   },
   {
    "duration": 8,
    "start_time": "2022-06-16T07:28:09.995Z"
   },
   {
    "duration": 7,
    "start_time": "2022-06-16T07:28:10.194Z"
   },
   {
    "duration": 11477,
    "start_time": "2022-06-16T07:28:11.114Z"
   },
   {
    "duration": 337,
    "start_time": "2022-06-16T07:28:22.594Z"
   },
   {
    "duration": 808,
    "start_time": "2022-06-16T07:28:22.932Z"
   },
   {
    "duration": 267,
    "start_time": "2022-06-16T07:28:23.742Z"
   },
   {
    "duration": 208,
    "start_time": "2022-06-16T07:28:24.011Z"
   },
   {
    "duration": 606,
    "start_time": "2022-06-16T07:28:24.225Z"
   },
   {
    "duration": 255,
    "start_time": "2022-06-16T07:28:24.833Z"
   },
   {
    "duration": 206,
    "start_time": "2022-06-16T07:28:25.090Z"
   },
   {
    "duration": 141,
    "start_time": "2022-06-16T07:28:25.298Z"
   },
   {
    "duration": 8,
    "start_time": "2022-06-16T07:28:25.442Z"
   },
   {
    "duration": 60,
    "start_time": "2022-06-16T07:28:25.452Z"
   },
   {
    "duration": 28,
    "start_time": "2022-06-16T07:28:25.527Z"
   },
   {
    "duration": 25,
    "start_time": "2022-06-16T07:28:25.556Z"
   },
   {
    "duration": 57,
    "start_time": "2022-06-16T07:28:25.584Z"
   },
   {
    "duration": 39,
    "start_time": "2022-06-16T07:28:35.569Z"
   },
   {
    "duration": 29,
    "start_time": "2022-06-16T07:28:36.306Z"
   },
   {
    "duration": 160,
    "start_time": "2022-06-16T07:28:37.989Z"
   },
   {
    "duration": 13,
    "start_time": "2022-06-16T07:28:39.311Z"
   },
   {
    "duration": 450,
    "start_time": "2022-06-16T07:28:41.942Z"
   },
   {
    "duration": 8,
    "start_time": "2022-06-16T07:28:47.671Z"
   },
   {
    "duration": 18,
    "start_time": "2022-06-16T07:28:48.604Z"
   },
   {
    "duration": 24,
    "start_time": "2022-06-16T07:28:54.368Z"
   },
   {
    "duration": 79,
    "start_time": "2022-06-16T07:28:55.754Z"
   },
   {
    "duration": 42,
    "start_time": "2022-06-16T07:29:13.898Z"
   },
   {
    "duration": 23,
    "start_time": "2022-06-16T07:29:14.422Z"
   },
   {
    "duration": 34,
    "start_time": "2022-06-16T07:29:14.826Z"
   },
   {
    "duration": 18,
    "start_time": "2022-06-16T07:29:16.144Z"
   },
   {
    "duration": 25,
    "start_time": "2022-06-16T07:29:21.689Z"
   },
   {
    "duration": 29,
    "start_time": "2022-06-16T07:41:45.693Z"
   },
   {
    "duration": 27,
    "start_time": "2022-06-16T07:53:29.861Z"
   },
   {
    "duration": 157,
    "start_time": "2022-06-16T07:59:39.716Z"
   },
   {
    "duration": 214,
    "start_time": "2022-06-16T07:59:43.502Z"
   },
   {
    "duration": 19,
    "start_time": "2022-06-16T07:59:45.227Z"
   },
   {
    "duration": 10,
    "start_time": "2022-06-16T08:00:57.872Z"
   },
   {
    "duration": 24,
    "start_time": "2022-06-16T08:01:08.190Z"
   },
   {
    "duration": 90,
    "start_time": "2022-06-16T08:01:08.991Z"
   },
   {
    "duration": 78,
    "start_time": "2022-06-16T08:01:09.227Z"
   },
   {
    "duration": 90,
    "start_time": "2022-06-16T08:01:09.462Z"
   },
   {
    "duration": 238,
    "start_time": "2022-06-16T08:01:09.902Z"
   },
   {
    "duration": 14,
    "start_time": "2022-06-16T08:01:10.142Z"
   },
   {
    "duration": 75,
    "start_time": "2022-06-16T08:01:10.313Z"
   },
   {
    "duration": 82,
    "start_time": "2022-06-16T08:01:10.546Z"
   },
   {
    "duration": 206,
    "start_time": "2022-06-16T08:01:11.810Z"
   },
   {
    "duration": 77,
    "start_time": "2022-06-16T08:01:12.587Z"
   },
   {
    "duration": 81,
    "start_time": "2022-06-16T08:01:13.040Z"
   },
   {
    "duration": 73,
    "start_time": "2022-06-16T08:01:13.826Z"
   },
   {
    "duration": 33,
    "start_time": "2022-06-16T08:01:14.950Z"
   },
   {
    "duration": 46,
    "start_time": "2022-06-16T08:01:15.626Z"
   },
   {
    "duration": 35,
    "start_time": "2022-06-16T08:01:15.993Z"
   },
   {
    "duration": 27,
    "start_time": "2022-06-16T08:01:18.032Z"
   },
   {
    "duration": 20,
    "start_time": "2022-06-16T08:01:24.115Z"
   },
   {
    "duration": 23,
    "start_time": "2022-06-16T08:03:04.589Z"
   },
   {
    "duration": 20,
    "start_time": "2022-06-16T08:03:38.130Z"
   },
   {
    "duration": 14,
    "start_time": "2022-06-16T08:04:52.429Z"
   },
   {
    "duration": 33,
    "start_time": "2022-06-16T08:06:32.092Z"
   },
   {
    "duration": 37,
    "start_time": "2022-06-16T08:06:33.026Z"
   },
   {
    "duration": 11,
    "start_time": "2022-06-16T08:15:27.849Z"
   },
   {
    "duration": 10,
    "start_time": "2022-06-16T08:18:07.069Z"
   },
   {
    "duration": 16,
    "start_time": "2022-06-16T08:18:22.144Z"
   },
   {
    "duration": 20,
    "start_time": "2022-06-16T08:18:29.384Z"
   },
   {
    "duration": 18,
    "start_time": "2022-06-16T08:20:25.083Z"
   },
   {
    "duration": 18,
    "start_time": "2022-06-16T08:20:39.435Z"
   },
   {
    "duration": 26,
    "start_time": "2022-06-16T08:21:03.602Z"
   },
   {
    "duration": 17,
    "start_time": "2022-06-16T08:21:15.152Z"
   },
   {
    "duration": 15,
    "start_time": "2022-06-16T08:21:58.456Z"
   },
   {
    "duration": 23,
    "start_time": "2022-06-16T08:22:45.695Z"
   },
   {
    "duration": 33,
    "start_time": "2022-06-16T08:34:08.348Z"
   },
   {
    "duration": 21,
    "start_time": "2022-06-16T08:34:15.540Z"
   },
   {
    "duration": 40,
    "start_time": "2022-06-16T08:34:18.748Z"
   },
   {
    "duration": 112,
    "start_time": "2022-06-16T08:36:13.788Z"
   },
   {
    "duration": 86,
    "start_time": "2022-06-16T08:36:28.698Z"
   },
   {
    "duration": 25,
    "start_time": "2022-06-16T08:39:26.169Z"
   },
   {
    "duration": 29,
    "start_time": "2022-06-16T08:43:21.624Z"
   },
   {
    "duration": 1315,
    "start_time": "2022-06-16T08:44:21.033Z"
   },
   {
    "duration": 1439,
    "start_time": "2022-06-16T08:44:22.848Z"
   },
   {
    "duration": 4,
    "start_time": "2022-06-16T08:44:24.289Z"
   },
   {
    "duration": 82,
    "start_time": "2022-06-16T08:44:24.295Z"
   },
   {
    "duration": 18,
    "start_time": "2022-06-16T08:44:24.380Z"
   },
   {
    "duration": 856,
    "start_time": "2022-06-16T08:44:24.400Z"
   },
   {
    "duration": 143,
    "start_time": "2022-06-16T08:44:25.258Z"
   },
   {
    "duration": 315,
    "start_time": "2022-06-16T08:44:26.172Z"
   },
   {
    "duration": 107,
    "start_time": "2022-06-16T08:44:26.490Z"
   },
   {
    "duration": 17,
    "start_time": "2022-06-16T08:44:27.539Z"
   },
   {
    "duration": 82,
    "start_time": "2022-06-16T08:44:28.488Z"
   },
   {
    "duration": 351,
    "start_time": "2022-06-16T08:44:28.894Z"
   },
   {
    "duration": 4,
    "start_time": "2022-06-16T08:44:32.711Z"
   },
   {
    "duration": 6,
    "start_time": "2022-06-16T08:44:33.727Z"
   },
   {
    "duration": 6,
    "start_time": "2022-06-16T08:44:34.520Z"
   },
   {
    "duration": 4,
    "start_time": "2022-06-16T08:44:36.122Z"
   },
   {
    "duration": 322,
    "start_time": "2022-06-16T08:44:39.615Z"
   },
   {
    "duration": 44,
    "start_time": "2022-06-16T08:44:41.369Z"
   },
   {
    "duration": 128,
    "start_time": "2022-06-16T08:45:04.523Z"
   },
   {
    "duration": 9,
    "start_time": "2022-06-16T08:45:05.424Z"
   },
   {
    "duration": 6,
    "start_time": "2022-06-16T08:45:06.225Z"
   },
   {
    "duration": 11708,
    "start_time": "2022-06-16T08:45:08.703Z"
   },
   {
    "duration": 322,
    "start_time": "2022-06-16T08:45:20.414Z"
   },
   {
    "duration": 401,
    "start_time": "2022-06-16T08:45:29.503Z"
   },
   {
    "duration": 192,
    "start_time": "2022-06-16T08:45:29.907Z"
   },
   {
    "duration": 216,
    "start_time": "2022-06-16T08:45:30.912Z"
   },
   {
    "duration": 686,
    "start_time": "2022-06-16T08:45:33.664Z"
   },
   {
    "duration": 250,
    "start_time": "2022-06-16T08:45:35.522Z"
   },
   {
    "duration": 196,
    "start_time": "2022-06-16T08:45:38.640Z"
   },
   {
    "duration": 149,
    "start_time": "2022-06-16T08:45:38.838Z"
   },
   {
    "duration": 8,
    "start_time": "2022-06-16T08:45:39.214Z"
   },
   {
    "duration": 70,
    "start_time": "2022-06-16T08:45:40.247Z"
   },
   {
    "duration": 29,
    "start_time": "2022-06-16T08:45:41.952Z"
   },
   {
    "duration": 25,
    "start_time": "2022-06-16T08:45:47.944Z"
   },
   {
    "duration": 33,
    "start_time": "2022-06-16T08:45:48.631Z"
   },
   {
    "duration": 39,
    "start_time": "2022-06-16T08:45:51.431Z"
   },
   {
    "duration": 25,
    "start_time": "2022-06-16T08:45:52.298Z"
   },
   {
    "duration": 154,
    "start_time": "2022-06-16T08:45:57.509Z"
   },
   {
    "duration": 17,
    "start_time": "2022-06-16T08:46:02.998Z"
   },
   {
    "duration": 12,
    "start_time": "2022-06-16T08:46:58.472Z"
   },
   {
    "duration": 17,
    "start_time": "2022-06-16T08:46:59.885Z"
   },
   {
    "duration": 427,
    "start_time": "2022-06-16T08:47:00.778Z"
   },
   {
    "duration": 12,
    "start_time": "2022-06-16T08:47:05.138Z"
   },
   {
    "duration": 18,
    "start_time": "2022-06-16T08:47:05.539Z"
   },
   {
    "duration": 16,
    "start_time": "2022-06-16T08:47:06.486Z"
   },
   {
    "duration": 59,
    "start_time": "2022-06-16T08:47:07.982Z"
   },
   {
    "duration": 40,
    "start_time": "2022-06-16T08:47:10.804Z"
   },
   {
    "duration": 18,
    "start_time": "2022-06-16T08:47:12.106Z"
   },
   {
    "duration": 34,
    "start_time": "2022-06-16T08:47:13.503Z"
   },
   {
    "duration": 18,
    "start_time": "2022-06-16T08:47:14.997Z"
   },
   {
    "duration": 17,
    "start_time": "2022-06-16T08:47:17.754Z"
   },
   {
    "duration": 89,
    "start_time": "2022-06-16T08:47:28.305Z"
   },
   {
    "duration": 34,
    "start_time": "2022-06-16T08:47:30.132Z"
   },
   {
    "duration": 21,
    "start_time": "2022-06-16T08:49:18.691Z"
   },
   {
    "duration": 79,
    "start_time": "2022-06-16T08:49:19.331Z"
   },
   {
    "duration": 80,
    "start_time": "2022-06-16T08:49:19.801Z"
   },
   {
    "duration": 102,
    "start_time": "2022-06-16T08:49:20.501Z"
   },
   {
    "duration": 254,
    "start_time": "2022-06-16T08:49:21.919Z"
   },
   {
    "duration": 8,
    "start_time": "2022-06-16T08:49:22.587Z"
   },
   {
    "duration": 70,
    "start_time": "2022-06-16T08:49:23.157Z"
   },
   {
    "duration": 83,
    "start_time": "2022-06-16T08:49:23.647Z"
   },
   {
    "duration": 172,
    "start_time": "2022-06-16T08:49:25.595Z"
   },
   {
    "duration": 86,
    "start_time": "2022-06-16T08:49:29.519Z"
   },
   {
    "duration": 97,
    "start_time": "2022-06-16T08:49:30.400Z"
   },
   {
    "duration": 108,
    "start_time": "2022-06-16T08:49:33.262Z"
   },
   {
    "duration": 38,
    "start_time": "2022-06-16T08:49:34.120Z"
   },
   {
    "duration": 57,
    "start_time": "2022-06-16T08:49:34.646Z"
   },
   {
    "duration": 29,
    "start_time": "2022-06-16T08:49:35.422Z"
   },
   {
    "duration": 29,
    "start_time": "2022-06-16T08:49:38.216Z"
   },
   {
    "duration": 27,
    "start_time": "2022-06-16T08:49:38.247Z"
   },
   {
    "duration": 96,
    "start_time": "2022-06-16T08:50:08.388Z"
   },
   {
    "duration": 25,
    "start_time": "2022-06-16T08:50:48.244Z"
   },
   {
    "duration": 29,
    "start_time": "2022-06-16T08:51:02.297Z"
   },
   {
    "duration": 43,
    "start_time": "2022-06-16T08:51:39.910Z"
   },
   {
    "duration": 42,
    "start_time": "2022-06-16T08:51:44.246Z"
   },
   {
    "duration": 82,
    "start_time": "2022-06-16T08:51:45.010Z"
   },
   {
    "duration": 44,
    "start_time": "2022-06-16T08:51:46.897Z"
   },
   {
    "duration": 12,
    "start_time": "2022-06-16T08:51:48.847Z"
   },
   {
    "duration": 26,
    "start_time": "2022-06-16T08:52:23.338Z"
   },
   {
    "duration": 99,
    "start_time": "2022-06-16T08:52:35.482Z"
   },
   {
    "duration": 168,
    "start_time": "2022-06-16T08:52:42.788Z"
   },
   {
    "duration": 59,
    "start_time": "2022-06-16T08:53:15.686Z"
   },
   {
    "duration": 87,
    "start_time": "2022-06-16T08:53:21.456Z"
   },
   {
    "duration": 22,
    "start_time": "2022-06-16T08:53:25.388Z"
   },
   {
    "duration": 20,
    "start_time": "2022-06-16T08:53:48.057Z"
   },
   {
    "duration": 19,
    "start_time": "2022-06-16T08:54:03.905Z"
   },
   {
    "duration": 23,
    "start_time": "2022-06-16T08:54:14.602Z"
   },
   {
    "duration": 22,
    "start_time": "2022-06-16T08:55:05.004Z"
   },
   {
    "duration": 20,
    "start_time": "2022-06-16T08:55:16.441Z"
   },
   {
    "duration": 30,
    "start_time": "2022-06-16T08:55:20.042Z"
   },
   {
    "duration": 40,
    "start_time": "2022-06-16T08:55:32.032Z"
   },
   {
    "duration": 31,
    "start_time": "2022-06-16T09:00:02.147Z"
   },
   {
    "duration": 37,
    "start_time": "2022-06-16T09:00:13.626Z"
   },
   {
    "duration": 35,
    "start_time": "2022-06-16T09:50:52.044Z"
   },
   {
    "duration": 21,
    "start_time": "2022-06-16T09:52:00.016Z"
   },
   {
    "duration": 24,
    "start_time": "2022-06-16T09:52:16.327Z"
   },
   {
    "duration": 23,
    "start_time": "2022-06-16T09:52:31.834Z"
   },
   {
    "duration": 36,
    "start_time": "2022-06-16T09:54:09.053Z"
   },
   {
    "duration": 30,
    "start_time": "2022-06-16T09:57:34.705Z"
   },
   {
    "duration": 29,
    "start_time": "2022-06-16T09:58:23.743Z"
   },
   {
    "duration": 29,
    "start_time": "2022-06-16T10:00:54.941Z"
   },
   {
    "duration": 40,
    "start_time": "2022-06-16T10:01:35.358Z"
   },
   {
    "duration": 1303,
    "start_time": "2022-06-16T10:03:08.220Z"
   },
   {
    "duration": 1057,
    "start_time": "2022-06-16T10:03:10.123Z"
   },
   {
    "duration": 3,
    "start_time": "2022-06-16T10:03:11.182Z"
   },
   {
    "duration": 49,
    "start_time": "2022-06-16T10:03:11.187Z"
   },
   {
    "duration": 15,
    "start_time": "2022-06-16T10:03:11.241Z"
   },
   {
    "duration": 817,
    "start_time": "2022-06-16T10:03:11.260Z"
   },
   {
    "duration": 173,
    "start_time": "2022-06-16T10:03:12.080Z"
   },
   {
    "duration": 335,
    "start_time": "2022-06-16T10:03:13.416Z"
   },
   {
    "duration": 91,
    "start_time": "2022-06-16T10:03:13.871Z"
   },
   {
    "duration": 17,
    "start_time": "2022-06-16T10:03:15.069Z"
   },
   {
    "duration": 101,
    "start_time": "2022-06-16T10:03:15.744Z"
   },
   {
    "duration": 406,
    "start_time": "2022-06-16T10:03:16.145Z"
   },
   {
    "duration": 5,
    "start_time": "2022-06-16T10:03:18.094Z"
   },
   {
    "duration": 6,
    "start_time": "2022-06-16T10:03:18.915Z"
   },
   {
    "duration": 5,
    "start_time": "2022-06-16T10:03:19.700Z"
   },
   {
    "duration": 3,
    "start_time": "2022-06-16T10:03:20.772Z"
   },
   {
    "duration": 376,
    "start_time": "2022-06-16T10:03:21.164Z"
   },
   {
    "duration": 54,
    "start_time": "2022-06-16T10:03:22.125Z"
   },
   {
    "duration": 93,
    "start_time": "2022-06-16T10:03:23.853Z"
   },
   {
    "duration": 9,
    "start_time": "2022-06-16T10:03:24.538Z"
   },
   {
    "duration": 8,
    "start_time": "2022-06-16T10:03:24.772Z"
   },
   {
    "duration": 13584,
    "start_time": "2022-06-16T10:03:26.058Z"
   },
   {
    "duration": 295,
    "start_time": "2022-06-16T10:03:39.645Z"
   },
   {
    "duration": 374,
    "start_time": "2022-06-16T10:04:00.480Z"
   },
   {
    "duration": 162,
    "start_time": "2022-06-16T10:04:01.283Z"
   },
   {
    "duration": 179,
    "start_time": "2022-06-16T10:04:02.883Z"
   },
   {
    "duration": 545,
    "start_time": "2022-06-16T10:04:04.113Z"
   },
   {
    "duration": 190,
    "start_time": "2022-06-16T10:04:05.716Z"
   },
   {
    "duration": 204,
    "start_time": "2022-06-16T10:04:06.183Z"
   },
   {
    "duration": 147,
    "start_time": "2022-06-16T10:04:06.972Z"
   },
   {
    "duration": 8,
    "start_time": "2022-06-16T10:04:08.791Z"
   },
   {
    "duration": 54,
    "start_time": "2022-06-16T10:04:10.066Z"
   },
   {
    "duration": 22,
    "start_time": "2022-06-16T10:04:11.945Z"
   },
   {
    "duration": 26,
    "start_time": "2022-06-16T10:04:18.188Z"
   },
   {
    "duration": 28,
    "start_time": "2022-06-16T10:04:19.236Z"
   },
   {
    "duration": 24,
    "start_time": "2022-06-16T10:04:21.085Z"
   },
   {
    "duration": 30,
    "start_time": "2022-06-16T10:04:21.924Z"
   },
   {
    "duration": 200,
    "start_time": "2022-06-16T10:04:24.421Z"
   },
   {
    "duration": 22,
    "start_time": "2022-06-16T10:04:26.958Z"
   },
   {
    "duration": 20,
    "start_time": "2022-06-16T10:04:31.493Z"
   },
   {
    "duration": 489,
    "start_time": "2022-06-16T10:04:32.284Z"
   },
   {
    "duration": 8,
    "start_time": "2022-06-16T10:06:11.662Z"
   },
   {
    "duration": 19,
    "start_time": "2022-06-16T10:06:11.981Z"
   },
   {
    "duration": 24,
    "start_time": "2022-06-16T10:06:12.657Z"
   },
   {
    "duration": 72,
    "start_time": "2022-06-16T10:06:13.428Z"
   },
   {
    "duration": 67,
    "start_time": "2022-06-16T10:06:14.797Z"
   },
   {
    "duration": 19,
    "start_time": "2022-06-16T10:06:15.553Z"
   },
   {
    "duration": 54,
    "start_time": "2022-06-16T10:06:16.228Z"
   },
   {
    "duration": 19,
    "start_time": "2022-06-16T10:06:17.754Z"
   },
   {
    "duration": 17,
    "start_time": "2022-06-16T10:06:25.790Z"
   },
   {
    "duration": 68,
    "start_time": "2022-06-16T10:07:45.957Z"
   },
   {
    "duration": 42,
    "start_time": "2022-06-16T10:09:13.801Z"
   },
   {
    "duration": 20,
    "start_time": "2022-06-16T10:13:27.194Z"
   },
   {
    "duration": 82,
    "start_time": "2022-06-16T10:13:27.980Z"
   },
   {
    "duration": 97,
    "start_time": "2022-06-16T10:13:28.267Z"
   },
   {
    "duration": 98,
    "start_time": "2022-06-16T10:13:28.555Z"
   },
   {
    "duration": 239,
    "start_time": "2022-06-16T10:13:29.036Z"
   },
   {
    "duration": 8,
    "start_time": "2022-06-16T10:13:29.281Z"
   },
   {
    "duration": 79,
    "start_time": "2022-06-16T10:13:29.705Z"
   },
   {
    "duration": 103,
    "start_time": "2022-06-16T10:13:30.091Z"
   },
   {
    "duration": 238,
    "start_time": "2022-06-16T10:13:31.164Z"
   },
   {
    "duration": 106,
    "start_time": "2022-06-16T10:13:31.859Z"
   },
   {
    "duration": 106,
    "start_time": "2022-06-16T10:13:33.358Z"
   },
   {
    "duration": 73,
    "start_time": "2022-06-16T10:13:42.855Z"
   },
   {
    "duration": 43,
    "start_time": "2022-06-16T10:13:44.259Z"
   },
   {
    "duration": 48,
    "start_time": "2022-06-16T10:13:44.932Z"
   },
   {
    "duration": 31,
    "start_time": "2022-06-16T10:13:45.659Z"
   },
   {
    "duration": 37,
    "start_time": "2022-06-16T10:13:47.261Z"
   },
   {
    "duration": 33,
    "start_time": "2022-06-16T10:13:48.090Z"
   },
   {
    "duration": 21,
    "start_time": "2022-06-16T10:13:49.955Z"
   },
   {
    "duration": 38,
    "start_time": "2022-06-16T10:14:03.929Z"
   },
   {
    "duration": 34,
    "start_time": "2022-06-16T10:14:05.389Z"
   },
   {
    "duration": 84,
    "start_time": "2022-06-16T10:14:06.576Z"
   },
   {
    "duration": 41,
    "start_time": "2022-06-16T10:14:07.861Z"
   },
   {
    "duration": 33,
    "start_time": "2022-06-16T10:14:10.103Z"
   },
   {
    "duration": 140,
    "start_time": "2022-06-16T10:14:10.721Z"
   },
   {
    "duration": 207,
    "start_time": "2022-06-16T10:14:15.907Z"
   },
   {
    "duration": 63,
    "start_time": "2022-06-16T10:14:26.456Z"
   },
   {
    "duration": 78,
    "start_time": "2022-06-16T10:14:28.257Z"
   },
   {
    "duration": 27,
    "start_time": "2022-06-16T10:14:31.158Z"
   },
   {
    "duration": 274,
    "start_time": "2022-06-16T10:14:38.472Z"
   },
   {
    "duration": 43,
    "start_time": "2022-06-16T10:15:01.915Z"
   },
   {
    "duration": 34,
    "start_time": "2022-06-16T10:15:05.355Z"
   },
   {
    "duration": 21,
    "start_time": "2022-06-16T10:15:45.592Z"
   },
   {
    "duration": 70,
    "start_time": "2022-06-16T10:16:28.514Z"
   },
   {
    "duration": 31,
    "start_time": "2022-06-16T10:16:55.015Z"
   },
   {
    "duration": 52,
    "start_time": "2022-06-16T10:17:10.818Z"
   },
   {
    "duration": 33,
    "start_time": "2022-06-16T10:17:12.758Z"
   },
   {
    "duration": 34,
    "start_time": "2022-06-16T10:25:18.847Z"
   },
   {
    "duration": 30,
    "start_time": "2022-06-16T10:25:19.520Z"
   },
   {
    "duration": 58,
    "start_time": "2022-06-16T10:25:20.091Z"
   },
   {
    "duration": 11,
    "start_time": "2022-06-16T10:25:20.885Z"
   },
   {
    "duration": 38,
    "start_time": "2022-06-16T10:25:23.280Z"
   },
   {
    "duration": 1249,
    "start_time": "2022-06-16T18:25:35.893Z"
   },
   {
    "duration": 1082,
    "start_time": "2022-06-16T18:25:37.144Z"
   },
   {
    "duration": 3,
    "start_time": "2022-06-16T18:25:38.227Z"
   },
   {
    "duration": 33,
    "start_time": "2022-06-16T18:25:38.232Z"
   },
   {
    "duration": 11,
    "start_time": "2022-06-16T18:25:38.266Z"
   },
   {
    "duration": 741,
    "start_time": "2022-06-16T18:25:38.279Z"
   },
   {
    "duration": 168,
    "start_time": "2022-06-16T18:25:39.022Z"
   },
   {
    "duration": 339,
    "start_time": "2022-06-16T18:25:39.192Z"
   },
   {
    "duration": 115,
    "start_time": "2022-06-16T18:25:39.533Z"
   },
   {
    "duration": 52,
    "start_time": "2022-06-16T18:25:39.651Z"
   },
   {
    "duration": 79,
    "start_time": "2022-06-16T18:25:39.706Z"
   },
   {
    "duration": 372,
    "start_time": "2022-06-16T18:25:39.786Z"
   },
   {
    "duration": 13,
    "start_time": "2022-06-16T18:25:40.160Z"
   },
   {
    "duration": 22,
    "start_time": "2022-06-16T18:25:40.175Z"
   },
   {
    "duration": 5,
    "start_time": "2022-06-16T18:25:40.198Z"
   },
   {
    "duration": 5,
    "start_time": "2022-06-16T18:25:40.205Z"
   },
   {
    "duration": 375,
    "start_time": "2022-06-16T18:25:40.211Z"
   },
   {
    "duration": 109,
    "start_time": "2022-06-16T18:25:40.588Z"
   },
   {
    "duration": 135,
    "start_time": "2022-06-16T18:25:40.699Z"
   },
   {
    "duration": 7,
    "start_time": "2022-06-16T18:25:40.836Z"
   },
   {
    "duration": 28,
    "start_time": "2022-06-16T18:25:40.845Z"
   },
   {
    "duration": 10684,
    "start_time": "2022-06-16T18:25:40.875Z"
   },
   {
    "duration": 301,
    "start_time": "2022-06-16T18:25:51.565Z"
   },
   {
    "duration": 835,
    "start_time": "2022-06-16T18:25:51.871Z"
   },
   {
    "duration": 300,
    "start_time": "2022-06-16T18:25:52.707Z"
   },
   {
    "duration": 183,
    "start_time": "2022-06-16T18:25:53.010Z"
   },
   {
    "duration": 457,
    "start_time": "2022-06-16T18:25:53.195Z"
   },
   {
    "duration": 236,
    "start_time": "2022-06-16T18:25:53.669Z"
   },
   {
    "duration": 194,
    "start_time": "2022-06-16T18:25:53.907Z"
   },
   {
    "duration": 140,
    "start_time": "2022-06-16T18:25:54.103Z"
   },
   {
    "duration": 6,
    "start_time": "2022-06-16T18:25:54.245Z"
   },
   {
    "duration": 74,
    "start_time": "2022-06-16T18:25:54.253Z"
   },
   {
    "duration": 19,
    "start_time": "2022-06-16T18:25:54.329Z"
   },
   {
    "duration": 43,
    "start_time": "2022-06-16T18:25:54.350Z"
   },
   {
    "duration": 20,
    "start_time": "2022-06-16T18:25:54.395Z"
   },
   {
    "duration": 22,
    "start_time": "2022-06-16T18:25:54.416Z"
   },
   {
    "duration": 45,
    "start_time": "2022-06-16T18:25:54.439Z"
   },
   {
    "duration": 136,
    "start_time": "2022-06-16T18:25:54.486Z"
   },
   {
    "duration": 12,
    "start_time": "2022-06-16T18:25:54.623Z"
   },
   {
    "duration": 37,
    "start_time": "2022-06-16T18:25:54.637Z"
   },
   {
    "duration": 412,
    "start_time": "2022-06-16T18:25:54.677Z"
   },
   {
    "duration": 7,
    "start_time": "2022-06-16T18:25:55.091Z"
   },
   {
    "duration": 16,
    "start_time": "2022-06-16T18:25:55.100Z"
   },
   {
    "duration": 65,
    "start_time": "2022-06-16T18:25:55.118Z"
   },
   {
    "duration": 96,
    "start_time": "2022-06-16T18:25:55.184Z"
   },
   {
    "duration": 39,
    "start_time": "2022-06-16T18:25:55.281Z"
   },
   {
    "duration": 16,
    "start_time": "2022-06-16T18:25:55.321Z"
   },
   {
    "duration": 53,
    "start_time": "2022-06-16T18:25:55.339Z"
   },
   {
    "duration": 16,
    "start_time": "2022-06-16T18:25:55.393Z"
   },
   {
    "duration": 16,
    "start_time": "2022-06-16T18:25:55.410Z"
   },
   {
    "duration": 108,
    "start_time": "2022-06-16T18:25:55.428Z"
   },
   {
    "duration": 37,
    "start_time": "2022-06-16T18:25:55.538Z"
   },
   {
    "duration": 19,
    "start_time": "2022-06-16T18:25:55.576Z"
   },
   {
    "duration": 74,
    "start_time": "2022-06-16T18:25:55.597Z"
   },
   {
    "duration": 68,
    "start_time": "2022-06-16T18:25:55.679Z"
   },
   {
    "duration": 87,
    "start_time": "2022-06-16T18:25:55.749Z"
   },
   {
    "duration": 218,
    "start_time": "2022-06-16T18:25:55.838Z"
   },
   {
    "duration": 23,
    "start_time": "2022-06-16T18:25:56.057Z"
   },
   {
    "duration": 63,
    "start_time": "2022-06-16T18:25:56.081Z"
   },
   {
    "duration": 74,
    "start_time": "2022-06-16T18:25:56.146Z"
   },
   {
    "duration": 165,
    "start_time": "2022-06-16T18:25:56.222Z"
   },
   {
    "duration": 89,
    "start_time": "2022-06-16T18:25:56.389Z"
   },
   {
    "duration": 71,
    "start_time": "2022-06-16T18:25:56.480Z"
   },
   {
    "duration": 71,
    "start_time": "2022-06-16T18:25:56.553Z"
   },
   {
    "duration": 24,
    "start_time": "2022-06-16T18:25:56.626Z"
   },
   {
    "duration": 54,
    "start_time": "2022-06-16T18:25:56.651Z"
   },
   {
    "duration": 24,
    "start_time": "2022-06-16T18:25:56.707Z"
   },
   {
    "duration": 48,
    "start_time": "2022-06-16T18:25:56.732Z"
   },
   {
    "duration": 24,
    "start_time": "2022-06-16T18:25:56.781Z"
   },
   {
    "duration": 18,
    "start_time": "2022-06-16T18:25:56.807Z"
   },
   {
    "duration": 54,
    "start_time": "2022-06-16T18:25:56.826Z"
   },
   {
    "duration": 30,
    "start_time": "2022-06-16T18:25:56.882Z"
   },
   {
    "duration": 82,
    "start_time": "2022-06-16T18:25:56.914Z"
   },
   {
    "duration": 38,
    "start_time": "2022-06-16T18:25:56.998Z"
   },
   {
    "duration": 42,
    "start_time": "2022-06-16T18:25:57.038Z"
   },
   {
    "duration": 114,
    "start_time": "2022-06-16T18:25:57.082Z"
   },
   {
    "duration": 55,
    "start_time": "2022-06-16T18:25:57.198Z"
   },
   {
    "duration": 75,
    "start_time": "2022-06-16T18:25:57.255Z"
   },
   {
    "duration": 43,
    "start_time": "2022-06-16T18:25:57.331Z"
   },
   {
    "duration": 19,
    "start_time": "2022-06-16T18:25:57.376Z"
   },
   {
    "duration": 25,
    "start_time": "2022-06-16T18:25:57.397Z"
   },
   {
    "duration": 45,
    "start_time": "2022-06-16T18:25:57.427Z"
   },
   {
    "duration": 33,
    "start_time": "2022-06-16T18:25:57.474Z"
   },
   {
    "duration": 22,
    "start_time": "2022-06-16T18:25:57.509Z"
   },
   {
    "duration": 47,
    "start_time": "2022-06-16T18:25:57.533Z"
   },
   {
    "duration": 41,
    "start_time": "2022-06-16T18:25:57.582Z"
   },
   {
    "duration": 7,
    "start_time": "2022-06-16T18:25:57.625Z"
   },
   {
    "duration": 50,
    "start_time": "2022-06-16T18:25:57.634Z"
   }
  ],
  "kernelspec": {
   "display_name": "Python 3 (ipykernel)",
   "language": "python",
   "name": "python3"
  },
  "language_info": {
   "codemirror_mode": {
    "name": "ipython",
    "version": 3
   },
   "file_extension": ".py",
   "mimetype": "text/x-python",
   "name": "python",
   "nbconvert_exporter": "python",
   "pygments_lexer": "ipython3",
   "version": "3.9.7"
  },
  "toc": {
   "base_numbering": 1,
   "nav_menu": {},
   "number_sections": true,
   "sideBar": true,
   "skip_h1_title": true,
   "title_cell": "Table of Contents",
   "title_sidebar": "Contents",
   "toc_cell": true,
   "toc_position": {
    "height": "calc(100% - 180px)",
    "left": "10px",
    "top": "150px",
    "width": "215.152px"
   },
   "toc_section_display": true,
   "toc_window_display": false
  }
 },
 "nbformat": 4,
 "nbformat_minor": 2
}
